{
 "cells": [
  {
   "cell_type": "markdown",
   "metadata": {},
   "source": [
    "# Machine Learning Homework 1\n",
    "#### Student: Liyan Xu"
   ]
  },
  {
   "cell_type": "markdown",
   "metadata": {},
   "source": [
    "## 1. (Faking) Ridge Regression"
   ]
  },
  {
   "cell_type": "markdown",
   "metadata": {},
   "source": [
    "#### Show that the ridge regression estimates can be obtained by ordinary least squares regression on an augmented data set. We augment the centered matrix X with k additional rows $\\sqrt{\\lambda I}$ and augment y with k zeros. The idea is that by introducing artificial data having response value zero, the fitting procedure is forced to shrink the coefficients towards zero."
   ]
  },
  {
   "cell_type": "markdown",
   "metadata": {},
   "source": [
    "$f_{aug}=(Xw-y)^{2} + (\\sqrt{\\lambda I}w-0)^{2}=(Xw-y)^{2} + \\lambda w^{T}w=f_{o} + λ\\Vert β\\Vert ^{2}_{2}$"
   ]
  },
  {
   "cell_type": "markdown",
   "metadata": {},
   "source": [
    "Therefore using the augmented data set has the same effect as using ridge regularization."
   ]
  },
  {
   "cell_type": "markdown",
   "metadata": {},
   "source": [
    "## 2.  Predicting Appliance Energy Usage using Linear Regression"
   ]
  },
  {
   "cell_type": "markdown",
   "metadata": {},
   "source": [
    "#### a. Train a standard linear regression model only on the training data. What are the RMSE and R2 on the training set, validation set, and test set?"
   ]
  },
  {
   "cell_type": "code",
   "execution_count": 293,
   "metadata": {},
   "outputs": [],
   "source": [
    "import pandas as pd\n",
    "import numpy as np\n",
    "import matplotlib.pyplot as plt\n",
    "%matplotlib inline\n",
    "\n",
    "file_train = 'train.csv'\n",
    "file_valid = 'validation.csv'\n",
    "file_test = 'test.csv'"
   ]
  },
  {
   "cell_type": "code",
   "execution_count": 294,
   "metadata": {},
   "outputs": [
    {
     "data": {
      "text/html": [
       "<div>\n",
       "<style scoped>\n",
       "    .dataframe tbody tr th:only-of-type {\n",
       "        vertical-align: middle;\n",
       "    }\n",
       "\n",
       "    .dataframe tbody tr th {\n",
       "        vertical-align: top;\n",
       "    }\n",
       "\n",
       "    .dataframe thead th {\n",
       "        text-align: right;\n",
       "    }\n",
       "</style>\n",
       "<table border=\"1\" class=\"dataframe\">\n",
       "  <thead>\n",
       "    <tr style=\"text-align: right;\">\n",
       "      <th></th>\n",
       "      <th>Appliances</th>\n",
       "      <th>lights</th>\n",
       "      <th>T1</th>\n",
       "      <th>RH_1</th>\n",
       "      <th>T2</th>\n",
       "      <th>RH_2</th>\n",
       "      <th>T3</th>\n",
       "      <th>RH_3</th>\n",
       "      <th>T4</th>\n",
       "      <th>RH_4</th>\n",
       "      <th>...</th>\n",
       "      <th>T8</th>\n",
       "      <th>RH_8</th>\n",
       "      <th>T9</th>\n",
       "      <th>RH_9</th>\n",
       "      <th>T_out</th>\n",
       "      <th>Press_mm_hg</th>\n",
       "      <th>RH_out</th>\n",
       "      <th>Windspeed</th>\n",
       "      <th>Visibility</th>\n",
       "      <th>Tdewpoint</th>\n",
       "    </tr>\n",
       "  </thead>\n",
       "  <tbody>\n",
       "    <tr>\n",
       "      <th>count</th>\n",
       "      <td>9867.000000</td>\n",
       "      <td>9867.000000</td>\n",
       "      <td>9867.000000</td>\n",
       "      <td>9867.000000</td>\n",
       "      <td>9867.000000</td>\n",
       "      <td>9867.000000</td>\n",
       "      <td>9867.000000</td>\n",
       "      <td>9867.000000</td>\n",
       "      <td>9867.000000</td>\n",
       "      <td>9867.000000</td>\n",
       "      <td>...</td>\n",
       "      <td>9867.000000</td>\n",
       "      <td>9867.000000</td>\n",
       "      <td>9867.000000</td>\n",
       "      <td>9867.000000</td>\n",
       "      <td>9867.000000</td>\n",
       "      <td>9867.000000</td>\n",
       "      <td>9867.000000</td>\n",
       "      <td>9867.000000</td>\n",
       "      <td>9867.000000</td>\n",
       "      <td>9867.00000</td>\n",
       "    </tr>\n",
       "    <tr>\n",
       "      <th>mean</th>\n",
       "      <td>98.509172</td>\n",
       "      <td>5.327861</td>\n",
       "      <td>20.705134</td>\n",
       "      <td>40.306429</td>\n",
       "      <td>19.335261</td>\n",
       "      <td>40.362503</td>\n",
       "      <td>20.812207</td>\n",
       "      <td>40.247603</td>\n",
       "      <td>19.522667</td>\n",
       "      <td>39.553929</td>\n",
       "      <td>...</td>\n",
       "      <td>20.709721</td>\n",
       "      <td>43.916035</td>\n",
       "      <td>17.915381</td>\n",
       "      <td>42.233940</td>\n",
       "      <td>4.391101</td>\n",
       "      <td>756.003811</td>\n",
       "      <td>84.081129</td>\n",
       "      <td>4.516064</td>\n",
       "      <td>39.448819</td>\n",
       "      <td>1.74520</td>\n",
       "    </tr>\n",
       "    <tr>\n",
       "      <th>std</th>\n",
       "      <td>108.937504</td>\n",
       "      <td>9.231654</td>\n",
       "      <td>1.236850</td>\n",
       "      <td>3.908087</td>\n",
       "      <td>1.456727</td>\n",
       "      <td>3.235719</td>\n",
       "      <td>1.180006</td>\n",
       "      <td>3.497662</td>\n",
       "      <td>1.428879</td>\n",
       "      <td>4.846758</td>\n",
       "      <td>...</td>\n",
       "      <td>1.585853</td>\n",
       "      <td>5.833029</td>\n",
       "      <td>1.035449</td>\n",
       "      <td>4.320856</td>\n",
       "      <td>3.677116</td>\n",
       "      <td>8.951456</td>\n",
       "      <td>11.770324</td>\n",
       "      <td>2.726801</td>\n",
       "      <td>13.603770</td>\n",
       "      <td>3.68758</td>\n",
       "    </tr>\n",
       "    <tr>\n",
       "      <th>min</th>\n",
       "      <td>10.000000</td>\n",
       "      <td>0.000000</td>\n",
       "      <td>16.790000</td>\n",
       "      <td>31.426667</td>\n",
       "      <td>16.100000</td>\n",
       "      <td>30.160000</td>\n",
       "      <td>17.200000</td>\n",
       "      <td>32.626667</td>\n",
       "      <td>15.100000</td>\n",
       "      <td>30.723333</td>\n",
       "      <td>...</td>\n",
       "      <td>16.306667</td>\n",
       "      <td>29.600000</td>\n",
       "      <td>14.890000</td>\n",
       "      <td>33.193333</td>\n",
       "      <td>-5.000000</td>\n",
       "      <td>729.300000</td>\n",
       "      <td>45.000000</td>\n",
       "      <td>0.000000</td>\n",
       "      <td>1.000000</td>\n",
       "      <td>-6.60000</td>\n",
       "    </tr>\n",
       "    <tr>\n",
       "      <th>25%</th>\n",
       "      <td>50.000000</td>\n",
       "      <td>0.000000</td>\n",
       "      <td>19.890000</td>\n",
       "      <td>37.090000</td>\n",
       "      <td>18.290000</td>\n",
       "      <td>38.146250</td>\n",
       "      <td>20.100000</td>\n",
       "      <td>37.200000</td>\n",
       "      <td>18.700000</td>\n",
       "      <td>35.352500</td>\n",
       "      <td>...</td>\n",
       "      <td>19.725000</td>\n",
       "      <td>39.400000</td>\n",
       "      <td>17.290000</td>\n",
       "      <td>38.767083</td>\n",
       "      <td>1.880000</td>\n",
       "      <td>749.800000</td>\n",
       "      <td>77.666667</td>\n",
       "      <td>2.000000</td>\n",
       "      <td>28.166667</td>\n",
       "      <td>-0.70000</td>\n",
       "    </tr>\n",
       "    <tr>\n",
       "      <th>50%</th>\n",
       "      <td>60.000000</td>\n",
       "      <td>0.000000</td>\n",
       "      <td>20.790000</td>\n",
       "      <td>39.933333</td>\n",
       "      <td>19.323333</td>\n",
       "      <td>40.326667</td>\n",
       "      <td>20.790000</td>\n",
       "      <td>39.963333</td>\n",
       "      <td>19.600000</td>\n",
       "      <td>38.466667</td>\n",
       "      <td>...</td>\n",
       "      <td>20.790000</td>\n",
       "      <td>43.790000</td>\n",
       "      <td>18.000000</td>\n",
       "      <td>41.163333</td>\n",
       "      <td>4.400000</td>\n",
       "      <td>757.266667</td>\n",
       "      <td>87.833333</td>\n",
       "      <td>4.000000</td>\n",
       "      <td>40.000000</td>\n",
       "      <td>1.45000</td>\n",
       "    </tr>\n",
       "    <tr>\n",
       "      <th>75%</th>\n",
       "      <td>100.000000</td>\n",
       "      <td>10.000000</td>\n",
       "      <td>21.500000</td>\n",
       "      <td>43.500000</td>\n",
       "      <td>20.356667</td>\n",
       "      <td>42.852500</td>\n",
       "      <td>21.600000</td>\n",
       "      <td>43.530000</td>\n",
       "      <td>20.500000</td>\n",
       "      <td>43.650833</td>\n",
       "      <td>...</td>\n",
       "      <td>21.823333</td>\n",
       "      <td>48.818056</td>\n",
       "      <td>18.550000</td>\n",
       "      <td>45.933333</td>\n",
       "      <td>7.000000</td>\n",
       "      <td>763.300000</td>\n",
       "      <td>93.000000</td>\n",
       "      <td>6.166667</td>\n",
       "      <td>47.916667</td>\n",
       "      <td>3.90000</td>\n",
       "    </tr>\n",
       "    <tr>\n",
       "      <th>max</th>\n",
       "      <td>1080.000000</td>\n",
       "      <td>70.000000</td>\n",
       "      <td>24.100000</td>\n",
       "      <td>63.360000</td>\n",
       "      <td>23.600000</td>\n",
       "      <td>50.260000</td>\n",
       "      <td>25.500000</td>\n",
       "      <td>50.163333</td>\n",
       "      <td>23.760000</td>\n",
       "      <td>51.090000</td>\n",
       "      <td>...</td>\n",
       "      <td>25.200000</td>\n",
       "      <td>58.780000</td>\n",
       "      <td>20.133333</td>\n",
       "      <td>53.326667</td>\n",
       "      <td>13.100000</td>\n",
       "      <td>772.300000</td>\n",
       "      <td>100.000000</td>\n",
       "      <td>14.000000</td>\n",
       "      <td>65.000000</td>\n",
       "      <td>10.70000</td>\n",
       "    </tr>\n",
       "  </tbody>\n",
       "</table>\n",
       "<p>8 rows × 26 columns</p>\n",
       "</div>"
      ],
      "text/plain": [
       "        Appliances       lights           T1         RH_1           T2  \\\n",
       "count  9867.000000  9867.000000  9867.000000  9867.000000  9867.000000   \n",
       "mean     98.509172     5.327861    20.705134    40.306429    19.335261   \n",
       "std     108.937504     9.231654     1.236850     3.908087     1.456727   \n",
       "min      10.000000     0.000000    16.790000    31.426667    16.100000   \n",
       "25%      50.000000     0.000000    19.890000    37.090000    18.290000   \n",
       "50%      60.000000     0.000000    20.790000    39.933333    19.323333   \n",
       "75%     100.000000    10.000000    21.500000    43.500000    20.356667   \n",
       "max    1080.000000    70.000000    24.100000    63.360000    23.600000   \n",
       "\n",
       "              RH_2           T3         RH_3           T4         RH_4  \\\n",
       "count  9867.000000  9867.000000  9867.000000  9867.000000  9867.000000   \n",
       "mean     40.362503    20.812207    40.247603    19.522667    39.553929   \n",
       "std       3.235719     1.180006     3.497662     1.428879     4.846758   \n",
       "min      30.160000    17.200000    32.626667    15.100000    30.723333   \n",
       "25%      38.146250    20.100000    37.200000    18.700000    35.352500   \n",
       "50%      40.326667    20.790000    39.963333    19.600000    38.466667   \n",
       "75%      42.852500    21.600000    43.530000    20.500000    43.650833   \n",
       "max      50.260000    25.500000    50.163333    23.760000    51.090000   \n",
       "\n",
       "          ...               T8         RH_8           T9         RH_9  \\\n",
       "count     ...      9867.000000  9867.000000  9867.000000  9867.000000   \n",
       "mean      ...        20.709721    43.916035    17.915381    42.233940   \n",
       "std       ...         1.585853     5.833029     1.035449     4.320856   \n",
       "min       ...        16.306667    29.600000    14.890000    33.193333   \n",
       "25%       ...        19.725000    39.400000    17.290000    38.767083   \n",
       "50%       ...        20.790000    43.790000    18.000000    41.163333   \n",
       "75%       ...        21.823333    48.818056    18.550000    45.933333   \n",
       "max       ...        25.200000    58.780000    20.133333    53.326667   \n",
       "\n",
       "             T_out  Press_mm_hg       RH_out    Windspeed   Visibility  \\\n",
       "count  9867.000000  9867.000000  9867.000000  9867.000000  9867.000000   \n",
       "mean      4.391101   756.003811    84.081129     4.516064    39.448819   \n",
       "std       3.677116     8.951456    11.770324     2.726801    13.603770   \n",
       "min      -5.000000   729.300000    45.000000     0.000000     1.000000   \n",
       "25%       1.880000   749.800000    77.666667     2.000000    28.166667   \n",
       "50%       4.400000   757.266667    87.833333     4.000000    40.000000   \n",
       "75%       7.000000   763.300000    93.000000     6.166667    47.916667   \n",
       "max      13.100000   772.300000   100.000000    14.000000    65.000000   \n",
       "\n",
       "        Tdewpoint  \n",
       "count  9867.00000  \n",
       "mean      1.74520  \n",
       "std       3.68758  \n",
       "min      -6.60000  \n",
       "25%      -0.70000  \n",
       "50%       1.45000  \n",
       "75%       3.90000  \n",
       "max      10.70000  \n",
       "\n",
       "[8 rows x 26 columns]"
      ]
     },
     "execution_count": 294,
     "metadata": {},
     "output_type": "execute_result"
    }
   ],
   "source": [
    "# Read data; use datetime column as row label\n",
    "df_train = pd.read_csv(file_train, index_col=0)\n",
    "df_valid = pd.read_csv(file_valid, index_col=0)\n",
    "df_test = pd.read_csv(file_test, index_col=0)\n",
    "\n",
    "df_train.describe()"
   ]
  },
  {
   "cell_type": "code",
   "execution_count": 295,
   "metadata": {},
   "outputs": [],
   "source": [
    "# Prepare data\n",
    "X_train_orgn = df_train.drop(columns='Appliances')\n",
    "y_train = df_train['Appliances']\n",
    "X_valid_orgn = df_valid.drop(columns='Appliances')\n",
    "y_valid = df_valid['Appliances']\n",
    "X_test_orgn = df_test.drop(columns='Appliances')\n",
    "y_test = df_test['Appliances']"
   ]
  },
  {
   "cell_type": "code",
   "execution_count": 296,
   "metadata": {},
   "outputs": [],
   "source": [
    "# standardize data\n",
    "X_train_mean = np.mean(X_train_orgn, axis=0)\n",
    "X_train_std = np.std(X_train_orgn, axis=0)\n",
    "\n",
    "X_train = (X_train_orgn - X_train_mean) / X_train_std\n",
    "X_valid = (X_valid_orgn - X_train_mean) / X_train_std\n",
    "X_test = (X_test_orgn - X_train_mean) / X_train_std"
   ]
  },
  {
   "cell_type": "code",
   "execution_count": 297,
   "metadata": {},
   "outputs": [
    {
     "name": "stdout",
     "output_type": "stream",
     "text": [
      "98.50917198744466\n",
      "[ 22.99877096 -15.62031492  43.41595314 -15.34416963 -60.2984271\n",
      "  26.48600873  53.75696621  -2.0455629   -7.56353852  -0.66715067\n",
      "  -2.22350892  21.77916936  -1.45668738   1.45852307   2.29692828\n",
      "   3.91506798 -25.79423406  -1.06991165 -23.32852508 -67.41823365\n",
      "   4.0431759  -28.50354259   0.35195723   3.18806125  63.36974119]\n"
     ]
    }
   ],
   "source": [
    "# Train linear regression model\n",
    "from sklearn import linear_model\n",
    "\n",
    "lm = linear_model.LinearRegression()\n",
    "lm.fit(X_train, y_train)\n",
    "\n",
    "print(lm.intercept_)\n",
    "print(lm.coef_)"
   ]
  },
  {
   "cell_type": "code",
   "execution_count": 298,
   "metadata": {},
   "outputs": [],
   "source": [
    "# Define RMSE\n",
    "def rmse(lm, X, y):\n",
    "    return np.sqrt(np.mean((lm.predict(X) - y)**2))"
   ]
  },
  {
   "cell_type": "code",
   "execution_count": 299,
   "metadata": {},
   "outputs": [],
   "source": [
    "# Define R Squared\n",
    "def r_squared(lm, X, y):\n",
    "    return 1 - np.sum((y - lm.predict(X))**2) / np.sum((y - np.mean(y))**2)"
   ]
  },
  {
   "cell_type": "code",
   "execution_count": 300,
   "metadata": {},
   "outputs": [
    {
     "data": {
      "text/html": [
       "<div>\n",
       "<style scoped>\n",
       "    .dataframe tbody tr th:only-of-type {\n",
       "        vertical-align: middle;\n",
       "    }\n",
       "\n",
       "    .dataframe tbody tr th {\n",
       "        vertical-align: top;\n",
       "    }\n",
       "\n",
       "    .dataframe thead th {\n",
       "        text-align: right;\n",
       "    }\n",
       "</style>\n",
       "<table border=\"1\" class=\"dataframe\">\n",
       "  <thead>\n",
       "    <tr style=\"text-align: right;\">\n",
       "      <th></th>\n",
       "      <th>RMSE</th>\n",
       "      <th>R Squared</th>\n",
       "    </tr>\n",
       "  </thead>\n",
       "  <tbody>\n",
       "    <tr>\n",
       "      <th>train</th>\n",
       "      <td>98.235447</td>\n",
       "      <td>0.186747</td>\n",
       "    </tr>\n",
       "    <tr>\n",
       "      <th>validation</th>\n",
       "      <td>97.536065</td>\n",
       "      <td>0.002646</td>\n",
       "    </tr>\n",
       "    <tr>\n",
       "      <th>test</th>\n",
       "      <td>100.041271</td>\n",
       "      <td>-0.211952</td>\n",
       "    </tr>\n",
       "  </tbody>\n",
       "</table>\n",
       "</div>"
      ],
      "text/plain": [
       "                  RMSE  R Squared\n",
       "train        98.235447   0.186747\n",
       "validation   97.536065   0.002646\n",
       "test        100.041271  -0.211952"
      ]
     },
     "execution_count": 300,
     "metadata": {},
     "output_type": "execute_result"
    }
   ],
   "source": [
    "# Compute RMSE and R Squared scores\n",
    "rmse_train = rmse(lm, X_train, y_train)\n",
    "r2_train = r_squared(lm, X_train, y_train)\n",
    "rmse_valid = rmse(lm, X_valid, y_valid)\n",
    "r2_valid = r_squared(lm, X_valid, y_valid)\n",
    "rmse_test = rmse(lm, X_test, y_test)\n",
    "r2_test = r_squared(lm, X_test, y_test)\n",
    "\n",
    "# Print out scores\n",
    "scores = pd.DataFrame([[rmse_train, r2_train], [rmse_valid, r2_valid], [rmse_test, r2_test]],\n",
    "                      ['train', 'validation', 'test'],\n",
    "                      ['RMSE', 'R Squared'])\n",
    "scores"
   ]
  },
  {
   "cell_type": "markdown",
   "metadata": {},
   "source": [
    "#### b. Train a standard linear regression model using training and validation together. What are the RMSE and R2 on the training set, validation set, and test set? How does this compare to the previous part? And what do the numbers suggest?"
   ]
  },
  {
   "cell_type": "code",
   "execution_count": 301,
   "metadata": {},
   "outputs": [],
   "source": [
    "# Prepare data\n",
    "X_train_b = np.vstack((X_train, X_valid))\n",
    "y_train_b = np.hstack((y_train, y_valid))"
   ]
  },
  {
   "cell_type": "code",
   "execution_count": 302,
   "metadata": {},
   "outputs": [
    {
     "name": "stdout",
     "output_type": "stream",
     "text": [
      "98.55118784639768\n",
      "[ 19.41224562   0.18935738  54.35508986 -27.69159799 -44.9066407\n",
      "  31.07153158  30.22974575  -5.3329941   -7.83800175  -1.87858817\n",
      "   1.10357652  35.35137898   7.08622652   1.63119782  -5.11613172\n",
      "  12.51145628 -33.36604063 -13.72152823  -4.26741111 -43.41612964\n",
      "   1.18551315 -11.89760342   2.29445422   2.63160099  21.81484108]\n"
     ]
    }
   ],
   "source": [
    "# Train linear regression model\n",
    "lm.fit(X_train_b, y_train_b)\n",
    "\n",
    "print(lm.intercept_)\n",
    "print(lm.coef_)"
   ]
  },
  {
   "cell_type": "code",
   "execution_count": 303,
   "metadata": {},
   "outputs": [
    {
     "data": {
      "text/html": [
       "<div>\n",
       "<style scoped>\n",
       "    .dataframe tbody tr th:only-of-type {\n",
       "        vertical-align: middle;\n",
       "    }\n",
       "\n",
       "    .dataframe tbody tr th {\n",
       "        vertical-align: top;\n",
       "    }\n",
       "\n",
       "    .dataframe thead th {\n",
       "        text-align: right;\n",
       "    }\n",
       "</style>\n",
       "<table border=\"1\" class=\"dataframe\">\n",
       "  <thead>\n",
       "    <tr style=\"text-align: right;\">\n",
       "      <th></th>\n",
       "      <th>RMSE</th>\n",
       "      <th>R Squared</th>\n",
       "    </tr>\n",
       "  </thead>\n",
       "  <tbody>\n",
       "    <tr>\n",
       "      <th>train</th>\n",
       "      <td>99.388509</td>\n",
       "      <td>0.167544</td>\n",
       "    </tr>\n",
       "    <tr>\n",
       "      <th>validation</th>\n",
       "      <td>88.702055</td>\n",
       "      <td>0.175128</td>\n",
       "    </tr>\n",
       "    <tr>\n",
       "      <th>test</th>\n",
       "      <td>86.406722</td>\n",
       "      <td>0.095888</td>\n",
       "    </tr>\n",
       "  </tbody>\n",
       "</table>\n",
       "</div>"
      ],
      "text/plain": [
       "                 RMSE  R Squared\n",
       "train       99.388509   0.167544\n",
       "validation  88.702055   0.175128\n",
       "test        86.406722   0.095888"
      ]
     },
     "execution_count": 303,
     "metadata": {},
     "output_type": "execute_result"
    }
   ],
   "source": [
    "# Compute RMSE and R Squared scores\n",
    "rmse_train = rmse(lm, X_train, y_train)\n",
    "r2_train = r_squared(lm, X_train, y_train)\n",
    "rmse_valid = rmse(lm, X_valid, y_valid)\n",
    "r2_valid = r_squared(lm, X_valid, y_valid)\n",
    "rmse_test = rmse(lm, X_test, y_test)\n",
    "r2_test = r_squared(lm, X_test, y_test)\n",
    "\n",
    "# Print out scores\n",
    "scores = pd.DataFrame([[rmse_train, r2_train], [rmse_valid, r2_valid], [rmse_test, r2_test]],\n",
    "                      ['train', 'validation', 'test'],\n",
    "                      ['RMSE', 'R Squared'])\n",
    "scores"
   ]
  },
  {
   "cell_type": "markdown",
   "metadata": {},
   "source": [
    "The RMSE scores for validation and test data are lower, and the R Squared scores for valdiation and test data are higher, which means the linear regression model in (b) overall predicts better results.\n",
    "Also the RMSE score for training data is slightly higher, and the R Squared score for training data is slightly lower.\n",
    "\n",
    "It suggests that\n",
    "* In (a), we overfit the model towards training set, which doesn't generalize enough to overall data. In (b), we add more training data, which causes RMSE higher for original training set, but lower for overall dataset; it is now less overfitted towards original training set, therefore it yeilds better prediction.\n",
    "* Adding more training data is helpful to reduce overfitting and yields better results."
   ]
  },
  {
   "cell_type": "markdown",
   "metadata": {},
   "source": [
    "#### c. Train ridge regression and lasso regression only on the training data. You will want to consider a range of parameter values (λ) to find the optimal regularization parameter that gives you the lowest RMSE or R2 on the validation dataset. Report (using a table) the RMSE and R2 for training, validation, and test for all the different (λ) values you tried."
   ]
  },
  {
   "cell_type": "code",
   "execution_count": 205,
   "metadata": {},
   "outputs": [],
   "source": [
    "# Define function to train with a list of lambdas\n",
    "def train_with_lambdas(lm, lambdas, X_train, y_train, X_valid, y_valid, X_test, y_test):\n",
    "    rmses = []\n",
    "    r2s = []\n",
    "    for lambda_ in lambdas:\n",
    "        lm.set_params(alpha=lambda_)\n",
    "        lm.fit(X_train, y_train)\n",
    "        rmses.append([rmse(lm, X_train, y_train),\n",
    "                    rmse(lm, X_valid, y_valid),\n",
    "                    rmse(lm, X_test, y_test)])\n",
    "        r2s.append([r_squared(lm, X_train, y_train),\n",
    "                  r_squared(lm, X_valid, y_valid),\n",
    "                  r_squared(lm, X_test, y_test)])\n",
    "    return rmses, r2s"
   ]
  },
  {
   "cell_type": "code",
   "execution_count": 206,
   "metadata": {},
   "outputs": [],
   "source": [
    "# Train ridge linear regression model\n",
    "lm_ridge = linear_model.Ridge()\n",
    "lambdas_ridge = np.linspace(0, 10000, 100)\n",
    "\n",
    "rmses_ridge, r2s_ridge = train_with_lambdas(lm_ridge, lambdas_ridge,\n",
    "                                            X_train, y_train,\n",
    "                                            X_valid, y_valid,\n",
    "                                            X_test, y_test)"
   ]
  },
  {
   "cell_type": "code",
   "execution_count": 207,
   "metadata": {},
   "outputs": [],
   "source": [
    "# Train lasso linear regression model\n",
    "lm_lasso = linear_model.Lasso()\n",
    "lambdas_lasso = np.linspace(0.1, 10, 100)\n",
    "\n",
    "rmses_lasso, r2s_lasso = train_with_lambdas(lm_lasso, lambdas_lasso,\n",
    "                                            X_train, y_train,\n",
    "                                            X_valid, y_valid,\n",
    "                                            X_test, y_test)"
   ]
  },
  {
   "cell_type": "code",
   "execution_count": 208,
   "metadata": {},
   "outputs": [
    {
     "data": {
      "image/png": "[encoded data removed]",
      "text/plain": [
       "<Figure size 432x288 with 4 Axes>"
      ]
     },
     "metadata": {
      "needs_background": "light"
     },
     "output_type": "display_data"
    }
   ],
   "source": [
    "# Plot scores for ridge\n",
    "fig, (axs_ridge, axs_lasso) = plt.subplots(2, 2)\n",
    "\n",
    "lineObjects_ridge_rmse = axs_ridge[0].plot(lambdas_ridge, rmses_ridge)\n",
    "axs_ridge[0].set_xlabel('lambda')\n",
    "axs_ridge[0].set_ylabel('RMSE (Ridge)')\n",
    "axs_ridge[0].legend(lineObjects_ridge_rmse, ['train', 'validation', 'test'])\n",
    "\n",
    "lineObjects_ridge_r2 = axs_ridge[1].plot(lambdas_ridge, r2s_ridge)\n",
    "axs_ridge[1].set_xlabel('lambda')\n",
    "axs_ridge[1].set_ylabel('R Squared (Ridge)')\n",
    "axs_ridge[1].legend(lineObjects_ridge_r2, ['train', 'validation', 'test'])\n",
    "\n",
    "lineObjects_lasso_rmse = axs_lasso[0].plot(lambdas_lasso, rmses_lasso)\n",
    "axs_lasso[0].set_xlabel('lambda')\n",
    "axs_lasso[0].set_ylabel('RMSE (Lasso)')\n",
    "axs_lasso[0].legend(lineObjects_lasso_rmse, ['train', 'validation', 'test'])\n",
    "\n",
    "lineObjects_lasso_r2 = axs_lasso[1].plot(lambdas_lasso, r2s_lasso)\n",
    "axs_lasso[1].set_xlabel('lambda')\n",
    "axs_lasso[1].set_ylabel('R Squared (Lasso)')\n",
    "axs_lasso[1].legend(lineObjects_lasso_r2, ['train', 'validation', 'test'])\n",
    "\n",
    "plt.tight_layout()\n",
    "plt.show()"
   ]
  },
  {
   "cell_type": "markdown",
   "metadata": {},
   "source": [
    "We can see from the plot that,\n",
    "* There exists a $\\lambda$ for **ridge** in $(2000, 5000)$ that generates minimum RMSE scores and maximum R Squared scores (for **standardized** validation and test data).\n",
    "* There exists a $\\lambda$ for **lasso** in $(3, 4)$ that generates minimum RMSE scores and maximum R Squared scores (for **standardized** validation and test data).\n",
    "\n",
    "Show tables with tighter bound of $\\lambda$ to pick the optimal regularization parameter."
   ]
  },
  {
   "cell_type": "code",
   "execution_count": 209,
   "metadata": {},
   "outputs": [],
   "source": [
    "# Re-train ridge linear regression model with tighter lambda bound\n",
    "lambdas_ridge = np.linspace(2000, 5000, 20)\n",
    "\n",
    "rmses_ridge, r2s_ridge = train_with_lambdas(lm_ridge, lambdas_ridge,\n",
    "                                            X_train, y_train,\n",
    "                                            X_valid, y_valid,\n",
    "                                            X_test, y_test)"
   ]
  },
  {
   "cell_type": "code",
   "execution_count": 210,
   "metadata": {},
   "outputs": [
    {
     "data": {
      "text/html": [
       "<div>\n",
       "<style scoped>\n",
       "    .dataframe tbody tr th:only-of-type {\n",
       "        vertical-align: middle;\n",
       "    }\n",
       "\n",
       "    .dataframe tbody tr th {\n",
       "        vertical-align: top;\n",
       "    }\n",
       "\n",
       "    .dataframe thead th {\n",
       "        text-align: right;\n",
       "    }\n",
       "</style>\n",
       "<table border=\"1\" class=\"dataframe\">\n",
       "  <thead>\n",
       "    <tr style=\"text-align: right;\">\n",
       "      <th></th>\n",
       "      <th>2000.0</th>\n",
       "      <th>2157.8947368421054</th>\n",
       "      <th>2315.7894736842104</th>\n",
       "      <th>2473.684210526316</th>\n",
       "      <th>2631.578947368421</th>\n",
       "      <th>2789.4736842105262</th>\n",
       "      <th>2947.3684210526317</th>\n",
       "      <th>3105.2631578947367</th>\n",
       "      <th>3263.157894736842</th>\n",
       "      <th>3421.0526315789475</th>\n",
       "      <th>3578.9473684210525</th>\n",
       "      <th>3736.842105263158</th>\n",
       "      <th>3894.7368421052633</th>\n",
       "      <th>4052.6315789473683</th>\n",
       "      <th>4210.526315789473</th>\n",
       "      <th>4368.421052631578</th>\n",
       "      <th>4526.315789473684</th>\n",
       "      <th>4684.21052631579</th>\n",
       "      <th>4842.105263157895</th>\n",
       "      <th>5000.0</th>\n",
       "    </tr>\n",
       "  </thead>\n",
       "  <tbody>\n",
       "    <tr>\n",
       "      <th>train</th>\n",
       "      <td>100.299077</td>\n",
       "      <td>100.404846</td>\n",
       "      <td>100.505703</td>\n",
       "      <td>100.602134</td>\n",
       "      <td>100.694555</td>\n",
       "      <td>100.783328</td>\n",
       "      <td>100.868767</td>\n",
       "      <td>100.951146</td>\n",
       "      <td>101.030706</td>\n",
       "      <td>101.107661</td>\n",
       "      <td>101.182198</td>\n",
       "      <td>101.254485</td>\n",
       "      <td>101.324671</td>\n",
       "      <td>101.392890</td>\n",
       "      <td>101.459262</td>\n",
       "      <td>101.523897</td>\n",
       "      <td>101.586893</td>\n",
       "      <td>101.648339</td>\n",
       "      <td>101.708316</td>\n",
       "      <td>101.766900</td>\n",
       "    </tr>\n",
       "    <tr>\n",
       "      <th>validation</th>\n",
       "      <td>94.211559</td>\n",
       "      <td>94.192197</td>\n",
       "      <td>94.179900</td>\n",
       "      <td>94.173246</td>\n",
       "      <td>94.171141</td>\n",
       "      <td>94.172729</td>\n",
       "      <td>94.177337</td>\n",
       "      <td>94.184428</td>\n",
       "      <td>94.193569</td>\n",
       "      <td>94.204410</td>\n",
       "      <td>94.216665</td>\n",
       "      <td>94.230098</td>\n",
       "      <td>94.244513</td>\n",
       "      <td>94.259745</td>\n",
       "      <td>94.275659</td>\n",
       "      <td>94.292138</td>\n",
       "      <td>94.309084</td>\n",
       "      <td>94.326412</td>\n",
       "      <td>94.344053</td>\n",
       "      <td>94.361943</td>\n",
       "    </tr>\n",
       "    <tr>\n",
       "      <th>test</th>\n",
       "      <td>89.117517</td>\n",
       "      <td>88.994336</td>\n",
       "      <td>88.894365</td>\n",
       "      <td>88.813374</td>\n",
       "      <td>88.748075</td>\n",
       "      <td>88.695879</td>\n",
       "      <td>88.654719</td>\n",
       "      <td>88.622928</td>\n",
       "      <td>88.599145</td>\n",
       "      <td>88.582249</td>\n",
       "      <td>88.571308</td>\n",
       "      <td>88.565539</td>\n",
       "      <td>88.564280</td>\n",
       "      <td>88.566968</td>\n",
       "      <td>88.573120</td>\n",
       "      <td>88.582318</td>\n",
       "      <td>88.594199</td>\n",
       "      <td>88.608448</td>\n",
       "      <td>88.624788</td>\n",
       "      <td>88.642973</td>\n",
       "    </tr>\n",
       "  </tbody>\n",
       "</table>\n",
       "</div>"
      ],
      "text/plain": [
       "            2000.000000  2157.894737  2315.789474  2473.684211  2631.578947  \\\n",
       "train        100.299077   100.404846   100.505703   100.602134   100.694555   \n",
       "validation    94.211559    94.192197    94.179900    94.173246    94.171141   \n",
       "test          89.117517    88.994336    88.894365    88.813374    88.748075   \n",
       "\n",
       "            2789.473684  2947.368421  3105.263158  3263.157895  3421.052632  \\\n",
       "train        100.783328   100.868767   100.951146   101.030706   101.107661   \n",
       "validation    94.172729    94.177337    94.184428    94.193569    94.204410   \n",
       "test          88.695879    88.654719    88.622928    88.599145    88.582249   \n",
       "\n",
       "            3578.947368  3736.842105  3894.736842  4052.631579  4210.526316  \\\n",
       "train        101.182198   101.254485   101.324671   101.392890   101.459262   \n",
       "validation    94.216665    94.230098    94.244513    94.259745    94.275659   \n",
       "test          88.571308    88.565539    88.564280    88.566968    88.573120   \n",
       "\n",
       "            4368.421053  4526.315789  4684.210526  4842.105263  5000.000000  \n",
       "train        101.523897   101.586893   101.648339   101.708316   101.766900  \n",
       "validation    94.292138    94.309084    94.326412    94.344053    94.361943  \n",
       "test          88.582318    88.594199    88.608448    88.624788    88.642973  "
      ]
     },
     "execution_count": 210,
     "metadata": {},
     "output_type": "execute_result"
    }
   ],
   "source": [
    "# Show RMSE scores for ridge\n",
    "df_ridge_rmses = pd.DataFrame(np.array(rmses_ridge).T,\n",
    "                        ['train', 'validation', 'test'],\n",
    "                        lambdas_ridge)\n",
    "df_ridge_rmses"
   ]
  },
  {
   "cell_type": "code",
   "execution_count": 211,
   "metadata": {},
   "outputs": [
    {
     "data": {
      "text/html": [
       "<div>\n",
       "<style scoped>\n",
       "    .dataframe tbody tr th:only-of-type {\n",
       "        vertical-align: middle;\n",
       "    }\n",
       "\n",
       "    .dataframe tbody tr th {\n",
       "        vertical-align: top;\n",
       "    }\n",
       "\n",
       "    .dataframe thead th {\n",
       "        text-align: right;\n",
       "    }\n",
       "</style>\n",
       "<table border=\"1\" class=\"dataframe\">\n",
       "  <thead>\n",
       "    <tr style=\"text-align: right;\">\n",
       "      <th></th>\n",
       "      <th>2000.0</th>\n",
       "      <th>2157.8947368421054</th>\n",
       "      <th>2315.7894736842104</th>\n",
       "      <th>2473.684210526316</th>\n",
       "      <th>2631.578947368421</th>\n",
       "      <th>2789.4736842105262</th>\n",
       "      <th>2947.3684210526317</th>\n",
       "      <th>3105.2631578947367</th>\n",
       "      <th>3263.157894736842</th>\n",
       "      <th>3421.0526315789475</th>\n",
       "      <th>3578.9473684210525</th>\n",
       "      <th>3736.842105263158</th>\n",
       "      <th>3894.7368421052633</th>\n",
       "      <th>4052.6315789473683</th>\n",
       "      <th>4210.526315789473</th>\n",
       "      <th>4368.421052631578</th>\n",
       "      <th>4526.315789473684</th>\n",
       "      <th>4684.21052631579</th>\n",
       "      <th>4842.105263157895</th>\n",
       "      <th>5000.0</th>\n",
       "    </tr>\n",
       "  </thead>\n",
       "  <tbody>\n",
       "    <tr>\n",
       "      <th>train</th>\n",
       "      <td>0.152220</td>\n",
       "      <td>0.150431</td>\n",
       "      <td>0.148724</td>\n",
       "      <td>0.147089</td>\n",
       "      <td>0.145521</td>\n",
       "      <td>0.144014</td>\n",
       "      <td>0.142562</td>\n",
       "      <td>0.141161</td>\n",
       "      <td>0.139807</td>\n",
       "      <td>0.138496</td>\n",
       "      <td>0.137225</td>\n",
       "      <td>0.135992</td>\n",
       "      <td>0.134794</td>\n",
       "      <td>0.133628</td>\n",
       "      <td>0.132494</td>\n",
       "      <td>0.131388</td>\n",
       "      <td>0.130310</td>\n",
       "      <td>0.129258</td>\n",
       "      <td>0.128230</td>\n",
       "      <td>0.127225</td>\n",
       "    </tr>\n",
       "    <tr>\n",
       "      <th>validation</th>\n",
       "      <td>0.069476</td>\n",
       "      <td>0.069859</td>\n",
       "      <td>0.070102</td>\n",
       "      <td>0.070233</td>\n",
       "      <td>0.070275</td>\n",
       "      <td>0.070243</td>\n",
       "      <td>0.070152</td>\n",
       "      <td>0.070012</td>\n",
       "      <td>0.069832</td>\n",
       "      <td>0.069618</td>\n",
       "      <td>0.069375</td>\n",
       "      <td>0.069110</td>\n",
       "      <td>0.068825</td>\n",
       "      <td>0.068524</td>\n",
       "      <td>0.068210</td>\n",
       "      <td>0.067884</td>\n",
       "      <td>0.067549</td>\n",
       "      <td>0.067206</td>\n",
       "      <td>0.066857</td>\n",
       "      <td>0.066503</td>\n",
       "    </tr>\n",
       "    <tr>\n",
       "      <th>test</th>\n",
       "      <td>0.038270</td>\n",
       "      <td>0.040927</td>\n",
       "      <td>0.043080</td>\n",
       "      <td>0.044823</td>\n",
       "      <td>0.046227</td>\n",
       "      <td>0.047349</td>\n",
       "      <td>0.048233</td>\n",
       "      <td>0.048915</td>\n",
       "      <td>0.049426</td>\n",
       "      <td>0.049788</td>\n",
       "      <td>0.050023</td>\n",
       "      <td>0.050147</td>\n",
       "      <td>0.050174</td>\n",
       "      <td>0.050116</td>\n",
       "      <td>0.049984</td>\n",
       "      <td>0.049787</td>\n",
       "      <td>0.049532</td>\n",
       "      <td>0.049226</td>\n",
       "      <td>0.048875</td>\n",
       "      <td>0.048485</td>\n",
       "    </tr>\n",
       "  </tbody>\n",
       "</table>\n",
       "</div>"
      ],
      "text/plain": [
       "            2000.000000  2157.894737  2315.789474  2473.684211  2631.578947  \\\n",
       "train          0.152220     0.150431     0.148724     0.147089     0.145521   \n",
       "validation     0.069476     0.069859     0.070102     0.070233     0.070275   \n",
       "test           0.038270     0.040927     0.043080     0.044823     0.046227   \n",
       "\n",
       "            2789.473684  2947.368421  3105.263158  3263.157895  3421.052632  \\\n",
       "train          0.144014     0.142562     0.141161     0.139807     0.138496   \n",
       "validation     0.070243     0.070152     0.070012     0.069832     0.069618   \n",
       "test           0.047349     0.048233     0.048915     0.049426     0.049788   \n",
       "\n",
       "            3578.947368  3736.842105  3894.736842  4052.631579  4210.526316  \\\n",
       "train          0.137225     0.135992     0.134794     0.133628     0.132494   \n",
       "validation     0.069375     0.069110     0.068825     0.068524     0.068210   \n",
       "test           0.050023     0.050147     0.050174     0.050116     0.049984   \n",
       "\n",
       "            4368.421053  4526.315789  4684.210526  4842.105263  5000.000000  \n",
       "train          0.131388     0.130310     0.129258     0.128230     0.127225  \n",
       "validation     0.067884     0.067549     0.067206     0.066857     0.066503  \n",
       "test           0.049787     0.049532     0.049226     0.048875     0.048485  "
      ]
     },
     "execution_count": 211,
     "metadata": {},
     "output_type": "execute_result"
    }
   ],
   "source": [
    "# Show R Squared scores for ridge\n",
    "df_ridge_r2s = pd.DataFrame(np.array(r2s_ridge).T,\n",
    "                        ['train', 'validation', 'test'],\n",
    "                        lambdas_ridge)\n",
    "df_ridge_r2s"
   ]
  },
  {
   "cell_type": "code",
   "execution_count": 212,
   "metadata": {},
   "outputs": [],
   "source": [
    "# Re-train lasso linear regression model with tighter lambda bound\n",
    "lambdas_lasso = np.linspace(3, 4, 20)\n",
    "\n",
    "rmses_lasso, r2s_lasso = train_with_lambdas(lm_lasso, lambdas_lasso,\n",
    "                                            X_train, y_train,\n",
    "                                            X_valid, y_valid,\n",
    "                                            X_test, y_test)"
   ]
  },
  {
   "cell_type": "code",
   "execution_count": 213,
   "metadata": {},
   "outputs": [
    {
     "data": {
      "text/html": [
       "<div>\n",
       "<style scoped>\n",
       "    .dataframe tbody tr th:only-of-type {\n",
       "        vertical-align: middle;\n",
       "    }\n",
       "\n",
       "    .dataframe tbody tr th {\n",
       "        vertical-align: top;\n",
       "    }\n",
       "\n",
       "    .dataframe thead th {\n",
       "        text-align: right;\n",
       "    }\n",
       "</style>\n",
       "<table border=\"1\" class=\"dataframe\">\n",
       "  <thead>\n",
       "    <tr style=\"text-align: right;\">\n",
       "      <th></th>\n",
       "      <th>3.0</th>\n",
       "      <th>3.0526315789473686</th>\n",
       "      <th>3.1052631578947367</th>\n",
       "      <th>3.1578947368421053</th>\n",
       "      <th>3.2105263157894735</th>\n",
       "      <th>3.263157894736842</th>\n",
       "      <th>3.3157894736842106</th>\n",
       "      <th>3.3684210526315788</th>\n",
       "      <th>3.4210526315789473</th>\n",
       "      <th>3.473684210526316</th>\n",
       "      <th>3.526315789473684</th>\n",
       "      <th>3.5789473684210527</th>\n",
       "      <th>3.6315789473684212</th>\n",
       "      <th>3.6842105263157894</th>\n",
       "      <th>3.736842105263158</th>\n",
       "      <th>3.7894736842105265</th>\n",
       "      <th>3.8421052631578947</th>\n",
       "      <th>3.894736842105263</th>\n",
       "      <th>3.9473684210526314</th>\n",
       "      <th>4.0</th>\n",
       "    </tr>\n",
       "  </thead>\n",
       "  <tbody>\n",
       "    <tr>\n",
       "      <th>train</th>\n",
       "      <td>100.736876</td>\n",
       "      <td>100.788450</td>\n",
       "      <td>100.831208</td>\n",
       "      <td>100.874752</td>\n",
       "      <td>100.918949</td>\n",
       "      <td>100.963833</td>\n",
       "      <td>101.009478</td>\n",
       "      <td>101.055837</td>\n",
       "      <td>101.102906</td>\n",
       "      <td>101.150699</td>\n",
       "      <td>101.199195</td>\n",
       "      <td>101.248395</td>\n",
       "      <td>101.298299</td>\n",
       "      <td>101.348906</td>\n",
       "      <td>101.400215</td>\n",
       "      <td>101.452238</td>\n",
       "      <td>101.504947</td>\n",
       "      <td>101.558371</td>\n",
       "      <td>101.612489</td>\n",
       "      <td>101.667368</td>\n",
       "    </tr>\n",
       "    <tr>\n",
       "      <th>validation</th>\n",
       "      <td>93.800460</td>\n",
       "      <td>93.791617</td>\n",
       "      <td>93.794862</td>\n",
       "      <td>93.799702</td>\n",
       "      <td>93.805846</td>\n",
       "      <td>93.813457</td>\n",
       "      <td>93.822492</td>\n",
       "      <td>93.832916</td>\n",
       "      <td>93.844715</td>\n",
       "      <td>93.857792</td>\n",
       "      <td>93.872247</td>\n",
       "      <td>93.888055</td>\n",
       "      <td>93.905197</td>\n",
       "      <td>93.923674</td>\n",
       "      <td>93.943494</td>\n",
       "      <td>93.964597</td>\n",
       "      <td>93.987086</td>\n",
       "      <td>94.010876</td>\n",
       "      <td>94.036068</td>\n",
       "      <td>94.062885</td>\n",
       "    </tr>\n",
       "    <tr>\n",
       "      <th>test</th>\n",
       "      <td>88.715388</td>\n",
       "      <td>88.696587</td>\n",
       "      <td>88.700119</td>\n",
       "      <td>88.705735</td>\n",
       "      <td>88.713377</td>\n",
       "      <td>88.723106</td>\n",
       "      <td>88.734808</td>\n",
       "      <td>88.748507</td>\n",
       "      <td>88.764194</td>\n",
       "      <td>88.781803</td>\n",
       "      <td>88.801405</td>\n",
       "      <td>88.822983</td>\n",
       "      <td>88.846526</td>\n",
       "      <td>88.872034</td>\n",
       "      <td>88.899508</td>\n",
       "      <td>88.928913</td>\n",
       "      <td>88.960309</td>\n",
       "      <td>88.993641</td>\n",
       "      <td>89.028950</td>\n",
       "      <td>89.066260</td>\n",
       "    </tr>\n",
       "  </tbody>\n",
       "</table>\n",
       "</div>"
      ],
      "text/plain": [
       "              3.000000    3.052632    3.105263    3.157895    3.210526  \\\n",
       "train       100.736876  100.788450  100.831208  100.874752  100.918949   \n",
       "validation   93.800460   93.791617   93.794862   93.799702   93.805846   \n",
       "test         88.715388   88.696587   88.700119   88.705735   88.713377   \n",
       "\n",
       "              3.263158    3.315789    3.368421    3.421053    3.473684  \\\n",
       "train       100.963833  101.009478  101.055837  101.102906  101.150699   \n",
       "validation   93.813457   93.822492   93.832916   93.844715   93.857792   \n",
       "test         88.723106   88.734808   88.748507   88.764194   88.781803   \n",
       "\n",
       "              3.526316    3.578947    3.631579    3.684211    3.736842  \\\n",
       "train       101.199195  101.248395  101.298299  101.348906  101.400215   \n",
       "validation   93.872247   93.888055   93.905197   93.923674   93.943494   \n",
       "test         88.801405   88.822983   88.846526   88.872034   88.899508   \n",
       "\n",
       "              3.789474    3.842105    3.894737    3.947368    4.000000  \n",
       "train       101.452238  101.504947  101.558371  101.612489  101.667368  \n",
       "validation   93.964597   93.987086   94.010876   94.036068   94.062885  \n",
       "test         88.928913   88.960309   88.993641   89.028950   89.066260  "
      ]
     },
     "execution_count": 213,
     "metadata": {},
     "output_type": "execute_result"
    }
   ],
   "source": [
    "# Show RMSE scores for lasso\n",
    "df_lasso_rmses = pd.DataFrame(np.array(rmses_lasso).T,\n",
    "                        ['train', 'validation', 'test'],\n",
    "                        lambdas_lasso)\n",
    "df_lasso_rmses"
   ]
  },
  {
   "cell_type": "code",
   "execution_count": 214,
   "metadata": {},
   "outputs": [
    {
     "data": {
      "text/html": [
       "<div>\n",
       "<style scoped>\n",
       "    .dataframe tbody tr th:only-of-type {\n",
       "        vertical-align: middle;\n",
       "    }\n",
       "\n",
       "    .dataframe tbody tr th {\n",
       "        vertical-align: top;\n",
       "    }\n",
       "\n",
       "    .dataframe thead th {\n",
       "        text-align: right;\n",
       "    }\n",
       "</style>\n",
       "<table border=\"1\" class=\"dataframe\">\n",
       "  <thead>\n",
       "    <tr style=\"text-align: right;\">\n",
       "      <th></th>\n",
       "      <th>3.0</th>\n",
       "      <th>3.0526315789473686</th>\n",
       "      <th>3.1052631578947367</th>\n",
       "      <th>3.1578947368421053</th>\n",
       "      <th>3.2105263157894735</th>\n",
       "      <th>3.263157894736842</th>\n",
       "      <th>3.3157894736842106</th>\n",
       "      <th>3.3684210526315788</th>\n",
       "      <th>3.4210526315789473</th>\n",
       "      <th>3.473684210526316</th>\n",
       "      <th>3.526315789473684</th>\n",
       "      <th>3.5789473684210527</th>\n",
       "      <th>3.6315789473684212</th>\n",
       "      <th>3.6842105263157894</th>\n",
       "      <th>3.736842105263158</th>\n",
       "      <th>3.7894736842105265</th>\n",
       "      <th>3.8421052631578947</th>\n",
       "      <th>3.894736842105263</th>\n",
       "      <th>3.9473684210526314</th>\n",
       "      <th>4.0</th>\n",
       "    </tr>\n",
       "  </thead>\n",
       "  <tbody>\n",
       "    <tr>\n",
       "      <th>train</th>\n",
       "      <td>0.144803</td>\n",
       "      <td>0.143927</td>\n",
       "      <td>0.143201</td>\n",
       "      <td>0.142461</td>\n",
       "      <td>0.141709</td>\n",
       "      <td>0.140945</td>\n",
       "      <td>0.140168</td>\n",
       "      <td>0.139379</td>\n",
       "      <td>0.138577</td>\n",
       "      <td>0.137762</td>\n",
       "      <td>0.136935</td>\n",
       "      <td>0.136096</td>\n",
       "      <td>0.135244</td>\n",
       "      <td>0.134380</td>\n",
       "      <td>0.133503</td>\n",
       "      <td>0.132614</td>\n",
       "      <td>0.131712</td>\n",
       "      <td>0.130798</td>\n",
       "      <td>0.129872</td>\n",
       "      <td>0.128931</td>\n",
       "    </tr>\n",
       "    <tr>\n",
       "      <th>validation</th>\n",
       "      <td>0.077579</td>\n",
       "      <td>0.077753</td>\n",
       "      <td>0.077689</td>\n",
       "      <td>0.077594</td>\n",
       "      <td>0.077473</td>\n",
       "      <td>0.077324</td>\n",
       "      <td>0.077146</td>\n",
       "      <td>0.076941</td>\n",
       "      <td>0.076709</td>\n",
       "      <td>0.076451</td>\n",
       "      <td>0.076167</td>\n",
       "      <td>0.075856</td>\n",
       "      <td>0.075518</td>\n",
       "      <td>0.075154</td>\n",
       "      <td>0.074764</td>\n",
       "      <td>0.074348</td>\n",
       "      <td>0.073905</td>\n",
       "      <td>0.073436</td>\n",
       "      <td>0.072940</td>\n",
       "      <td>0.072411</td>\n",
       "    </tr>\n",
       "    <tr>\n",
       "      <th>test</th>\n",
       "      <td>0.046930</td>\n",
       "      <td>0.047334</td>\n",
       "      <td>0.047258</td>\n",
       "      <td>0.047137</td>\n",
       "      <td>0.046973</td>\n",
       "      <td>0.046764</td>\n",
       "      <td>0.046512</td>\n",
       "      <td>0.046218</td>\n",
       "      <td>0.045881</td>\n",
       "      <td>0.045502</td>\n",
       "      <td>0.045081</td>\n",
       "      <td>0.044617</td>\n",
       "      <td>0.044110</td>\n",
       "      <td>0.043561</td>\n",
       "      <td>0.042970</td>\n",
       "      <td>0.042336</td>\n",
       "      <td>0.041660</td>\n",
       "      <td>0.040942</td>\n",
       "      <td>0.040181</td>\n",
       "      <td>0.039376</td>\n",
       "    </tr>\n",
       "  </tbody>\n",
       "</table>\n",
       "</div>"
      ],
      "text/plain": [
       "            3.000000  3.052632  3.105263  3.157895  3.210526  3.263158  \\\n",
       "train       0.144803  0.143927  0.143201  0.142461  0.141709  0.140945   \n",
       "validation  0.077579  0.077753  0.077689  0.077594  0.077473  0.077324   \n",
       "test        0.046930  0.047334  0.047258  0.047137  0.046973  0.046764   \n",
       "\n",
       "            3.315789  3.368421  3.421053  3.473684  3.526316  3.578947  \\\n",
       "train       0.140168  0.139379  0.138577  0.137762  0.136935  0.136096   \n",
       "validation  0.077146  0.076941  0.076709  0.076451  0.076167  0.075856   \n",
       "test        0.046512  0.046218  0.045881  0.045502  0.045081  0.044617   \n",
       "\n",
       "            3.631579  3.684211  3.736842  3.789474  3.842105  3.894737  \\\n",
       "train       0.135244  0.134380  0.133503  0.132614  0.131712  0.130798   \n",
       "validation  0.075518  0.075154  0.074764  0.074348  0.073905  0.073436   \n",
       "test        0.044110  0.043561  0.042970  0.042336  0.041660  0.040942   \n",
       "\n",
       "            3.947368  4.000000  \n",
       "train       0.129872  0.128931  \n",
       "validation  0.072940  0.072411  \n",
       "test        0.040181  0.039376  "
      ]
     },
     "execution_count": 214,
     "metadata": {},
     "output_type": "execute_result"
    }
   ],
   "source": [
    "# Show R Squared scores for lasso\n",
    "df_lasso_r2s = pd.DataFrame(np.array(r2s_lasso).T,\n",
    "                        ['train', 'validation', 'test'],\n",
    "                        lambdas_lasso)\n",
    "df_lasso_r2s"
   ]
  },
  {
   "cell_type": "markdown",
   "metadata": {},
   "source": [
    "From the table, we can see that,\n",
    "* when $\\lambda$ is $3894$ for **ridge** (input is standardized), it yields lowest RMSE and highest R Squared.\n",
    "* when $\\lambda$ is $3.05$ for **lasso** (input is standardized), it yields lowest RMSE and highest R Squared.\n",
    "* notice **the scale has huge difference** because SciPy linear_model.Ridge() uses $min f_{o}(x) = \\dfrac{1}{N}(\\Vert y−Xβ\\Vert ^{2}_{2} +λ\\Vert β\\Vert ^{2}_{2})$, but linear_model.Lasso uses $min f_{o}(x) = \\dfrac{1}{2N}\\Vert y−Xβ\\Vert ^{2}_{2} +λ\\Vert β\\Vert ^{2}_{2}$, so that $\\lambda$ = $3894$ for ridge is actually $\\lambda / 2N = 0.197$ if we divide 2N only on the first loss term."
   ]
  },
  {
   "cell_type": "markdown",
   "metadata": {},
   "source": [
    "#### d. Similar to part (b), train ridge and lasso using both the training and validation set (with your optimal regularization parameter from (c)). What are the RMSE and R2 on the training set, validation set, and test set? How does this compare to the previous part? What do the numbers suggest?"
   ]
  },
  {
   "cell_type": "code",
   "execution_count": 215,
   "metadata": {},
   "outputs": [],
   "source": [
    "# Prepare data\n",
    "X_train_d = np.vstack((X_train, X_valid))\n",
    "y_train_d = np.hstack((y_train, y_valid))\n",
    "lambda_ridge_optimal = 3894\n",
    "lambda_lasso_optimal = 3.05"
   ]
  },
  {
   "cell_type": "code",
   "execution_count": 216,
   "metadata": {},
   "outputs": [
    {
     "data": {
      "text/plain": [
       "Lasso(alpha=3.05, copy_X=True, fit_intercept=True, max_iter=1000,\n",
       "   normalize=False, positive=False, precompute=False, random_state=None,\n",
       "   selection='cyclic', tol=0.0001, warm_start=False)"
      ]
     },
     "execution_count": 216,
     "metadata": {},
     "output_type": "execute_result"
    }
   ],
   "source": [
    "# Train linear regression model with optimal lambda\n",
    "lm_ridge = linear_model.Ridge()\n",
    "lm_ridge.set_params(alpha=lambda_ridge_optimal)\n",
    "lm_ridge.fit(X_train_d, y_train_d)\n",
    "\n",
    "lm_lasso = linear_model.Lasso()\n",
    "lm_lasso.set_params(alpha=lambda_lasso_optimal)\n",
    "lm_lasso.fit(X_train_d, y_train_d)"
   ]
  },
  {
   "cell_type": "code",
   "execution_count": 217,
   "metadata": {},
   "outputs": [
    {
     "data": {
      "text/html": [
       "<div>\n",
       "<style scoped>\n",
       "    .dataframe tbody tr th:only-of-type {\n",
       "        vertical-align: middle;\n",
       "    }\n",
       "\n",
       "    .dataframe tbody tr th {\n",
       "        vertical-align: top;\n",
       "    }\n",
       "\n",
       "    .dataframe thead th {\n",
       "        text-align: right;\n",
       "    }\n",
       "</style>\n",
       "<table border=\"1\" class=\"dataframe\">\n",
       "  <thead>\n",
       "    <tr style=\"text-align: right;\">\n",
       "      <th></th>\n",
       "      <th>RMSE</th>\n",
       "      <th>R Squared</th>\n",
       "    </tr>\n",
       "  </thead>\n",
       "  <tbody>\n",
       "    <tr>\n",
       "      <th>train</th>\n",
       "      <td>101.252099</td>\n",
       "      <td>0.136033</td>\n",
       "    </tr>\n",
       "    <tr>\n",
       "      <th>validation</th>\n",
       "      <td>91.022383</td>\n",
       "      <td>0.131409</td>\n",
       "    </tr>\n",
       "    <tr>\n",
       "      <th>test</th>\n",
       "      <td>85.481439</td>\n",
       "      <td>0.115148</td>\n",
       "    </tr>\n",
       "  </tbody>\n",
       "</table>\n",
       "</div>"
      ],
      "text/plain": [
       "                  RMSE  R Squared\n",
       "train       101.252099   0.136033\n",
       "validation   91.022383   0.131409\n",
       "test         85.481439   0.115148"
      ]
     },
     "execution_count": 217,
     "metadata": {},
     "output_type": "execute_result"
    }
   ],
   "source": [
    "# Compute RMSE and R Squared scores for ridge\n",
    "rmse_train_ridge = rmse(lm_ridge, X_train, y_train)\n",
    "r2_train_ridge = r_squared(lm_ridge, X_train, y_train)\n",
    "rmse_valid_ridge = rmse(lm_ridge, X_valid, y_valid)\n",
    "r2_valid_ridge = r_squared(lm_ridge, X_valid, y_valid)\n",
    "rmse_test_ridge = rmse(lm_ridge, X_test, y_test)\n",
    "r2_test_ridge = r_squared(lm_ridge, X_test, y_test)\n",
    "\n",
    "# Print out scores\n",
    "scores_ridge = pd.DataFrame([[rmse_train_ridge, r2_train_ridge],\n",
    "                       [rmse_valid_ridge, r2_valid_ridge],\n",
    "                       [rmse_test_ridge, r2_test_ridge]],\n",
    "                      ['train', 'validation', 'test'],\n",
    "                      ['RMSE', 'R Squared'])\n",
    "scores_ridge"
   ]
  },
  {
   "cell_type": "code",
   "execution_count": 218,
   "metadata": {},
   "outputs": [
    {
     "data": {
      "text/html": [
       "<div>\n",
       "<style scoped>\n",
       "    .dataframe tbody tr th:only-of-type {\n",
       "        vertical-align: middle;\n",
       "    }\n",
       "\n",
       "    .dataframe tbody tr th {\n",
       "        vertical-align: top;\n",
       "    }\n",
       "\n",
       "    .dataframe thead th {\n",
       "        text-align: right;\n",
       "    }\n",
       "</style>\n",
       "<table border=\"1\" class=\"dataframe\">\n",
       "  <thead>\n",
       "    <tr style=\"text-align: right;\">\n",
       "      <th></th>\n",
       "      <th>RMSE</th>\n",
       "      <th>R Squared</th>\n",
       "    </tr>\n",
       "  </thead>\n",
       "  <tbody>\n",
       "    <tr>\n",
       "      <th>train</th>\n",
       "      <td>101.575915</td>\n",
       "      <td>0.130498</td>\n",
       "    </tr>\n",
       "    <tr>\n",
       "      <th>validation</th>\n",
       "      <td>91.711348</td>\n",
       "      <td>0.118210</td>\n",
       "    </tr>\n",
       "    <tr>\n",
       "      <th>test</th>\n",
       "      <td>86.542065</td>\n",
       "      <td>0.093054</td>\n",
       "    </tr>\n",
       "  </tbody>\n",
       "</table>\n",
       "</div>"
      ],
      "text/plain": [
       "                  RMSE  R Squared\n",
       "train       101.575915   0.130498\n",
       "validation   91.711348   0.118210\n",
       "test         86.542065   0.093054"
      ]
     },
     "execution_count": 218,
     "metadata": {},
     "output_type": "execute_result"
    }
   ],
   "source": [
    "# Compute RMSE and R Squared scores for lasso\n",
    "rmse_train_lasso = rmse(lm_lasso, X_train, y_train)\n",
    "r2_train_lasso = r_squared(lm_lasso, X_train, y_train)\n",
    "rmse_valid_lasso = rmse(lm_lasso, X_valid, y_valid)\n",
    "r2_valid_lasso = r_squared(lm_lasso, X_valid, y_valid)\n",
    "rmse_test_lasso = rmse(lm_lasso, X_test, y_test)\n",
    "r2_test_lasso = r_squared(lm_lasso, X_test, y_test)\n",
    "\n",
    "# Print out scores\n",
    "scores_lasso = pd.DataFrame([[rmse_train_lasso, r2_train_lasso],\n",
    "                       [rmse_valid_lasso, r2_valid_lasso],\n",
    "                       [rmse_test_lasso, r2_test_lasso]],\n",
    "                      ['train', 'validation', 'test'],\n",
    "                      ['RMSE', 'R Squared'])\n",
    "scores_lasso"
   ]
  },
  {
   "cell_type": "markdown",
   "metadata": {},
   "source": [
    "From the score tables we can see that,\n",
    "* For both models in (d), compared with (b), their R Squared scores are lower for training set, but equal to or higher for testing set.\n",
    "* Ridge model performs better than lasso model on test set.\n",
    "\n",
    "It suggests that the regularization term can help to prevent overfitting, and can lead to overall better performance on testing set."
   ]
  },
  {
   "cell_type": "markdown",
   "metadata": {},
   "source": [
    "#### e. Generate the coefficient path plots (regularization value vs. coefficient value) for both ridge and lasso. Also, note (line or point or star) where the optimal regularization parameters are on their respective plots. Make sure that your plots encompass all the expected behavior (coefficients should shrink towards 0)."
   ]
  },
  {
   "cell_type": "code",
   "execution_count": 27,
   "metadata": {},
   "outputs": [
    {
     "data": {
      "image/png": "[encoded data removed]",
      "text/plain": [
       "<Figure size 432x288 with 1 Axes>"
      ]
     },
     "metadata": {
      "needs_background": "light"
     },
     "output_type": "display_data"
    }
   ],
   "source": [
    "# Plot coef path for ridge\n",
    "lambdas_ridge = np.logspace(-1, 7, 100)\n",
    "coefs_ridge = []\n",
    "\n",
    "for lambda_ridge in lambdas_ridge:\n",
    "    lm_ridge.set_params(alpha=lambda_ridge)\n",
    "    lm_ridge.fit(X_train, y_train)\n",
    "    coefs_ridge.append(lm_ridge.coef_)\n",
    "    \n",
    "ax = plt.gca()\n",
    "ax.plot(lambdas_ridge, coefs_ridge)\n",
    "ax.set_xscale('log')\n",
    "plt.xlabel('lambda')\n",
    "plt.ylabel('weights')\n",
    "plt.title('Ridge coefs as a function of the regularization')\n",
    "\n",
    "optimal_line = plt.axvline(x=lambda_ridge_optimal, linestyle='--')\n",
    "plt.legend([optimal_line], ['Optimal Coefs'])\n",
    "\n",
    "plt.show()"
   ]
  },
  {
   "cell_type": "code",
   "execution_count": 28,
   "metadata": {},
   "outputs": [
    {
     "name": "stderr",
     "output_type": "stream",
     "text": [
      "/Users/liyanxu/VirtualEnv/playground/lib/python3.6/site-packages/sklearn/linear_model/coordinate_descent.py:491: ConvergenceWarning: Objective did not converge. You might want to increase the number of iterations. Fitting data with very small alpha may cause precision problems.\n",
      "  ConvergenceWarning)\n"
     ]
    },
    {
     "data": {
      "image/png": "[encoded data removed]",
      "text/plain": [
       "<Figure size 432x288 with 1 Axes>"
      ]
     },
     "metadata": {
      "needs_background": "light"
     },
     "output_type": "display_data"
    }
   ],
   "source": [
    "# Plot coef path for lasso\n",
    "lambdas_lasso = np.logspace(-2, 2, 100)\n",
    "lambdas_lasso, coefs_lasso, _ = linear_model.lasso_path(X_train, y_train, alphas=lambdas_lasso)\n",
    "\n",
    "ax = plt.gca()\n",
    "ax.plot(lambdas_lasso, coefs_lasso.T)\n",
    "ax.set_xscale('log')\n",
    "plt.xlabel('lambda')\n",
    "plt.ylabel('weights')\n",
    "plt.title('Lasso coefs as a function of the regularization')\n",
    "\n",
    "optimal_line = plt.axvline(x=lambda_lasso_optimal, linestyle='--')\n",
    "plt.legend([optimal_line], ['Optimal Coefs'])\n",
    "\n",
    "plt.show()"
   ]
  },
  {
   "cell_type": "markdown",
   "metadata": {},
   "source": [
    "#### f. What are 3 observations you can draw from looking at the coefficient path plots, and the metrics? This should be different from your observations from (b) and (d)."
   ]
  },
  {
   "cell_type": "markdown",
   "metadata": {},
   "source": [
    "1. Ridge regularization pushes all coefficents to small values but not hard enough to 0; lasso pushes some coefficients to zero while it can keep some other large coefficent values.\n",
    "2. The coefficents that yeild best prediction happen after they start shrinking ($\\lambda \\neq 0$), which demonstrates that regularization is useful to prevent overfitting.\n",
    "3. For best coefficients, they tend to be towards small values rather than large because small values help to generalize."
   ]
  },
  {
   "cell_type": "markdown",
   "metadata": {},
   "source": [
    "## 3. Predicting Appliance Energy Usage using SGD"
   ]
  },
  {
   "cell_type": "markdown",
   "metadata": {},
   "source": [
    "#### a. Implement elastic net regression using stochastic gradient descent. As a reminder, the optimization problem is: $$min f_{o}(x) = \\dfrac{1}{2N}\\Vert y−Xβ\\Vert ^{2}_{2} +λ(α\\Vert β\\Vert ^{2}_{2} +(1−α)\\Vertβ\\Vert_{1}), 0≤α≤1$$ You will want to derive the update for a single training sample. As a hint, you will want to consider proximal gradient descent for the $\\Vertβ\\Vert_{1}$ portion of the objective function. Your implementation should allow the user to specify the regularization parameters (λ, α), the learning rate (η) and the mini-batch size (n ∈ [1,N])."
   ]
  },
  {
   "cell_type": "markdown",
   "metadata": {},
   "source": [
    "I changed the first term of loss function from $\\dfrac{1}{2}\\Vert y−Xβ\\Vert ^{2}_{2}$ to $\\dfrac{1}{2N}\\Vert y−Xβ\\Vert ^{2}_{2}$ so that $\\lambda$ is not related to training size $N$, therefore I can use the optimal $\\lambda$ directly from question 2."
   ]
  },
  {
   "cell_type": "code",
   "execution_count": 220,
   "metadata": {},
   "outputs": [],
   "source": [
    "# Define loss function w/ elastic net\n",
    "def calc_loss_w_elastic_net(X, y, w, lambda_, alpha):\n",
    "    def calc_l2_squared(V):\n",
    "        return np.sum(V**2)\n",
    "    def calc_l1(V):\n",
    "        return np.linalg.norm(V, ord=1)\n",
    "    \n",
    "    # Exclude intercept term from regularization\n",
    "    return (calc_l2_squared(y - X.dot(w)) / (2 * y.shape[0]))\\\n",
    "            + lambda_ * (alpha * calc_l2_squared(w[1:])\\\n",
    "                        + (1 - alpha) * calc_l1(w[1:]))"
   ]
  },
  {
   "cell_type": "code",
   "execution_count": 221,
   "metadata": {},
   "outputs": [],
   "source": [
    "# Define gradient for loss function w/ ridge regularization\n",
    "def calc_gradient_w_ridge(X, y, w, coef_ridge):\n",
    "    d_ridge = 2 * coef_ridge * w\n",
    "    d_ridge[0] = 0    # Exclude intercept term from ridge regularization\n",
    "    return (X.T).dot(X.dot(w) - y) / y.shape[0] + d_ridge"
   ]
  },
  {
   "cell_type": "code",
   "execution_count": 222,
   "metadata": {},
   "outputs": [],
   "source": [
    "# Define proximal operator for lasso\n",
    "def calc_proximal_w_lasso(V, coef_lasso, learning_rate):\n",
    "    threshold = coef_lasso * learning_rate\n",
    "    def calc_proximal_mapping(el):\n",
    "        if el >= threshold:\n",
    "            return el - threshold\n",
    "        elif el <= -threshold:\n",
    "            return el + threshold\n",
    "        else:\n",
    "            return 0\n",
    "        \n",
    "    return np.array([calc_proximal_mapping(el) for el in np.nditer(V)])"
   ]
  },
  {
   "cell_type": "code",
   "execution_count": 223,
   "metadata": {},
   "outputs": [],
   "source": [
    "# Define gradient descent for elastic net\n",
    "# Assume X has intercept column and is standardized\n",
    "def train_w_elastic_net(X, y, w, lambda_, alpha, learning_rate, batch_size, epochs, track_loss):\n",
    "    coef_ridge = lambda_ * alpha\n",
    "    coef_lasso = lambda_ * (1 - alpha)\n",
    "    losses = []\n",
    "    idx_mask = np.arange(y.shape[0])\n",
    "    \n",
    "    for epoch in range(epochs):\n",
    "        np.random.shuffle(idx_mask)\n",
    "        X = X[idx_mask]\n",
    "        y = y[idx_mask]\n",
    "        for i in range(0, y.shape[0], batch_size):\n",
    "            X_tmp = X[i:i+batch_size]\n",
    "            y_tmp = y[i:i+batch_size]\n",
    "            w[:] = w - learning_rate * calc_gradient_w_ridge(X_tmp, y_tmp, w, coef_ridge)\n",
    "            # Exclude intercept term from lasso regularization\n",
    "            w[1:] = calc_proximal_w_lasso(w[1:], coef_lasso, learning_rate)\n",
    "        if track_loss:\n",
    "            losses.append(calc_loss_w_elastic_net(X, y, w, lambda_, alpha))\n",
    "    \n",
    "    if track_loss:\n",
    "        return losses"
   ]
  },
  {
   "cell_type": "markdown",
   "metadata": {},
   "source": [
    "#### b. For the optimal regularization parameters from ridge $λ_{ridge}$ and lasso $λ_{lasso}$, and $α = \\dfrac{1}{2}$, what are good learning rates for the dataset? Justify the selection by trying various learning rates and illustrating the objective value $(f_{o}(x))$ on a graph for a range of epochs (one epoch = one pass through the training data). For the chosen learning rates (ridge and lasso may have different values), what are the RMSE and R2 for the elastic net model trained on the entire training set on the training, validation, and test sets?"
   ]
  },
  {
   "cell_type": "code",
   "execution_count": 224,
   "metadata": {},
   "outputs": [],
   "source": [
    "# Prepare data\n",
    "X_train_itcpt = np.hstack((np.ones((X_train.shape[0], 1)), X_train))\n",
    "X_valid_itcpt = np.hstack((np.ones((X_valid.shape[0], 1)), X_valid))\n",
    "X_test_itcpt = np.hstack((np.ones((X_test.shape[0], 1)), X_test))"
   ]
  },
  {
   "cell_type": "code",
   "execution_count": 225,
   "metadata": {},
   "outputs": [
    {
     "data": {
      "image/png": "[encoded data removed]",
      "text/plain": [
       "<Figure size 432x288 with 1 Axes>"
      ]
     },
     "metadata": {
      "needs_background": "light"
     },
     "output_type": "display_data"
    }
   ],
   "source": [
    "# Try learning rates with optimal lambda of ridge\n",
    "alpha = 0.5\n",
    "lambda_ = 0.197\n",
    "learning_rates = [0.01, 0.02, 0.05, 0.1]\n",
    "batch_size = 500\n",
    "epochs = 20\n",
    "losses_w_learning_rate = []\n",
    "\n",
    "for learning_rate in learning_rates:\n",
    "    w = np.random.rand(X_train_itcpt.shape[1])\n",
    "    losses_w_learning_rate.append(train_w_elastic_net(X_train_itcpt, y_train, w, lambda_, alpha,\n",
    "                                                      learning_rate, batch_size, epochs, True))\n",
    "\n",
    "ax = plt.gca()\n",
    "lineObjects_ridge_lambda = ax.plot(list(range(epochs)), np.array(losses_w_learning_rate).T)\n",
    "plt.xlabel('Epoch')\n",
    "plt.ylabel('Average loss')\n",
    "plt.title('Loss over epochs using optimal lambda of ridge')\n",
    "ax.legend(lineObjects_ridge_lambda, ['LR=0.01', 'LR=0.02', 'LR=0.05', 'LR=0.1'])\n",
    "\n",
    "plt.show()"
   ]
  },
  {
   "cell_type": "code",
   "execution_count": 226,
   "metadata": {},
   "outputs": [
    {
     "data": {
      "image/png": "[encoded data removed]",
      "text/plain": [
       "<Figure size 432x288 with 1 Axes>"
      ]
     },
     "metadata": {
      "needs_background": "light"
     },
     "output_type": "display_data"
    }
   ],
   "source": [
    "# Try learning rates with optimal lambda of lasso\n",
    "alpha = 0.5\n",
    "lambda_ = 3.05\n",
    "learning_rates = [0.005, 0.01, 0.02, 0.1]\n",
    "batch_size = 500\n",
    "epochs = 30\n",
    "losses_w_learning_rate = []\n",
    "\n",
    "for learning_rate in learning_rates:\n",
    "    w = np.random.rand(X_train_itcpt.shape[1])\n",
    "    losses_w_learning_rate.append(train_w_elastic_net(X_train_itcpt, y_train, w, lambda_, alpha,\n",
    "                                                      learning_rate, batch_size, epochs, True))\n",
    "\n",
    "ax = plt.gca()\n",
    "lineObjects_lasso_lambda = ax.plot(list(range(epochs)), np.array(losses_w_learning_rate).T)\n",
    "plt.xlabel('Epoch')\n",
    "plt.ylabel('Average loss')\n",
    "plt.title('Loss over epochs using optimal lambda of lasso')\n",
    "ax.legend(lineObjects_lasso_lambda, ['LR=0.005', 'LR=0.01', 'LR=0.02', 'LR=0.1'])\n",
    "\n",
    "plt.show()"
   ]
  },
  {
   "cell_type": "markdown",
   "metadata": {},
   "source": [
    "From the two plots, we can see that:\n",
    "* The good learning rate is **0.05** when $\\lambda = 0.197$ (from ridge), with fast and stable convergence.\n",
    "* The good learning rate is **0.02** when $\\lambda = 3.05$ (from lasso), with fast and stable convergence.\n",
    "\n",
    "Show the RMSE and R Squared table as below."
   ]
  },
  {
   "cell_type": "code",
   "execution_count": 227,
   "metadata": {},
   "outputs": [],
   "source": [
    "# Define RMSE and R2 with w as input\n",
    "def rmse_with_w(X, y, w):\n",
    "    return np.sqrt(np.sum((X.dot(w) - y)**2) / y.shape[0])\n",
    "\n",
    "def r_squared_with_w(X, y, w):\n",
    "    return 1 - np.sum((y - X.dot(w))**2) / np.sum((y - np.mean(y))**2)"
   ]
  },
  {
   "cell_type": "code",
   "execution_count": 228,
   "metadata": {},
   "outputs": [],
   "source": [
    "# Convenient function to compute scores\n",
    "def compute_scores(w):\n",
    "    rmse_train = rmse_with_w(X_train_itcpt, y_train, w)\n",
    "    rmse_valid = rmse_with_w(X_valid_itcpt, y_valid, w)\n",
    "    rmse_test = rmse_with_w(X_test_itcpt, y_test, w)\n",
    "    r2_train = r_squared_with_w(X_train_itcpt, y_train, w)\n",
    "    r2_valid = r_squared_with_w(X_valid_itcpt, y_valid, w)\n",
    "    r2_test = r_squared_with_w(X_test_itcpt, y_test, w)\n",
    "    return pd.DataFrame([[rmse_train, r2_train],\n",
    "                        [rmse_valid, r2_valid],\n",
    "                        [rmse_test, r2_test]],\n",
    "                        ['Train', 'Validation', 'Test'],\n",
    "                        ['RMSE', 'R Squared'])"
   ]
  },
  {
   "cell_type": "code",
   "execution_count": 229,
   "metadata": {},
   "outputs": [
    {
     "data": {
      "text/html": [
       "<div>\n",
       "<style scoped>\n",
       "    .dataframe tbody tr th:only-of-type {\n",
       "        vertical-align: middle;\n",
       "    }\n",
       "\n",
       "    .dataframe tbody tr th {\n",
       "        vertical-align: top;\n",
       "    }\n",
       "\n",
       "    .dataframe thead th {\n",
       "        text-align: right;\n",
       "    }\n",
       "</style>\n",
       "<table border=\"1\" class=\"dataframe\">\n",
       "  <thead>\n",
       "    <tr style=\"text-align: right;\">\n",
       "      <th></th>\n",
       "      <th>RMSE</th>\n",
       "      <th>R Squared</th>\n",
       "    </tr>\n",
       "  </thead>\n",
       "  <tbody>\n",
       "    <tr>\n",
       "      <th>Train</th>\n",
       "      <td>100.351899</td>\n",
       "      <td>0.151327</td>\n",
       "    </tr>\n",
       "    <tr>\n",
       "      <th>Validation</th>\n",
       "      <td>93.865921</td>\n",
       "      <td>0.076291</td>\n",
       "    </tr>\n",
       "    <tr>\n",
       "      <th>Test</th>\n",
       "      <td>88.201279</td>\n",
       "      <td>0.057944</td>\n",
       "    </tr>\n",
       "  </tbody>\n",
       "</table>\n",
       "</div>"
      ],
      "text/plain": [
       "                  RMSE  R Squared\n",
       "Train       100.351899   0.151327\n",
       "Validation   93.865921   0.076291\n",
       "Test         88.201279   0.057944"
      ]
     },
     "execution_count": 229,
     "metadata": {},
     "output_type": "execute_result"
    }
   ],
   "source": [
    "# Show RMSE and R2 when lambda = 0.197 and learning rate is 0.05\n",
    "w = np.random.rand(X_train_itcpt.shape[1])\n",
    "alpha = 0.5\n",
    "lambda_ = 0.197\n",
    "learning_rate = 0.05\n",
    "batch_size = 500\n",
    "epochs = 50\n",
    "train_w_elastic_net(X_train_itcpt, y_train, w, lambda_, alpha, learning_rate, batch_size, epochs, False)\n",
    "\n",
    "compute_scores(w)"
   ]
  },
  {
   "cell_type": "code",
   "execution_count": 231,
   "metadata": {},
   "outputs": [
    {
     "data": {
      "text/html": [
       "<div>\n",
       "<style scoped>\n",
       "    .dataframe tbody tr th:only-of-type {\n",
       "        vertical-align: middle;\n",
       "    }\n",
       "\n",
       "    .dataframe tbody tr th {\n",
       "        vertical-align: top;\n",
       "    }\n",
       "\n",
       "    .dataframe thead th {\n",
       "        text-align: right;\n",
       "    }\n",
       "</style>\n",
       "<table border=\"1\" class=\"dataframe\">\n",
       "  <thead>\n",
       "    <tr style=\"text-align: right;\">\n",
       "      <th></th>\n",
       "      <th>RMSE</th>\n",
       "      <th>R Squared</th>\n",
       "    </tr>\n",
       "  </thead>\n",
       "  <tbody>\n",
       "    <tr>\n",
       "      <th>Train</th>\n",
       "      <td>105.866242</td>\n",
       "      <td>0.055495</td>\n",
       "    </tr>\n",
       "    <tr>\n",
       "      <th>Validation</th>\n",
       "      <td>96.056983</td>\n",
       "      <td>0.032665</td>\n",
       "    </tr>\n",
       "    <tr>\n",
       "      <th>Test</th>\n",
       "      <td>90.863661</td>\n",
       "      <td>0.000213</td>\n",
       "    </tr>\n",
       "  </tbody>\n",
       "</table>\n",
       "</div>"
      ],
      "text/plain": [
       "                  RMSE  R Squared\n",
       "Train       105.866242   0.055495\n",
       "Validation   96.056983   0.032665\n",
       "Test         90.863661   0.000213"
      ]
     },
     "execution_count": 231,
     "metadata": {},
     "output_type": "execute_result"
    }
   ],
   "source": [
    "# Show RMSE and R2 when lambda = 3.05 and learning rate is 0.02\n",
    "w = np.random.rand(X_train_itcpt.shape[1])\n",
    "alpha = 0.5\n",
    "lambda_ = 3.05\n",
    "learning_rate = 0.02\n",
    "train_w_elastic_net(X_train_itcpt, y_train, w, lambda_, alpha, learning_rate, batch_size, epochs, False)\n",
    "\n",
    "compute_scores(w)"
   ]
  },
  {
   "cell_type": "markdown",
   "metadata": {},
   "source": [
    "#### c. Using the learning rate from the previous part, train elastic net (using only training data) for different values of α (it should encompass the entire range and include α = 0,1). Report the RMSE and R2 for the models on training, validation, and test set."
   ]
  },
  {
   "cell_type": "code",
   "execution_count": 232,
   "metadata": {},
   "outputs": [],
   "source": [
    "# Define convenient function to plot R2 over alphas on training and test set\n",
    "def plot_r_squared_over_alphas(alphas, lambda_, learning_rate, batch_size, epochs, title):\n",
    "    for alpha in alphas:\n",
    "        w = np.random.rand(X_train_itcpt.shape[1])\n",
    "        train_w_elastic_net(X_train_itcpt, y_train, w, lambda_, alpha, learning_rate, batch_size, epochs, False)\n",
    "        r2s_alphas.append([r_squared_with_w(X_train_itcpt, y_train, w),\n",
    "                           r_squared_with_w(X_test_itcpt, y_test, w)])\n",
    "\n",
    "    ax = plt.gca()\n",
    "    lineObjects = ax.plot(alphas, r2s_alphas)\n",
    "    plt.xlabel('alpha')\n",
    "    plt.ylabel('R Squared')\n",
    "    plt.title(title)\n",
    "    ax.legend(lineObjects, ['train', 'test'])\n",
    "\n",
    "    plt.show()"
   ]
  },
  {
   "cell_type": "code",
   "execution_count": 280,
   "metadata": {},
   "outputs": [
    {
     "data": {
      "image/png": "[encoded data removed]",
      "text/plain": [
       "<Figure size 432x288 with 1 Axes>"
      ]
     },
     "metadata": {
      "needs_background": "light"
     },
     "output_type": "display_data"
    }
   ],
   "source": [
    "# For learning rate = 0.02 and lambda = 3.05, plot R2 as a function of alpha on training and test set\n",
    "alphas = np.linspace(0, 1, 20)\n",
    "lambda_ = 3.05\n",
    "learning_rate = 0.02\n",
    "batch_size = 500\n",
    "epochs = 50\n",
    "r2s_alphas = []\n",
    "\n",
    "plot_r_squared_over_alphas(alphas, lambda_, learning_rate, batch_size, epochs, 'R Squared over alpha (use optimal lambda from lasso)')\n"
   ]
  },
  {
   "cell_type": "code",
   "execution_count": 281,
   "metadata": {},
   "outputs": [
    {
     "data": {
      "image/png": "[encoded data removed]",
      "text/plain": [
       "<Figure size 432x288 with 1 Axes>"
      ]
     },
     "metadata": {
      "needs_background": "light"
     },
     "output_type": "display_data"
    }
   ],
   "source": [
    "# For learning rate = 0.05 and lambda = 0.197, plot R2 as a function of alpha on training and test set\n",
    "alphas = np.linspace(0, 1, 20)\n",
    "lambda_ = 0.197\n",
    "learning_rate = 0.05\n",
    "batch_size = 500\n",
    "epochs = 50\n",
    "r2s_alphas = []\n",
    "\n",
    "plot_r_squared_over_alphas(alphas, lambda_, learning_rate, batch_size, epochs, 'R Squared over alpha (use optimal lambda from ridge)')\n"
   ]
  },
  {
   "cell_type": "code",
   "execution_count": 282,
   "metadata": {},
   "outputs": [
    {
     "data": {
      "text/html": [
       "<div>\n",
       "<style scoped>\n",
       "    .dataframe tbody tr th:only-of-type {\n",
       "        vertical-align: middle;\n",
       "    }\n",
       "\n",
       "    .dataframe tbody tr th {\n",
       "        vertical-align: top;\n",
       "    }\n",
       "\n",
       "    .dataframe thead th {\n",
       "        text-align: right;\n",
       "    }\n",
       "</style>\n",
       "<table border=\"1\" class=\"dataframe\">\n",
       "  <thead>\n",
       "    <tr style=\"text-align: right;\">\n",
       "      <th></th>\n",
       "      <th>RMSE</th>\n",
       "      <th>R Squared</th>\n",
       "    </tr>\n",
       "  </thead>\n",
       "  <tbody>\n",
       "    <tr>\n",
       "      <th>Train</th>\n",
       "      <td>100.885585</td>\n",
       "      <td>0.142276</td>\n",
       "    </tr>\n",
       "    <tr>\n",
       "      <th>Validation</th>\n",
       "      <td>93.597927</td>\n",
       "      <td>0.081558</td>\n",
       "    </tr>\n",
       "    <tr>\n",
       "      <th>Test</th>\n",
       "      <td>88.617898</td>\n",
       "      <td>0.049023</td>\n",
       "    </tr>\n",
       "  </tbody>\n",
       "</table>\n",
       "</div>"
      ],
      "text/plain": [
       "                  RMSE  R Squared\n",
       "Train       100.885585   0.142276\n",
       "Validation   93.597927   0.081558\n",
       "Test         88.617898   0.049023"
      ]
     },
     "execution_count": 282,
     "metadata": {},
     "output_type": "execute_result"
    }
   ],
   "source": [
    "# learning rate = 0.02 and lambda = 3.05, alpha = 0\n",
    "w = np.random.rand(X_train_itcpt.shape[1])\n",
    "alpha = 0\n",
    "lambda_ = 3.05\n",
    "learning_rate = 0.02\n",
    "train_w_elastic_net(X_train_itcpt, y_train, w, lambda_, alpha, learning_rate, batch_size, epochs, False)\n",
    "\n",
    "compute_scores(w)"
   ]
  },
  {
   "cell_type": "code",
   "execution_count": 283,
   "metadata": {},
   "outputs": [
    {
     "data": {
      "text/html": [
       "<div>\n",
       "<style scoped>\n",
       "    .dataframe tbody tr th:only-of-type {\n",
       "        vertical-align: middle;\n",
       "    }\n",
       "\n",
       "    .dataframe tbody tr th {\n",
       "        vertical-align: top;\n",
       "    }\n",
       "\n",
       "    .dataframe thead th {\n",
       "        text-align: right;\n",
       "    }\n",
       "</style>\n",
       "<table border=\"1\" class=\"dataframe\">\n",
       "  <thead>\n",
       "    <tr style=\"text-align: right;\">\n",
       "      <th></th>\n",
       "      <th>RMSE</th>\n",
       "      <th>R Squared</th>\n",
       "    </tr>\n",
       "  </thead>\n",
       "  <tbody>\n",
       "    <tr>\n",
       "      <th>Train</th>\n",
       "      <td>104.739467</td>\n",
       "      <td>0.075494</td>\n",
       "    </tr>\n",
       "    <tr>\n",
       "      <th>Validation</th>\n",
       "      <td>95.882843</td>\n",
       "      <td>0.036169</td>\n",
       "    </tr>\n",
       "    <tr>\n",
       "      <th>Test</th>\n",
       "      <td>91.311227</td>\n",
       "      <td>-0.009660</td>\n",
       "    </tr>\n",
       "  </tbody>\n",
       "</table>\n",
       "</div>"
      ],
      "text/plain": [
       "                  RMSE  R Squared\n",
       "Train       104.739467   0.075494\n",
       "Validation   95.882843   0.036169\n",
       "Test         91.311227  -0.009660"
      ]
     },
     "execution_count": 283,
     "metadata": {},
     "output_type": "execute_result"
    }
   ],
   "source": [
    "# learning rate = 0.02 and lambda = 3.05, alpha = 0.25\n",
    "w = np.random.rand(X_train_itcpt.shape[1])\n",
    "alpha = 0.25\n",
    "train_w_elastic_net(X_train_itcpt, y_train, w, lambda_, alpha, learning_rate, batch_size, epochs, False)\n",
    "\n",
    "compute_scores(w)"
   ]
  },
  {
   "cell_type": "code",
   "execution_count": 284,
   "metadata": {},
   "outputs": [
    {
     "data": {
      "text/html": [
       "<div>\n",
       "<style scoped>\n",
       "    .dataframe tbody tr th:only-of-type {\n",
       "        vertical-align: middle;\n",
       "    }\n",
       "\n",
       "    .dataframe tbody tr th {\n",
       "        vertical-align: top;\n",
       "    }\n",
       "\n",
       "    .dataframe thead th {\n",
       "        text-align: right;\n",
       "    }\n",
       "</style>\n",
       "<table border=\"1\" class=\"dataframe\">\n",
       "  <thead>\n",
       "    <tr style=\"text-align: right;\">\n",
       "      <th></th>\n",
       "      <th>RMSE</th>\n",
       "      <th>R Squared</th>\n",
       "    </tr>\n",
       "  </thead>\n",
       "  <tbody>\n",
       "    <tr>\n",
       "      <th>Train</th>\n",
       "      <td>106.015594</td>\n",
       "      <td>0.052828</td>\n",
       "    </tr>\n",
       "    <tr>\n",
       "      <th>Validation</th>\n",
       "      <td>96.245885</td>\n",
       "      <td>0.028857</td>\n",
       "    </tr>\n",
       "    <tr>\n",
       "      <th>Test</th>\n",
       "      <td>90.031592</td>\n",
       "      <td>0.018440</td>\n",
       "    </tr>\n",
       "  </tbody>\n",
       "</table>\n",
       "</div>"
      ],
      "text/plain": [
       "                  RMSE  R Squared\n",
       "Train       106.015594   0.052828\n",
       "Validation   96.245885   0.028857\n",
       "Test         90.031592   0.018440"
      ]
     },
     "execution_count": 284,
     "metadata": {},
     "output_type": "execute_result"
    }
   ],
   "source": [
    "# learning rate = 0.02 and lambda = 3.05, alpha = 0.5\n",
    "w = np.random.rand(X_train_itcpt.shape[1])\n",
    "alpha = 0.5\n",
    "train_w_elastic_net(X_train_itcpt, y_train, w, lambda_, alpha, learning_rate, batch_size, epochs, False)\n",
    "\n",
    "compute_scores(w)"
   ]
  },
  {
   "cell_type": "code",
   "execution_count": 285,
   "metadata": {},
   "outputs": [
    {
     "data": {
      "text/html": [
       "<div>\n",
       "<style scoped>\n",
       "    .dataframe tbody tr th:only-of-type {\n",
       "        vertical-align: middle;\n",
       "    }\n",
       "\n",
       "    .dataframe tbody tr th {\n",
       "        vertical-align: top;\n",
       "    }\n",
       "\n",
       "    .dataframe thead th {\n",
       "        text-align: right;\n",
       "    }\n",
       "</style>\n",
       "<table border=\"1\" class=\"dataframe\">\n",
       "  <thead>\n",
       "    <tr style=\"text-align: right;\">\n",
       "      <th></th>\n",
       "      <th>RMSE</th>\n",
       "      <th>R Squared</th>\n",
       "    </tr>\n",
       "  </thead>\n",
       "  <tbody>\n",
       "    <tr>\n",
       "      <th>Train</th>\n",
       "      <td>106.290901</td>\n",
       "      <td>0.047903</td>\n",
       "    </tr>\n",
       "    <tr>\n",
       "      <th>Validation</th>\n",
       "      <td>96.653067</td>\n",
       "      <td>0.020622</td>\n",
       "    </tr>\n",
       "    <tr>\n",
       "      <th>Test</th>\n",
       "      <td>92.848261</td>\n",
       "      <td>-0.043938</td>\n",
       "    </tr>\n",
       "  </tbody>\n",
       "</table>\n",
       "</div>"
      ],
      "text/plain": [
       "                  RMSE  R Squared\n",
       "Train       106.290901   0.047903\n",
       "Validation   96.653067   0.020622\n",
       "Test         92.848261  -0.043938"
      ]
     },
     "execution_count": 285,
     "metadata": {},
     "output_type": "execute_result"
    }
   ],
   "source": [
    "# learning rate = 0.02 and lambda = 3.05, alpha = 0.75\n",
    "w = np.random.rand(X_train_itcpt.shape[1])\n",
    "alpha = 0.75\n",
    "train_w_elastic_net(X_train_itcpt, y_train, w, lambda_, alpha, learning_rate, batch_size, epochs, False)\n",
    "\n",
    "compute_scores(w)"
   ]
  },
  {
   "cell_type": "code",
   "execution_count": 286,
   "metadata": {},
   "outputs": [
    {
     "data": {
      "text/html": [
       "<div>\n",
       "<style scoped>\n",
       "    .dataframe tbody tr th:only-of-type {\n",
       "        vertical-align: middle;\n",
       "    }\n",
       "\n",
       "    .dataframe tbody tr th {\n",
       "        vertical-align: top;\n",
       "    }\n",
       "\n",
       "    .dataframe thead th {\n",
       "        text-align: right;\n",
       "    }\n",
       "</style>\n",
       "<table border=\"1\" class=\"dataframe\">\n",
       "  <thead>\n",
       "    <tr style=\"text-align: right;\">\n",
       "      <th></th>\n",
       "      <th>RMSE</th>\n",
       "      <th>R Squared</th>\n",
       "    </tr>\n",
       "  </thead>\n",
       "  <tbody>\n",
       "    <tr>\n",
       "      <th>Train</th>\n",
       "      <td>106.775777</td>\n",
       "      <td>0.039196</td>\n",
       "    </tr>\n",
       "    <tr>\n",
       "      <th>Validation</th>\n",
       "      <td>96.830830</td>\n",
       "      <td>0.017016</td>\n",
       "    </tr>\n",
       "    <tr>\n",
       "      <th>Test</th>\n",
       "      <td>90.413326</td>\n",
       "      <td>0.010099</td>\n",
       "    </tr>\n",
       "  </tbody>\n",
       "</table>\n",
       "</div>"
      ],
      "text/plain": [
       "                  RMSE  R Squared\n",
       "Train       106.775777   0.039196\n",
       "Validation   96.830830   0.017016\n",
       "Test         90.413326   0.010099"
      ]
     },
     "execution_count": 286,
     "metadata": {},
     "output_type": "execute_result"
    }
   ],
   "source": [
    "# learning rate = 0.02 and lambda = 3.05, alpha = 1\n",
    "w = np.random.rand(X_train_itcpt.shape[1])\n",
    "alpha = 1\n",
    "train_w_elastic_net(X_train_itcpt, y_train, w, lambda_, alpha, learning_rate, batch_size, epochs, False)\n",
    "\n",
    "compute_scores(w)"
   ]
  },
  {
   "cell_type": "code",
   "execution_count": 287,
   "metadata": {},
   "outputs": [
    {
     "data": {
      "text/html": [
       "<div>\n",
       "<style scoped>\n",
       "    .dataframe tbody tr th:only-of-type {\n",
       "        vertical-align: middle;\n",
       "    }\n",
       "\n",
       "    .dataframe tbody tr th {\n",
       "        vertical-align: top;\n",
       "    }\n",
       "\n",
       "    .dataframe thead th {\n",
       "        text-align: right;\n",
       "    }\n",
       "</style>\n",
       "<table border=\"1\" class=\"dataframe\">\n",
       "  <thead>\n",
       "    <tr style=\"text-align: right;\">\n",
       "      <th></th>\n",
       "      <th>RMSE</th>\n",
       "      <th>R Squared</th>\n",
       "    </tr>\n",
       "  </thead>\n",
       "  <tbody>\n",
       "    <tr>\n",
       "      <th>Train</th>\n",
       "      <td>98.486883</td>\n",
       "      <td>0.182579</td>\n",
       "    </tr>\n",
       "    <tr>\n",
       "      <th>Validation</th>\n",
       "      <td>99.461923</td>\n",
       "      <td>-0.037129</td>\n",
       "    </tr>\n",
       "    <tr>\n",
       "      <th>Test</th>\n",
       "      <td>101.247082</td>\n",
       "      <td>-0.241344</td>\n",
       "    </tr>\n",
       "  </tbody>\n",
       "</table>\n",
       "</div>"
      ],
      "text/plain": [
       "                  RMSE  R Squared\n",
       "Train        98.486883   0.182579\n",
       "Validation   99.461923  -0.037129\n",
       "Test        101.247082  -0.241344"
      ]
     },
     "execution_count": 287,
     "metadata": {},
     "output_type": "execute_result"
    }
   ],
   "source": [
    "# learning rate = 0.05 and lambda = 0.197, alpha = 0\n",
    "w = np.random.rand(X_train_itcpt.shape[1])\n",
    "alpha = 0\n",
    "lambda_ = 0.197\n",
    "learning_rate = 0.05\n",
    "train_w_elastic_net(X_train_itcpt, y_train, w, lambda_, alpha, learning_rate, batch_size, epochs, False)\n",
    "\n",
    "compute_scores(w)"
   ]
  },
  {
   "cell_type": "code",
   "execution_count": 288,
   "metadata": {},
   "outputs": [
    {
     "data": {
      "text/html": [
       "<div>\n",
       "<style scoped>\n",
       "    .dataframe tbody tr th:only-of-type {\n",
       "        vertical-align: middle;\n",
       "    }\n",
       "\n",
       "    .dataframe tbody tr th {\n",
       "        vertical-align: top;\n",
       "    }\n",
       "\n",
       "    .dataframe thead th {\n",
       "        text-align: right;\n",
       "    }\n",
       "</style>\n",
       "<table border=\"1\" class=\"dataframe\">\n",
       "  <thead>\n",
       "    <tr style=\"text-align: right;\">\n",
       "      <th></th>\n",
       "      <th>RMSE</th>\n",
       "      <th>R Squared</th>\n",
       "    </tr>\n",
       "  </thead>\n",
       "  <tbody>\n",
       "    <tr>\n",
       "      <th>Train</th>\n",
       "      <td>99.830273</td>\n",
       "      <td>0.160127</td>\n",
       "    </tr>\n",
       "    <tr>\n",
       "      <th>Validation</th>\n",
       "      <td>94.816212</td>\n",
       "      <td>0.057494</td>\n",
       "    </tr>\n",
       "    <tr>\n",
       "      <th>Test</th>\n",
       "      <td>90.274953</td>\n",
       "      <td>0.013126</td>\n",
       "    </tr>\n",
       "  </tbody>\n",
       "</table>\n",
       "</div>"
      ],
      "text/plain": [
       "                 RMSE  R Squared\n",
       "Train       99.830273   0.160127\n",
       "Validation  94.816212   0.057494\n",
       "Test        90.274953   0.013126"
      ]
     },
     "execution_count": 288,
     "metadata": {},
     "output_type": "execute_result"
    }
   ],
   "source": [
    "# learning rate = 0.05 and lambda = 0.197, alpha = 0.25\n",
    "w = np.random.rand(X_train_itcpt.shape[1])\n",
    "alpha = 0.33\n",
    "train_w_elastic_net(X_train_itcpt, y_train, w, lambda_, alpha, learning_rate, batch_size, epochs, False)\n",
    "\n",
    "compute_scores(w)"
   ]
  },
  {
   "cell_type": "code",
   "execution_count": 289,
   "metadata": {},
   "outputs": [
    {
     "data": {
      "text/html": [
       "<div>\n",
       "<style scoped>\n",
       "    .dataframe tbody tr th:only-of-type {\n",
       "        vertical-align: middle;\n",
       "    }\n",
       "\n",
       "    .dataframe tbody tr th {\n",
       "        vertical-align: top;\n",
       "    }\n",
       "\n",
       "    .dataframe thead th {\n",
       "        text-align: right;\n",
       "    }\n",
       "</style>\n",
       "<table border=\"1\" class=\"dataframe\">\n",
       "  <thead>\n",
       "    <tr style=\"text-align: right;\">\n",
       "      <th></th>\n",
       "      <th>RMSE</th>\n",
       "      <th>R Squared</th>\n",
       "    </tr>\n",
       "  </thead>\n",
       "  <tbody>\n",
       "    <tr>\n",
       "      <th>Train</th>\n",
       "      <td>100.331008</td>\n",
       "      <td>0.151680</td>\n",
       "    </tr>\n",
       "    <tr>\n",
       "      <th>Validation</th>\n",
       "      <td>94.283554</td>\n",
       "      <td>0.068054</td>\n",
       "    </tr>\n",
       "    <tr>\n",
       "      <th>Test</th>\n",
       "      <td>88.474833</td>\n",
       "      <td>0.052091</td>\n",
       "    </tr>\n",
       "  </tbody>\n",
       "</table>\n",
       "</div>"
      ],
      "text/plain": [
       "                  RMSE  R Squared\n",
       "Train       100.331008   0.151680\n",
       "Validation   94.283554   0.068054\n",
       "Test         88.474833   0.052091"
      ]
     },
     "execution_count": 289,
     "metadata": {},
     "output_type": "execute_result"
    }
   ],
   "source": [
    "# learning rate = 0.05 and lambda = 0.197, alpha = 0.5\n",
    "w = np.random.rand(X_train_itcpt.shape[1])\n",
    "alpha = 0.5\n",
    "train_w_elastic_net(X_train_itcpt, y_train, w, lambda_, alpha, learning_rate, batch_size, epochs, False)\n",
    "\n",
    "compute_scores(w)"
   ]
  },
  {
   "cell_type": "code",
   "execution_count": 290,
   "metadata": {},
   "outputs": [
    {
     "data": {
      "text/html": [
       "<div>\n",
       "<style scoped>\n",
       "    .dataframe tbody tr th:only-of-type {\n",
       "        vertical-align: middle;\n",
       "    }\n",
       "\n",
       "    .dataframe tbody tr th {\n",
       "        vertical-align: top;\n",
       "    }\n",
       "\n",
       "    .dataframe thead th {\n",
       "        text-align: right;\n",
       "    }\n",
       "</style>\n",
       "<table border=\"1\" class=\"dataframe\">\n",
       "  <thead>\n",
       "    <tr style=\"text-align: right;\">\n",
       "      <th></th>\n",
       "      <th>RMSE</th>\n",
       "      <th>R Squared</th>\n",
       "    </tr>\n",
       "  </thead>\n",
       "  <tbody>\n",
       "    <tr>\n",
       "      <th>Train</th>\n",
       "      <td>100.897766</td>\n",
       "      <td>0.142069</td>\n",
       "    </tr>\n",
       "    <tr>\n",
       "      <th>Validation</th>\n",
       "      <td>93.845584</td>\n",
       "      <td>0.076692</td>\n",
       "    </tr>\n",
       "    <tr>\n",
       "      <th>Test</th>\n",
       "      <td>88.745674</td>\n",
       "      <td>0.046279</td>\n",
       "    </tr>\n",
       "  </tbody>\n",
       "</table>\n",
       "</div>"
      ],
      "text/plain": [
       "                  RMSE  R Squared\n",
       "Train       100.897766   0.142069\n",
       "Validation   93.845584   0.076692\n",
       "Test         88.745674   0.046279"
      ]
     },
     "execution_count": 290,
     "metadata": {},
     "output_type": "execute_result"
    }
   ],
   "source": [
    "# learning rate = 0.05 and lambda = 0.197, alpha = 0.75\n",
    "w = np.random.rand(X_train_itcpt.shape[1])\n",
    "alpha = 0.75\n",
    "train_w_elastic_net(X_train_itcpt, y_train, w, lambda_, alpha, learning_rate, batch_size, epochs, False)\n",
    "\n",
    "compute_scores(w)"
   ]
  },
  {
   "cell_type": "code",
   "execution_count": 291,
   "metadata": {},
   "outputs": [
    {
     "data": {
      "text/html": [
       "<div>\n",
       "<style scoped>\n",
       "    .dataframe tbody tr th:only-of-type {\n",
       "        vertical-align: middle;\n",
       "    }\n",
       "\n",
       "    .dataframe tbody tr th {\n",
       "        vertical-align: top;\n",
       "    }\n",
       "\n",
       "    .dataframe thead th {\n",
       "        text-align: right;\n",
       "    }\n",
       "</style>\n",
       "<table border=\"1\" class=\"dataframe\">\n",
       "  <thead>\n",
       "    <tr style=\"text-align: right;\">\n",
       "      <th></th>\n",
       "      <th>RMSE</th>\n",
       "      <th>R Squared</th>\n",
       "    </tr>\n",
       "  </thead>\n",
       "  <tbody>\n",
       "    <tr>\n",
       "      <th>Train</th>\n",
       "      <td>101.484656</td>\n",
       "      <td>0.132060</td>\n",
       "    </tr>\n",
       "    <tr>\n",
       "      <th>Validation</th>\n",
       "      <td>93.869280</td>\n",
       "      <td>0.076225</td>\n",
       "    </tr>\n",
       "    <tr>\n",
       "      <th>Test</th>\n",
       "      <td>86.978630</td>\n",
       "      <td>0.083881</td>\n",
       "    </tr>\n",
       "  </tbody>\n",
       "</table>\n",
       "</div>"
      ],
      "text/plain": [
       "                  RMSE  R Squared\n",
       "Train       101.484656   0.132060\n",
       "Validation   93.869280   0.076225\n",
       "Test         86.978630   0.083881"
      ]
     },
     "execution_count": 291,
     "metadata": {},
     "output_type": "execute_result"
    }
   ],
   "source": [
    "# learning rate = 0.05 and lambda = 0.197, alpha = 1\n",
    "w = np.random.rand(X_train_itcpt.shape[1])\n",
    "alpha = 1\n",
    "train_w_elastic_net(X_train_itcpt, y_train, w, lambda_, alpha, learning_rate, batch_size, epochs, False)\n",
    "\n",
    "compute_scores(w)"
   ]
  },
  {
   "cell_type": "markdown",
   "metadata": {},
   "source": [
    "#### d. Based on the results from (c) and 2(a) and 2(c), what conclusions can you draw in terms of RMSE and R2? Which model is the best? Also discuss the differences between the SGD-variants of Ridge and LASSO and the standard implementations (Problem 2)."
   ]
  },
  {
   "cell_type": "markdown",
   "metadata": {},
   "source": [
    "Based on RMSE and R Squared scores from 2(a), 2(c), 3(c), we can see that,\n",
    "* The model without any regularization in 2(a) has the poorest results on test set.\n",
    "* Both ridge and lasso models out-performs the model without regularization. However, the ridge model has slightly better performance than the lasso model: ridge has R Squared in $(0.5, 0.6)$ on test set, while lasso has R Squared in $(0.4, 0.5)$.\n",
    "* The elastic net model also achieves R Squared in $(0.5, 0.6)$ on test set, and the best R Squared appears to be even slightly higher than the ridge model, despite we only tried a few hyper parameters."
   ]
  },
  {
   "cell_type": "markdown",
   "metadata": {},
   "source": [
    "As to which model is the best,\n",
    "* Elastic net model and ridge model both perform well on test set, and can be considered better models compared to non-regularized model and lasso model.\n",
    "* If we prefer accuracy and flexibility, elastic net model is the best model, because it is a superset of both ridge and lasso model, and we can fine-tune the regularization parameters to achieve the best prediction.\n",
    "* However, If we prefer simplicity and can sacrifice a bit accuracy, ridge model is better because it is easier to train without a lot of tuning, while also achieves good prediction."
   ]
  },
  {
   "cell_type": "markdown",
   "metadata": {},
   "source": [
    "The difference between SGD and standard implementation from sklearn:\n",
    "* SGD introduces randomness to the training process; each epoch we update the coefficients multiple times based on the batch size $(1, N)$; while standard gradient descent update the coefficients only once per epoch. Standard implementation guarantees the convergence of loss function on convex set, while SGD guarantees the convergence in terms of expectation. As a result, the trained coefficients by SGD are different each time.\n",
    "* SGD is faster in terms of convergence rate; standard gradient descent is slower but always keeps loss function lower for appropriate learning rate."
   ]
  },
  {
   "cell_type": "markdown",
   "metadata": {},
   "source": [
    "#### e. What are the final coefficients that yield the best elastic net model on the test data? Compare these with the final coefficients for the best performing model on the validation dataset. Are there noticeable differences? If so, discuss the differences with respect to the impact on the performance."
   ]
  },
  {
   "cell_type": "markdown",
   "metadata": {},
   "source": [
    "The best coefficients that yield the best elastic net model (R Squared $> 0.5$ on **test**):\n",
    "* $\\lambda = 0.197$\n",
    "* learning rate = $0.05$\n",
    "* $alpha = 0.5$ or $1$"
   ]
  },
  {
   "cell_type": "markdown",
   "metadata": {},
   "source": [
    "The best coefficients that yield the best elastic net model (R Squared $> 0.7$ on **validation**):\n",
    "* $\\lambda = 0.197$\n",
    "* learning rate = $0.05$\n",
    "* $alpha = 0.75$ or $1$\n",
    "\n",
    "Or\n",
    "\n",
    "* $\\lambda = 3.05$\n",
    "* learning rate = $0.02$\n",
    "* $alpha = 0$"
   ]
  },
  {
   "cell_type": "markdown",
   "metadata": {},
   "source": [
    "Notice that $\\lambda = 0.197$ and $alpha=1$ yields good results on both validation and test set. It is essentially the ridge model when $alpha=1$."
   ]
  },
  {
   "cell_type": "markdown",
   "metadata": {},
   "source": [
    "There are no huge difference between the best coffecients for validation and test set. If we look at the R Squared score at above coefficients, all of them yield good score on validation and test set."
   ]
  }
 ],
 "metadata": {
  "kernelspec": {
   "display_name": "Python 3",
   "language": "python",
   "name": "python3"
  },
  "language_info": {
   "codemirror_mode": {
    "name": "ipython",
    "version": 3
   },
   "file_extension": ".py",
   "mimetype": "text/x-python",
   "name": "python",
   "nbconvert_exporter": "python",
   "pygments_lexer": "ipython3",
   "version": "3.6.6"
  }
 },
 "nbformat": 4,
 "nbformat_minor": 2
}
