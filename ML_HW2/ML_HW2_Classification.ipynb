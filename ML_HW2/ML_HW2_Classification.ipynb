{
 "cells": [
  {
   "cell_type": "markdown",
   "metadata": {},
   "source": [
    "# Machine Learning Homework 2\n",
    "#### Student: Liyan Xu"
   ]
  },
  {
   "cell_type": "markdown",
   "metadata": {},
   "source": [
    "## 1. Bias-Variance Trade-off of LASSO\n",
    "#### While it is hard to write the explicit formula for the bias and variance of using LASSO, we can quantify the expected general trend."
   ]
  },
  {
   "cell_type": "markdown",
   "metadata": {},
   "source": [
    "#### (a) What is the general trend of the bias as λ increases?\n",
    "\n",
    "The bias will increase as $\\lambda$ increases, because the model fits less towards data."
   ]
  },
  {
   "cell_type": "markdown",
   "metadata": {},
   "source": [
    "#### (b) What about the general trend of the variance as λ increases?\n",
    "\n",
    "The variance will decrease as $\\lambda$ increases, because larger $\\lambda$ selects simpler model which lowers the variance."
   ]
  },
  {
   "cell_type": "markdown",
   "metadata": {},
   "source": [
    "#### (c) What is the bias at λ=0?"
   ]
  },
  {
   "cell_type": "markdown",
   "metadata": {},
   "source": [
    "When $\\lambda=0$, lasso term is zero. The model is linear regression model without regularization. Let true $y=X\\beta+\\varepsilon$, where $\\varepsilon \\sim N(0, \\sigma ^2)$.\n",
    "\n",
    "The bias is:\n",
    "$$\n",
    "\\begin{align*}\n",
    "&E[\\hat{f}(x_0)] - f^*(x_0)\\\\\n",
    "&= E[x_0\\hat{\\beta}] - x_0\\beta\\\\\n",
    "&= E[x_0(X^T X)^{-1}X^T y] - x_0\\beta\\\\\n",
    "&= E[x_0 X^{-1} (X^T)^{-1} X^T (X\\beta + \\varepsilon)] - x_0\\beta\\\\\n",
    "&= E[x_0\\beta + k \\varepsilon] - x_0\\beta\\\\\n",
    "&= E[k \\varepsilon]\\\\\n",
    "&= 0\n",
    "\\end{align*}\n",
    "$$"
   ]
  },
  {
   "cell_type": "markdown",
   "metadata": {},
   "source": [
    "#### (d) What about the variance at λ = ∞?"
   ]
  },
  {
   "cell_type": "markdown",
   "metadata": {},
   "source": [
    "When $\\lambda = \\infty$, the learned $\\hat{\\beta} = 0$, therefore $\\hat{f}(x) = 0$.\n",
    "\n",
    "The variance is:\n",
    "$$\n",
    "E[\\hat{f}(x_0) - E[\\hat{f}(x_0)]]^2 = E[0 - 0]^2 = 0\n",
    "$$"
   ]
  },
  {
   "cell_type": "markdown",
   "metadata": {},
   "source": [
    "## 2. Discriminant Analysis\n",
    "**Suppose points in $R^{2}$ are being obtained from two classes, C1 and C2, both of which are well described by bivariate Gaussians with means at\n",
    "$\\begin{bmatrix}\n",
    "0 \\\\\n",
    "0 \\\\\n",
    "\\end{bmatrix}$\n",
    "and\n",
    "$\\begin{bmatrix}\n",
    "2 \\\\\n",
    "2.5 \\\\\n",
    "\\end{bmatrix}$\n",
    ", and covariances\n",
    "$\\begin{bmatrix}\n",
    "2.5 & 1 \\\\\n",
    "1 & 2.5 \\\\\n",
    "\\end{bmatrix}$\n",
    "and\n",
    "$\\begin{bmatrix}\n",
    "2.5 & 1.5 \\\\\n",
    "1.5 & 1 \\\\\n",
    "\\end{bmatrix}$\n",
    "respectively.**"
   ]
  },
  {
   "cell_type": "markdown",
   "metadata": {},
   "source": [
    "#### (a) If the priors of C1 and C2 are 0.6 and 0.4 respectively, what is the ideal (i.e. Bayes Optimal) decision boundary?"
   ]
  },
  {
   "cell_type": "markdown",
   "metadata": {},
   "source": [
    "Bayes Optimal when Gaussian distribution:\n",
    "$$f(x)=argmaxP(G=k|x)=argmaxP(x|G=k)\\pi_{k}=argmax\\;Gaussian_{k}(x)\\pi_{k}$$\n",
    "\n",
    "When $x$ is classified as $C1$, we have:\n",
    "$$Gaussian_{c1}(x)\\pi_{c1} > Gaussian_{c2}(x)\\pi_{c2}$$\n",
    "\n",
    "Take $\\log$ on both sides and multiply $2$:\n",
    "$$2\\log \\pi_{c1} - \\log |\\Sigma_{c1}| - (x-\\mu_{c1})^T\\Sigma_{c1}^{-1}(x-\\mu_{c1})> 2\\log \\pi_{c2} - \\log |\\Sigma_{c2}| - (x-\\mu_{c2})^T\\Sigma_{c2}^{-1}(x-\\mu_{c2})$$\n",
    "$$2\\log \\dfrac{\\pi_{c1}}{\\pi_{c2}} - \\log \\dfrac{|\\Sigma_{c1}|}{|\\Sigma_{c2}|} - (x-\\mu_{c1})^T\\Sigma_{c1}^{-1}(x-\\mu_{c1}) + (x-\\mu_{c2})^T\\Sigma_{c2}^{-1}(x-\\mu_{c2}) > 0$$\n",
    "\n",
    "When above equation is $> 0$, $x$ is classified as $C1$. The decision boundry is when\n",
    "$$2\\log \\dfrac{\\pi_{c1}}{\\pi_{c2}} - \\log \\dfrac{|\\Sigma_{c1}|}{|\\Sigma_{c2}|} - (x-\\mu_{c1})^T\\Sigma_{c1}^{-1}(x-\\mu_{c1}) + (x-\\mu_{c2})^T\\Sigma_{c2}^{-1}(x-\\mu_{c2}) = 0$$\n",
    "\n",
    "Substitue $\\pi_{c1}$, $\\pi_{c2}$, we have:\n",
    "$$2\\log \\dfrac{0.6}{0.4} - \\log \\dfrac{|\\Sigma_{c1}|}{|\\Sigma_{c2}|} - (x-\\mu_{c1})^T\\Sigma_{c1}^{-1}(x-\\mu_{c1}) + (x-\\mu_{c2})^T\\Sigma_{c2}^{-1}(x-\\mu_{c2}) = 0$$"
   ]
  },
  {
   "cell_type": "markdown",
   "metadata": {},
   "source": [
    "#### (b) Generate 2 datasets from the known distribution. The first one will have 20 training samples (13 points from C1, 7 points from C2), and 10 test samples (6 and 4 points from C1 and C2 respectively). The second dataset will contain 100 training samples (60 from C1, 40 from C2) and 200 test samples (120 from C1, 80 from C2). What is the optimal Bayes error rate on the two test datasets (i.e., how well does the Bayes optimal decision boundary from (a) do)?"
   ]
  },
  {
   "cell_type": "code",
   "execution_count": 2,
   "metadata": {
    "collapsed": true
   },
   "outputs": [],
   "source": [
    "import numpy as np\n",
    "import matplotlib.pyplot as plt\n",
    "%matplotlib inline"
   ]
  },
  {
   "cell_type": "code",
   "execution_count": 3,
   "metadata": {
    "collapsed": true
   },
   "outputs": [],
   "source": [
    "# Define means and covs\n",
    "mean_c1 = np.array([0, 0])\n",
    "mean_c2 = np.array([2, 2.5])\n",
    "cov_c1 = np.array([[2.5, 1], [1, 2.5]])\n",
    "cov_c2 = np.array([[2.5, 1.5], [1.5, 1]])"
   ]
  },
  {
   "cell_type": "code",
   "execution_count": 4,
   "metadata": {
    "collapsed": true
   },
   "outputs": [],
   "source": [
    "# Draw random samples from C1 and C2\n",
    "samples1_c1_train = np.random.multivariate_normal(mean_c1, cov_c1, 13)\n",
    "samples1_c1_test = np.random.multivariate_normal(mean_c1, cov_c1, 6)\n",
    "\n",
    "samples2_c1_train = np.random.multivariate_normal(mean_c1, cov_c1, 60)\n",
    "samples2_c1_test = np.random.multivariate_normal(mean_c1, cov_c1, 120)\n",
    "\n",
    "samples1_c2_train = np.random.multivariate_normal(mean_c2, cov_c2, 7)\n",
    "samples1_c2_test = np.random.multivariate_normal(mean_c2, cov_c2, 4)\n",
    "\n",
    "samples2_c2_train = np.random.multivariate_normal(mean_c2, cov_c2, 40)\n",
    "samples2_c2_test = np.random.multivariate_normal(mean_c2, cov_c2, 80)"
   ]
  },
  {
   "cell_type": "code",
   "execution_count": 5,
   "metadata": {
    "collapsed": true
   },
   "outputs": [],
   "source": [
    "# Define training and test sets\n",
    "X1_train = np.vstack([samples1_c1_train, samples1_c2_train])\n",
    "y1_train = np.array([1] * 13 + [2] * 7)\n",
    "X1_test = np.vstack([samples1_c1_test, samples1_c2_test])\n",
    "y1_test = np.array([1] * 6 + [2] * 4)\n",
    "\n",
    "X2_train = np.vstack([samples2_c1_train, samples2_c2_train])\n",
    "y2_train = np.array([1] * 60 + [2] * 40)\n",
    "X2_test = np.vstack([samples2_c1_test, samples2_c2_test])\n",
    "y2_test = np.array([1] * 120 + [2] * 80)"
   ]
  },
  {
   "cell_type": "code",
   "execution_count": 6,
   "metadata": {
    "collapsed": true
   },
   "outputs": [],
   "source": [
    "# Define Bayes Optimal class that does binary classification\n",
    "class BayesOptimalBinary:\n",
    "    def __init__(self, mean1, mean2, cov1, cov2):\n",
    "        self.mean1 = mean1\n",
    "        self.mean2 = mean2\n",
    "        self.cov1 = cov1\n",
    "        self.cov2 = cov2\n",
    "        \n",
    "        self.cov1_inv = np.linalg.inv(cov1)\n",
    "        self.cov2_inv = np.linalg.inv(cov2)\n",
    "        \n",
    "        self.det_cov1 = np.linalg.det(cov1)\n",
    "        self.det_cov2 = np.linalg.det(cov2)\n",
    "        self.log_ratio_of_cov_det = np.log(self.det_cov1 / self.det_cov2)\n",
    "    \n",
    "    # Define training method to get prior\n",
    "    def train(self, y_train):\n",
    "        self.prior1 = (y_train == 1).sum() / y_train.shape[0]\n",
    "        self.prior2 = 1 - self.prior1\n",
    "        self.log_ratio_of_priors = np.log(self.prior1 / self.prior2)\n",
    "        self.intercept = 2 * self.log_ratio_of_priors - self.log_ratio_of_cov_det\n",
    "    \n",
    "    # Define prediction method\n",
    "    def predict(self, X):\n",
    "        diff_mean1 = X - self.mean1\n",
    "        diff_mean2 = X - self.mean2\n",
    "        \n",
    "        # np.einsum('ij,ij->i', ...): dot product by rows\n",
    "        scores = np.einsum('ij,ij->i', diff_mean2 @ self.cov2_inv, diff_mean2)\\\n",
    "                - np.einsum('ij,ij->i', diff_mean1 @ self.cov1_inv, diff_mean1)\\\n",
    "                + self.intercept\n",
    "        return np.where(scores >= 0, 1, 2)"
   ]
  },
  {
   "cell_type": "code",
   "execution_count": 7,
   "metadata": {
    "collapsed": true
   },
   "outputs": [],
   "source": [
    "# Define convenience method to compute error rate\n",
    "def get_err_rate_optimal(mean1, mean2, cov1, cov2, y_train, X_test, y_test):\n",
    "    bayes = BayesOptimalBinary(mean1, mean2, cov1, cov2)\n",
    "    bayes.train(y_train)\n",
    "    y_predicted = bayes.predict(X_test)\n",
    "    return np.sum(y_predicted != y_test) / y_test.shape[0]"
   ]
  },
  {
   "cell_type": "code",
   "execution_count": 8,
   "metadata": {},
   "outputs": [
    {
     "name": "stdout",
     "output_type": "stream",
     "text": [
      "Error rate of dataset 1 is 0.10\n",
      "Error rate of dataset 2 is 0.07\n"
     ]
    }
   ],
   "source": [
    "# Compute error rates\n",
    "err_rate_optimal_1 = get_err_rate_optimal(mean_c1, mean_c2, cov_c1, cov_c2, y1_train, X1_test, y1_test)\n",
    "err_rate_optimal_2 = get_err_rate_optimal(mean_c1, mean_c2, cov_c1, cov_c2, y2_train, X2_test, y2_test)\n",
    "print('Error rate of dataset 1 is %.2f' % err_rate_optimal_1)\n",
    "print('Error rate of dataset 2 is %.2f' % err_rate_optimal_2)"
   ]
  },
  {
   "cell_type": "markdown",
   "metadata": {},
   "source": [
    "#### (c) Create your own implementation of LDA, which allow the user to pass in the training samples (features and response). Test your implementation on the two datasets from (b). What are the error rates on the training data and test data?"
   ]
  },
  {
   "cell_type": "markdown",
   "metadata": {},
   "source": [
    "The log-ratio of two classes when gaussian distribution with same covariance is:\n",
    "$$\\log \\dfrac{P(G=c1|x)}{P(G=c2|x)}\n",
    "=\\log \\dfrac{Gaussian_{c1}(x)\\pi_{c1}}{Gaussian_{c2}(x)\\pi_{c2}}\n",
    "=\\log \\dfrac{\\pi_{c1}}{\\pi_{c2}} - \\dfrac{1}{2}(\\mu_{c1} + \\mu_{c2})^{T}\\Sigma^{-1}(\\mu_{c1} - \\mu_{c2}) + x^{T}\\Sigma^{-1}(\\mu_{c1} - \\mu_{c2})$$"
   ]
  },
  {
   "cell_type": "code",
   "execution_count": 9,
   "metadata": {
    "collapsed": true
   },
   "outputs": [],
   "source": [
    "# Define method to estimate Gaussian parameters for each class\n",
    "# Class is labeled as integer 1, 2, 3...\n",
    "def estimate_gaussian_params(X, y, same_cov=False):\n",
    "    K = np.amax(y)    # Total K Classes\n",
    "    len_k = [0] * K\n",
    "    mean_k = [None] * K\n",
    "    cov_k = [None] * K\n",
    "    prior_k = [0] * K\n",
    "    for k in range(K):\n",
    "        X_k = X[y == k+1]\n",
    "        mean_k[k] = np.mean(X_k, axis=0)\n",
    "        cov_k[k] = np.cov(X_k, rowvar=False)\n",
    "        len_k[k] = X_k.shape[0]\n",
    "        prior_k[k] = len_k[k] / y.shape[0]\n",
    "    \n",
    "    if same_cov:\n",
    "        cov = np.zeros((X.shape[1], X.shape[1]))\n",
    "        for k in range(K):\n",
    "            cov += (cov_k[k] * (len_k[k] - 1))\n",
    "        cov /= (y.shape[0] - K)\n",
    "        return (prior_k, mean_k, cov)\n",
    "    else:\n",
    "        return (prior_k, mean_k, cov_k)"
   ]
  },
  {
   "cell_type": "code",
   "execution_count": 10,
   "metadata": {
    "collapsed": true
   },
   "outputs": [],
   "source": [
    "# Define LDA class that does binary classification\n",
    "class LdaBinary:\n",
    "    # Define training method\n",
    "    def train(self, X, y):\n",
    "        prior_k, mean_k, cov = estimate_gaussian_params(X, y, True)\n",
    "        self.prior1 = prior_k[0]\n",
    "        self.prior2 = prior_k[1]\n",
    "        self.mean1 = mean_k[0]\n",
    "        self.mean2 = mean_k[1]\n",
    "        self.cov = cov\n",
    "        self.cov_inv = np.linalg.inv(cov)\n",
    "        \n",
    "        self.diff_mean = (self.mean1 - self.mean2).reshape(X.shape[1], 1)\n",
    "        self.intercept = np.log(self.prior1 / self.prior2)\\\n",
    "                        - 0.5 * ((self.mean1 + self.mean2).reshape(1, X.shape[1]) @ self.cov_inv @ self.diff_mean)\n",
    "    \n",
    "    # Define prediction method\n",
    "    def predict(self, X):\n",
    "        scores = (X @ self.cov_inv @ self.diff_mean + self.intercept).reshape(-1)\n",
    "        return np.where(scores >= 0, 1, 2)"
   ]
  },
  {
   "cell_type": "code",
   "execution_count": 11,
   "metadata": {
    "collapsed": true
   },
   "outputs": [],
   "source": [
    "# Define convenience method to compute error rate\n",
    "def get_err_rate_lda(X_train, y_train, X_test, y_test):\n",
    "    lda = LdaBinary()\n",
    "    lda.train(X_train, y_train)\n",
    "    y_train_predicted = lda.predict(X_train)\n",
    "    y_test_predicted = lda.predict(X_test)\n",
    "    \n",
    "    err_rate_train = np.sum(y_train_predicted != y_train) / y_train.shape[0]\n",
    "    err_rate_test = np.sum(y_test_predicted != y_test) / y_test.shape[0]\n",
    "    \n",
    "    return err_rate_train, err_rate_test"
   ]
  },
  {
   "cell_type": "code",
   "execution_count": 12,
   "metadata": {},
   "outputs": [
    {
     "name": "stdout",
     "output_type": "stream",
     "text": [
      "Error rate of training set 1 is 0.05\n",
      "Error rate of test set 1 is 0.20\n"
     ]
    }
   ],
   "source": [
    "# # Compute error rates for dataset 1\n",
    "err_rate_lda_train1, err_rate_lda_test1 = get_err_rate_lda(X1_train, y1_train, X1_test, y1_test)\n",
    "print('Error rate of training set 1 is %.2f' % err_rate_lda_train1)\n",
    "print('Error rate of test set 1 is %.2f' % err_rate_lda_test1)"
   ]
  },
  {
   "cell_type": "code",
   "execution_count": 13,
   "metadata": {},
   "outputs": [
    {
     "name": "stdout",
     "output_type": "stream",
     "text": [
      "Error rate of training set 2 is 0.14\n",
      "Error rate of test set 2 is 0.14\n"
     ]
    }
   ],
   "source": [
    "# Compute error rates for dataset 2\n",
    "err_rate_lda_train2, err_rate_lda_test2 = get_err_rate_lda(X2_train, y2_train, X2_test, y2_test)\n",
    "print('Error rate of training set 2 is %.2f' % err_rate_lda_train2)\n",
    "print('Error rate of test set 2 is %.2f' % err_rate_lda_test2)"
   ]
  },
  {
   "cell_type": "markdown",
   "metadata": {},
   "source": [
    "#### (d) Create your own implementation of QDA, similar to the LDA portion. Test your implementation on the two datasets from (b). What are the error rates on the training data and test data?"
   ]
  },
  {
   "cell_type": "markdown",
   "metadata": {},
   "source": [
    "The log-ratio of two classes when gaussian distribution with different covariance is:\n",
    "$$\\log \\dfrac{P(G=c1|x)}{P(G=c2|x)}\n",
    "=\\log \\dfrac{Gaussian_{c1}(x)\\pi_{c1}}{Gaussian_{c2}(x)\\pi_{c2}}\n",
    "=2\\log \\dfrac{\\pi_{c1}}{\\pi_{c2}} - \\log \\dfrac{|\\Sigma_{c1}|}{|\\Sigma_{c2}|} - (x-\\mu_{c1})^T\\Sigma_{c1}^{-1}(x-\\mu_{c1}) + (x-\\mu_{c2})^T\\Sigma_{c2}^{-1}(x-\\mu_{c2})$$"
   ]
  },
  {
   "cell_type": "code",
   "execution_count": 14,
   "metadata": {
    "collapsed": true
   },
   "outputs": [],
   "source": [
    "# Define QDA class that does binary classification\n",
    "class QdaBinary:\n",
    "    # Define training method\n",
    "    def train(self, X, y):\n",
    "        prior_k, mean_k, cov_k = estimate_gaussian_params(X, y)\n",
    "        self.prior1 = prior_k[0]\n",
    "        self.prior2 = prior_k[1]\n",
    "        self.mean1 = mean_k[0]\n",
    "        self.mean2 = mean_k[1]\n",
    "        self.cov1 = cov_k[0]\n",
    "        self.cov2 = cov_k[1]\n",
    "        \n",
    "        self.cov1_inv = np.linalg.inv(self.cov1)\n",
    "        self.cov2_inv = np.linalg.inv(self.cov2)\n",
    "        \n",
    "        self.det_cov1 = np.linalg.det(self.cov1)\n",
    "        self.det_cov2 = np.linalg.det(self.cov2)\n",
    "        self.log_ratio_of_cov_det = np.log(self.det_cov1 / self.det_cov2)\n",
    "        self.log_ratio_of_priors = np.log(self.prior1 / self.prior2)\n",
    "        self.intercept = 2 * self.log_ratio_of_priors - self.log_ratio_of_cov_det\n",
    "    \n",
    "    # Define prediction method\n",
    "    def predict(self, X):\n",
    "        diff_mean1 = X - self.mean1\n",
    "        diff_mean2 = X - self.mean2\n",
    "        \n",
    "        # np.einsum('ij,ij->i', ...): dot product by rows\n",
    "        scores = np.einsum('ij,ij->i', diff_mean2 @ self.cov2_inv, diff_mean2)\\\n",
    "                - np.einsum('ij,ij->i', diff_mean1 @ self.cov1_inv, diff_mean1)\\\n",
    "                + self.intercept\n",
    "        return np.where(scores >= 0, 1, 2)"
   ]
  },
  {
   "cell_type": "code",
   "execution_count": 15,
   "metadata": {
    "collapsed": true
   },
   "outputs": [],
   "source": [
    "# Define convenience method to compute error rate\n",
    "def get_err_rate_qda(X_train, y_train, X_test, y_test):\n",
    "    qda = QdaBinary()\n",
    "    qda.train(X_train, y_train)\n",
    "    y_train_predicted = qda.predict(X_train)\n",
    "    y_test_predicted = qda.predict(X_test)\n",
    "    \n",
    "    err_rate_train = np.sum(y_train_predicted != y_train) / y_train.shape[0]\n",
    "    err_rate_test = np.sum(y_test_predicted != y_test) / y_test.shape[0]\n",
    "    \n",
    "    return err_rate_train, err_rate_test"
   ]
  },
  {
   "cell_type": "code",
   "execution_count": 16,
   "metadata": {},
   "outputs": [
    {
     "name": "stdout",
     "output_type": "stream",
     "text": [
      "Error rate of training set 1 is 0.05\n",
      "Error rate of test set 1 is 0.10\n"
     ]
    }
   ],
   "source": [
    "# # Compute error rates for dataset 1\n",
    "err_rate_qda_train1, err_rate_qda_test1 = get_err_rate_qda(X1_train, y1_train, X1_test, y1_test)\n",
    "print('Error rate of training set 1 is %.2f' % err_rate_qda_train1)\n",
    "print('Error rate of test set 1 is %.2f' % err_rate_qda_test1)"
   ]
  },
  {
   "cell_type": "code",
   "execution_count": 17,
   "metadata": {},
   "outputs": [
    {
     "name": "stdout",
     "output_type": "stream",
     "text": [
      "Error rate of training set 2 is 0.09\n",
      "Error rate of test set 2 is 0.07\n"
     ]
    }
   ],
   "source": [
    "# # Compute error rates for dataset 2\n",
    "err_rate_qda_train2, err_rate_qda_test2 = get_err_rate_qda(X2_train, y2_train, X2_test, y2_test)\n",
    "print('Error rate of training set 2 is %.2f' % err_rate_qda_train2)\n",
    "print('Error rate of test set 2 is %.2f' % err_rate_qda_test2)"
   ]
  },
  {
   "cell_type": "markdown",
   "metadata": {},
   "source": [
    "#### (e) Suppose the cost of misclassifying an input actually belonging to C1 is twice as expensive as misclassifying an input belonging to C2. Correct classification does not incur any cost. If the objective is to minimize the expected cost rather than expected misclassification rate, how would this change the Bayes optimal decision boundary from (a)?"
   ]
  },
  {
   "cell_type": "markdown",
   "metadata": {},
   "source": [
    "In a more generalized case, let the cost of misclassifying an input actually belonging to C1 is $k$ times as expensive as misclassifying an input belonging to C2.\n",
    "\n",
    "Let $f$ be the classifier, $f^*$ be the optimal classifier, $y$ be the correct label. $R(f) = E[L(f), y]$ be the risk given loss $L$ as a function of $f$ and $y$.\n",
    "\n",
    "For binary classification, let's use the loss function as follows:\n",
    "$$\n",
    "L(f) = \\begin{cases}\n",
    "1 & f(x) = c1\\;\\&\\;y = c2\\\\\n",
    "k & f(x) = c2\\;\\&\\;y = c1\\\\\n",
    "0 & f(x) = y\n",
    "\\end{cases}\n",
    "$$\n",
    "\n",
    "The optimal classifier $f^{*}$ is:\n",
    "$$\n",
    "\\begin{align*}\n",
    "f^{*} &= argmin\\;R(f)\\\\\n",
    "&= argmin\\;E[L(f), y]\\\\\n",
    "&= argmin\\;(P(y=c2|x)\\mathbb{1}_{f(x)=c1} + kP(y=c1|x)\\mathbb{1}_{f(x)=c2})\\\\\n",
    "&= argmin\\;(P(y=c2|x)\\mathbb{1}_{f(x)=c1} + kP(y=c1|x)(1-\\mathbb{1}_{f(x)=c1}))\\\\\n",
    "&= argmin\\;(kP(y=c1|x) + (P(y=c2|x) - kP(y=c1|x))\\mathbb{1}_{f(x)=c1})\\\\\n",
    "&= \\begin{cases}\n",
    "c1 & kP(y=c1|x) > P(y=c2|x)\\\\\n",
    "c2 & Otherwise\n",
    "\\end{cases}\n",
    "\\end{align*}\n",
    "$$\n",
    "\n",
    "In this case, $k = 2$, so the optimal $f^{*}$ is:\n",
    "$$\n",
    "f^{*} =\n",
    "\\begin{cases}\n",
    "c1 & 2P(y=c1|x) > P(y=c2|x)\\\\\n",
    "c2 & Otherwise\n",
    "\\end{cases}\n",
    "$$\n",
    "\n",
    "And the decision boundary changes to:\n",
    "$$\n",
    "2P(y=c1|x) = P(y=c2|x)\\\\\n",
    "2Gaussian_{c1}(x)\\pi_{c1} = Gaussian_{c2}(x)\\pi_{c2}\\\\\n",
    "2\\log 2 + 2\\log \\dfrac{\\pi_{c1}}{\\pi_{c2}} - \\log \\dfrac{|\\Sigma_{c1}|}{|\\Sigma_{c2}|} - (x-\\mu_{c1})^T\\Sigma_{c1}^{-1}(x-\\mu_{c1}) + (x-\\mu_{c2})^T\\Sigma_{c2}^{-1}(x-\\mu_{c2}) = 0\n",
    "$$\n",
    "If $\\log$ is base $2$, then the dicision boundary is:\n",
    "$$\n",
    "2 + 2\\log \\dfrac{\\pi_{c1}}{\\pi_{c2}} - \\log \\dfrac{|\\Sigma_{c1}|}{|\\Sigma_{c2}|} - (x-\\mu_{c1})^T\\Sigma_{c1}^{-1}(x-\\mu_{c1}) + (x-\\mu_{c2})^T\\Sigma_{c2}^{-1}(x-\\mu_{c2}) = 0\n",
    "$$"
   ]
  },
  {
   "cell_type": "markdown",
   "metadata": {},
   "source": [
    "## 3. Spam classification using Naive Bayes and Standard Logistic Regression\n",
    "#### Consider the email spam dataset, which contains 4601 e-mail messages that have been split into 3000 training (spam.train.dat) and 1601 test emails (spam.test.dat). 57 features have been extracted with a binary label in the last column. You can read more about the data at the UCI repository (https://archive.ics.uci.edu/ml/datasets/spambase)."
   ]
  },
  {
   "cell_type": "markdown",
   "metadata": {},
   "source": [
    "#### (a) You will explore the effects of feature preprocessing and its impact on Naive Bayes and Standard (unregularized) logistic regression. Preprocess your data in the following ways (they are independent of one another and should not build on each step):\n",
    "**1. No preprocessing.**<br>\n",
    "**2. Standardize the columns so they all have mean 0 and unit variance. Note that you want to apply the transformation you learned on the training data to the test data. In other words, the test data may not have mean of 0 and unit variance.**<br>\n",
    "**3. Transform the features using $\\log (x_{ij} + 0.1)$.**<br>\n",
    "**4. Binarize the features using $\\mathbb{1}_{x_{ij}>0}$ (Note that $\\mathbb{1}$ denotes the indicator function).**<br>\n",
    "**You are free to use any preprocessing module (e.g., sklearn.preprocessing).**"
   ]
  },
  {
   "cell_type": "code",
   "execution_count": 18,
   "metadata": {
    "collapsed": true
   },
   "outputs": [],
   "source": [
    "from sklearn import preprocessing\n",
    "\n",
    "# Load data from file\n",
    "data_train = np.genfromtxt('spam.train.dat')\n",
    "data_test = np.genfromtxt('spam.test.dat')"
   ]
  },
  {
   "cell_type": "code",
   "execution_count": 19,
   "metadata": {
    "collapsed": true
   },
   "outputs": [],
   "source": [
    "# Set features and target\n",
    "X_train = data_train[:, :-1]\n",
    "y_train = data_train[:, -1].astype(int)\n",
    "\n",
    "X_test = data_test[:, :-1]\n",
    "y_test = data_test[:, -1].astype(int)"
   ]
  },
  {
   "cell_type": "code",
   "execution_count": 20,
   "metadata": {
    "collapsed": true
   },
   "outputs": [],
   "source": [
    "# Preprocessing 1: no preprocessing\n",
    "X1_train = X_train\n",
    "X1_test = X_test"
   ]
  },
  {
   "cell_type": "code",
   "execution_count": 21,
   "metadata": {
    "collapsed": true
   },
   "outputs": [],
   "source": [
    "# Preprocessing 2: standardization\n",
    "scaler = preprocessing.StandardScaler().fit(X_train)\n",
    "X2_train = scaler.transform(X_train)\n",
    "X2_test = scaler.transform(X_test)"
   ]
  },
  {
   "cell_type": "code",
   "execution_count": 22,
   "metadata": {
    "collapsed": true
   },
   "outputs": [],
   "source": [
    "# Preprocessing 3: log(x+0.1)\n",
    "X3_train = np.log(X_train + 0.1)\n",
    "X3_test = np.log(X_test + 0.1)"
   ]
  },
  {
   "cell_type": "code",
   "execution_count": 23,
   "metadata": {
    "collapsed": true
   },
   "outputs": [],
   "source": [
    "# Preprocessing 4: binarization\n",
    "binarizer = preprocessing.Binarizer().fit(X_train)\n",
    "X4_train = binarizer.transform(X_train)\n",
    "X4_test = binarizer.transform(X_test)"
   ]
  },
  {
   "cell_type": "markdown",
   "metadata": {},
   "source": [
    "#### (b) Fit a Naive Bayes model to each of the four preprocessing steps above using only the training data. You are free to use any existing packages. Report the accuracy rate and AUC on the training and test sets."
   ]
  },
  {
   "cell_type": "code",
   "execution_count": 24,
   "metadata": {
    "collapsed": true
   },
   "outputs": [],
   "source": [
    "# Create Gaussian Naive Bayes model\n",
    "from sklearn.naive_bayes import GaussianNB\n",
    "from sklearn.metrics import roc_curve, roc_auc_score\n",
    "\n",
    "nb = GaussianNB()\n",
    "fpr_bayes = [None] * 4\n",
    "tpr_bayes = [None] * 4\n",
    "\n",
    "# Define convenience method to calculate AR and AUC, and return ROC for test set\n",
    "def calc_scores(cls, X_train, y_train, X_test, y_test, identifier):\n",
    "    cls.fit(X_train, y_train)\n",
    "    \n",
    "    ar_train = cls.score(X_train, y_train)\n",
    "    ar_test = cls.score(X_test, y_test)\n",
    "    \n",
    "    auc_train = roc_auc_score(y_train, cls.predict_proba(X_train)[:, 1])\n",
    "    y_positive_prob = cls.predict_proba(X_test)[:, 1]\n",
    "    auc_test = roc_auc_score(y_test, y_positive_prob)\n",
    "    \n",
    "    print('Accuracy Rate on training set %s is %.2f' % (identifier, ar_train))\n",
    "    print('Accuracy Rate on test set %s is %.2f' % (identifier, ar_test))\n",
    "    print('AUC on training set %s is %.2f' % (identifier, auc_train))\n",
    "    print('AUC on test set %s is %.2f' % (identifier, auc_test))\n",
    "    \n",
    "    fpr, tpr, _ = roc_curve(y_test, y_positive_prob)\n",
    "    return fpr, tpr"
   ]
  },
  {
   "cell_type": "code",
   "execution_count": 25,
   "metadata": {},
   "outputs": [
    {
     "name": "stdout",
     "output_type": "stream",
     "text": [
      "Accuracy Rate on training set 1 is 0.83\n",
      "Accuracy Rate on test set 1 is 0.82\n",
      "AUC on training set 1 is 0.95\n",
      "AUC on test set 1 is 0.94\n"
     ]
    }
   ],
   "source": [
    "# Show AR and AUC scores on preprocessed data 1\n",
    "fpr_bayes[0], tpr_bayes[0] = calc_scores(nb, X1_train, y_train, X1_test, y_test, '1')"
   ]
  },
  {
   "cell_type": "code",
   "execution_count": 26,
   "metadata": {},
   "outputs": [
    {
     "name": "stdout",
     "output_type": "stream",
     "text": [
      "Accuracy Rate on training set 2 is 0.82\n",
      "Accuracy Rate on test set 2 is 0.81\n",
      "AUC on training set 2 is 0.89\n",
      "AUC on test set 2 is 0.88\n"
     ]
    }
   ],
   "source": [
    "# Show AR and AUC scores on preprocessed data 2\n",
    "fpr_bayes[1], tpr_bayes[1] = calc_scores(nb, X2_train, y_train, X2_test, y_test, '2')"
   ]
  },
  {
   "cell_type": "code",
   "execution_count": 27,
   "metadata": {},
   "outputs": [
    {
     "name": "stdout",
     "output_type": "stream",
     "text": [
      "Accuracy Rate on training set 3 is 0.82\n",
      "Accuracy Rate on test set 3 is 0.82\n",
      "AUC on training set 3 is 0.95\n",
      "AUC on test set 3 is 0.95\n"
     ]
    }
   ],
   "source": [
    "# Show AR and AUC scores on preprocessed data 3\n",
    "fpr_bayes[2], tpr_bayes[2] = calc_scores(nb, X3_train, y_train, X3_test, y_test, '3')"
   ]
  },
  {
   "cell_type": "code",
   "execution_count": 28,
   "metadata": {},
   "outputs": [
    {
     "name": "stdout",
     "output_type": "stream",
     "text": [
      "Accuracy Rate on training set 4 is 0.80\n",
      "Accuracy Rate on test set 4 is 0.80\n",
      "AUC on training set 4 is 0.95\n",
      "AUC on test set 4 is 0.94\n"
     ]
    }
   ],
   "source": [
    "# Show AR and AUC scores on preprocessed data 4\n",
    "fpr_bayes[3], tpr_bayes[3] = calc_scores(nb, X4_train, y_train, X4_test, y_test, '4')"
   ]
  },
  {
   "cell_type": "markdown",
   "metadata": {},
   "source": [
    "#### (c) Fit a standard (no regularization) logistic regression model to each of the four preprocessing steps above using only the training data. You are free to use any existing packages. Report the accuracy rate and AUC on the training and test sets."
   ]
  },
  {
   "cell_type": "code",
   "execution_count": 29,
   "metadata": {
    "collapsed": true
   },
   "outputs": [],
   "source": [
    "# Create Logistic Regression model\n",
    "from sklearn.linear_model import LogisticRegression\n",
    "\n",
    "lgr = LogisticRegression(C=1e9, warm_start=False)   # Set inverse of reg strength to large number\n",
    "fpr_lgr = [None] * 4\n",
    "tpr_lgr = [None] * 4"
   ]
  },
  {
   "cell_type": "code",
   "execution_count": 30,
   "metadata": {},
   "outputs": [
    {
     "name": "stdout",
     "output_type": "stream",
     "text": [
      "Accuracy Rate on training set 1 is 0.93\n",
      "Accuracy Rate on test set 1 is 0.92\n",
      "AUC on training set 1 is 0.98\n",
      "AUC on test set 1 is 0.97\n"
     ]
    }
   ],
   "source": [
    "# Show AR and AUC scores on preprocessed data 1\n",
    "fpr_lgr[0], tpr_lgr[0] = calc_scores(lgr, X1_train, y_train, X1_test, y_test, '1')"
   ]
  },
  {
   "cell_type": "code",
   "execution_count": 31,
   "metadata": {},
   "outputs": [
    {
     "name": "stdout",
     "output_type": "stream",
     "text": [
      "Accuracy Rate on training set 2 is 0.93\n",
      "Accuracy Rate on test set 2 is 0.92\n",
      "AUC on training set 2 is 0.98\n",
      "AUC on test set 2 is 0.97\n"
     ]
    }
   ],
   "source": [
    "# Show AR and AUC scores on preprocessed data 2\n",
    "fpr_lgr[1], tpr_lgr[1] = calc_scores(lgr, X2_train, y_train, X2_test, y_test, '2')"
   ]
  },
  {
   "cell_type": "code",
   "execution_count": 32,
   "metadata": {},
   "outputs": [
    {
     "name": "stdout",
     "output_type": "stream",
     "text": [
      "Accuracy Rate on training set 3 is 0.95\n",
      "Accuracy Rate on test set 3 is 0.94\n",
      "AUC on training set 3 is 0.99\n",
      "AUC on test set 3 is 0.98\n"
     ]
    }
   ],
   "source": [
    "# Show AR and AUC scores on preprocessed data 3\n",
    "fpr_lgr[2], tpr_lgr[2] = calc_scores(lgr, X3_train, y_train, X3_test, y_test, '3')"
   ]
  },
  {
   "cell_type": "code",
   "execution_count": 33,
   "metadata": {},
   "outputs": [
    {
     "name": "stdout",
     "output_type": "stream",
     "text": [
      "Accuracy Rate on training set 4 is 0.94\n",
      "Accuracy Rate on test set 4 is 0.93\n",
      "AUC on training set 4 is 0.98\n",
      "AUC on test set 4 is 0.98\n"
     ]
    }
   ],
   "source": [
    "# Show AR and AUC scores on preprocessed data 4\n",
    "fpr_lgr[3], tpr_lgr[3] = calc_scores(lgr, X4_train, y_train, X4_test, y_test, '4')"
   ]
  },
  {
   "cell_type": "markdown",
   "metadata": {},
   "source": [
    "#### (d) Plot the receiver operating characteristic (ROC) curves derived from the test data for each of the eight models (4 Naive Bayes, 4 logistic regression models). Comment on how the models compare with one another with regards to ROC, AUC, and accuracy."
   ]
  },
  {
   "cell_type": "code",
   "execution_count": 34,
   "metadata": {
    "collapsed": true
   },
   "outputs": [],
   "source": [
    "# Define convenience method to plot ROC curves\n",
    "def plot_roc(fpr, tpr, identifier):\n",
    "    ax = plt.gca()\n",
    "    lineObjects = [ax.plot(fpr[i], tpr[i], label='dataset '+str(i+1)) for i in range(len(fpr))]\n",
    "    ax.plot([0, 1], [0, 1], color='navy', linestyle='--')\n",
    "    plt.xlim([0.0, 1.0])\n",
    "    plt.ylim([0.0, 1.05])\n",
    "    plt.xlabel('False Positive Rate')\n",
    "    plt.ylabel('True Positive Rate')\n",
    "    plt.title('Receiver Operating Characteristic for ' + identifier)\n",
    "    ax.legend()\n",
    "    plt.show()"
   ]
  },
  {
   "cell_type": "code",
   "execution_count": 35,
   "metadata": {},
   "outputs": [
    {
     "data": {
      "image/png": "[encoded data removed]",
      "text/plain": [
       "<Figure size 432x288 with 1 Axes>"
      ]
     },
     "metadata": {
      "needs_background": "light"
     },
     "output_type": "display_data"
    }
   ],
   "source": [
    "# Plot ROC curves for Naive Bayes\n",
    "plot_roc(fpr_bayes, tpr_bayes, 'Naive Bayes')"
   ]
  },
  {
   "cell_type": "code",
   "execution_count": 36,
   "metadata": {},
   "outputs": [
    {
     "data": {
      "image/png": "[encoded data removed]",
      "text/plain": [
       "<Figure size 432x288 with 1 Axes>"
      ]
     },
     "metadata": {
      "needs_background": "light"
     },
     "output_type": "display_data"
    }
   ],
   "source": [
    "# Plot ROC curves for Logistic Regression\n",
    "plot_roc(fpr_lgr, tpr_lgr, 'Logistic Regression')"
   ]
  },
  {
   "cell_type": "markdown",
   "metadata": {},
   "source": [
    "From the ROC, AUC and accuracy, we can see that:\n",
    "1. Each preprocessed dataset doesn't have much impact on performance for both Naive Bayes and Logistic Regression models; the four datasets lead to similar ROC, AUC and accuracy for both models.\n",
    "2. Particularly, dataset 3 using $\\log (x_{ij}+0.1)$ yields the best ROC, AUC and accuracy for both models; therefore, $\\log (x_{ij}+0.1)$ is the best preprocessing method among the four methods for both models.\n",
    "3. Logistic Regression model outperforms Naive Bayes model for each preprocessing method; therefore, Logistic Regression is preferred over Naive Bayes for this problem."
   ]
  },
  {
   "cell_type": "markdown",
   "metadata": {},
   "source": [
    "## 4. Exploring Model Selection Strategies for Logistic Regression with Regularization\n",
    "#### We will be using the SPAM dataset from the previous part for this problem. You can preprocess the data however you see fit, either based on the results of the previous problem or introducing another preprocessing method. The only requirement is that it is consistent throughout the rest of this problem."
   ]
  },
  {
   "cell_type": "markdown",
   "metadata": {},
   "source": [
    "#### (a) Implement the validation/hold-out technique for logistic regression (regularized model), where the performance is reported for the validation portion. Your implementation should work for any user-specified split ratio (this will help with the later parts of this problem)."
   ]
  },
  {
   "cell_type": "code",
   "execution_count": 65,
   "metadata": {
    "collapsed": true
   },
   "outputs": [],
   "source": [
    "# Define method of hold-out validation\n",
    "import math\n",
    "\n",
    "def cv_holdout(lgr, lambdas, X, y, ratio_holdout):\n",
    "    # Get training and validation set\n",
    "    idx_shuffle = np.arange(y.shape[0])\n",
    "    np.random.shuffle(idx_shuffle)\n",
    "    cnt_holdout = math.floor(y.shape[0] * ratio_holdout)\n",
    "    X_train = X[idx_shuffle[cnt_holdout:]]\n",
    "    y_train = y[idx_shuffle[cnt_holdout:]]\n",
    "    X_valid = X[idx_shuffle[:cnt_holdout]]\n",
    "    y_valid = y[idx_shuffle[:cnt_holdout]]\n",
    "    \n",
    "    # Search parameter lambda\n",
    "    lambda_best = None\n",
    "    accuracy_best = 0\n",
    "    for lambda_ in lambdas:\n",
    "        lgr.set_params(C=1/lambda_, warm_start=False)\n",
    "        lgr.fit(X_train, y_train)\n",
    "        \n",
    "        accuracy = lgr.score(X_valid, y_valid)\n",
    "        if accuracy > accuracy_best:\n",
    "            accuracy_best = accuracy\n",
    "            lambda_best = lambda_\n",
    "    \n",
    "    return lambda_best, accuracy_best"
   ]
  },
  {
   "cell_type": "markdown",
   "metadata": {},
   "source": [
    "#### (b) Implement the k-fold cross-validation approach for logistic regression (regularized model), where the performance is reported from the k-different validation. Your implementation should work for any user-specified k."
   ]
  },
  {
   "cell_type": "code",
   "execution_count": 80,
   "metadata": {
    "collapsed": true
   },
   "outputs": [],
   "source": [
    "# Define method of k-fold cross-validation\n",
    "def cv_kfold(lgr, lambdas, X, y, K):\n",
    "    lambda_best = None\n",
    "    accuracy_best = 0\n",
    "    \n",
    "    cnt_fold = math.ceil(y.shape[0] / K)\n",
    "    idx_shuffle = np.arange(y.shape[0])\n",
    "    np.random.shuffle(idx_shuffle)\n",
    "    \n",
    "    for lambda_ in lambdas:\n",
    "        accuracies = []\n",
    "        idx_pre = 0\n",
    "        for i in range(K):\n",
    "            idx_valid = idx_shuffle[idx_pre : idx_pre+cnt_fold]\n",
    "            idx_train = np.hstack((idx_shuffle[:idx_pre], idx_shuffle[idx_pre+cnt_fold:]))\n",
    "            idx_pre += cnt_fold\n",
    "            X_train = X[idx_train]\n",
    "            y_train = y[idx_train]\n",
    "            X_valid = X[idx_valid]\n",
    "            y_valid = y[idx_valid]\n",
    "            \n",
    "            lgr.set_params(C=1/lambda_, warm_start=False)\n",
    "            lgr.fit(X_train, y_train)\n",
    "            accuracies.append(lgr.score(X_valid, y_valid))\n",
    "            \n",
    "        accuracy_mean = np.array(accuracies).mean()\n",
    "        if accuracy_mean > accuracy_best:\n",
    "            accuracy_best = accuracy_mean\n",
    "            lambda_best = lambda_\n",
    "    \n",
    "    return lambda_best, accuracy_best"
   ]
  },
  {
   "cell_type": "markdown",
   "metadata": {},
   "source": [
    "#### (c) Fit ridge and LASSO using the validation/hold-out technique by searching over a variety of split ratios and regularization parameters. For each unique split ratio, specify the best ‘parameter’, report the validation error, and the test error generated from training on all the training data using the best parameter."
   ]
  },
  {
   "cell_type": "code",
   "execution_count": 73,
   "metadata": {
    "collapsed": true
   },
   "outputs": [],
   "source": [
    "# Define convenience method to search best parameter by holdout validation\n",
    "import pandas as pd\n",
    "\n",
    "def search_param_by_holdout(lgr, lambdas, ratios, X_train, y_train, X_test, y_test):\n",
    "    result = []\n",
    "    for ratio in ratios:\n",
    "        lambda_, accuracy_valid = cv_holdout(lgr, lambdas, X_train, y_train, ratio)\n",
    "        lgr.set_params(C=1/lambda_, warm_start=False)\n",
    "        lgr.fit(X_train, y_train)\n",
    "        accuracy_test = lgr.score(X_test, y_test)\n",
    "        result.append([lambda_, 1-accuracy_valid, 1-accuracy_test])\n",
    "        \n",
    "    return pd.DataFrame(result, ratios, ['lambda', 'Validation Error', 'Test Error'])"
   ]
  },
  {
   "cell_type": "code",
   "execution_count": 70,
   "metadata": {},
   "outputs": [
    {
     "data": {
      "text/html": [
       "<div>\n",
       "<style scoped>\n",
       "    .dataframe tbody tr th:only-of-type {\n",
       "        vertical-align: middle;\n",
       "    }\n",
       "\n",
       "    .dataframe tbody tr th {\n",
       "        vertical-align: top;\n",
       "    }\n",
       "\n",
       "    .dataframe thead th {\n",
       "        text-align: right;\n",
       "    }\n",
       "</style>\n",
       "<table border=\"1\" class=\"dataframe\">\n",
       "  <thead>\n",
       "    <tr style=\"text-align: right;\">\n",
       "      <th></th>\n",
       "      <th>lambda</th>\n",
       "      <th>Validation Error</th>\n",
       "      <th>Test Error</th>\n",
       "    </tr>\n",
       "  </thead>\n",
       "  <tbody>\n",
       "    <tr>\n",
       "      <th>0.1</th>\n",
       "      <td>0.001000</td>\n",
       "      <td>0.056667</td>\n",
       "      <td>0.063086</td>\n",
       "    </tr>\n",
       "    <tr>\n",
       "      <th>0.2</th>\n",
       "      <td>0.001000</td>\n",
       "      <td>0.045000</td>\n",
       "      <td>0.063086</td>\n",
       "    </tr>\n",
       "    <tr>\n",
       "      <th>0.3</th>\n",
       "      <td>15.556761</td>\n",
       "      <td>0.053333</td>\n",
       "      <td>0.061836</td>\n",
       "    </tr>\n",
       "    <tr>\n",
       "      <th>0.4</th>\n",
       "      <td>6.892612</td>\n",
       "      <td>0.047500</td>\n",
       "      <td>0.063086</td>\n",
       "    </tr>\n",
       "    <tr>\n",
       "      <th>0.5</th>\n",
       "      <td>17.475284</td>\n",
       "      <td>0.055333</td>\n",
       "      <td>0.061836</td>\n",
       "    </tr>\n",
       "    <tr>\n",
       "      <th>0.6</th>\n",
       "      <td>10.974988</td>\n",
       "      <td>0.055000</td>\n",
       "      <td>0.062461</td>\n",
       "    </tr>\n",
       "    <tr>\n",
       "      <th>0.7</th>\n",
       "      <td>3.853529</td>\n",
       "      <td>0.061905</td>\n",
       "      <td>0.061836</td>\n",
       "    </tr>\n",
       "    <tr>\n",
       "      <th>0.8</th>\n",
       "      <td>5.462277</td>\n",
       "      <td>0.065833</td>\n",
       "      <td>0.061212</td>\n",
       "    </tr>\n",
       "    <tr>\n",
       "      <th>0.9</th>\n",
       "      <td>3.053856</td>\n",
       "      <td>0.065556</td>\n",
       "      <td>0.061212</td>\n",
       "    </tr>\n",
       "  </tbody>\n",
       "</table>\n",
       "</div>"
      ],
      "text/plain": [
       "        lambda  Validation Error  Test Error\n",
       "0.1   0.001000          0.056667    0.063086\n",
       "0.2   0.001000          0.045000    0.063086\n",
       "0.3  15.556761          0.053333    0.061836\n",
       "0.4   6.892612          0.047500    0.063086\n",
       "0.5  17.475284          0.055333    0.061836\n",
       "0.6  10.974988          0.055000    0.062461\n",
       "0.7   3.853529          0.061905    0.061836\n",
       "0.8   5.462277          0.065833    0.061212\n",
       "0.9   3.053856          0.065556    0.061212"
      ]
     },
     "execution_count": 70,
     "metadata": {},
     "output_type": "execute_result"
    }
   ],
   "source": [
    "# Search best parameter for ridge\n",
    "lgr_ridge = LogisticRegression(penalty='l2', warm_start=False)\n",
    "search_param_by_holdout(lgr_ridge, np.logspace(-3, 2, 100), np.linspace(0.1, 0.9, 9),\n",
    "                        X3_train, y_train, X3_test, y_test)"
   ]
  },
  {
   "cell_type": "code",
   "execution_count": 72,
   "metadata": {},
   "outputs": [
    {
     "data": {
      "text/html": [
       "<div>\n",
       "<style scoped>\n",
       "    .dataframe tbody tr th:only-of-type {\n",
       "        vertical-align: middle;\n",
       "    }\n",
       "\n",
       "    .dataframe tbody tr th {\n",
       "        vertical-align: top;\n",
       "    }\n",
       "\n",
       "    .dataframe thead th {\n",
       "        text-align: right;\n",
       "    }\n",
       "</style>\n",
       "<table border=\"1\" class=\"dataframe\">\n",
       "  <thead>\n",
       "    <tr style=\"text-align: right;\">\n",
       "      <th></th>\n",
       "      <th>lambda</th>\n",
       "      <th>Validation Error</th>\n",
       "      <th>Test Error</th>\n",
       "    </tr>\n",
       "  </thead>\n",
       "  <tbody>\n",
       "    <tr>\n",
       "      <th>0.1</th>\n",
       "      <td>0.003594</td>\n",
       "      <td>0.053333</td>\n",
       "      <td>0.061836</td>\n",
       "    </tr>\n",
       "    <tr>\n",
       "      <th>0.2</th>\n",
       "      <td>0.599484</td>\n",
       "      <td>0.048333</td>\n",
       "      <td>0.062461</td>\n",
       "    </tr>\n",
       "    <tr>\n",
       "      <th>0.3</th>\n",
       "      <td>2.154435</td>\n",
       "      <td>0.068889</td>\n",
       "      <td>0.061836</td>\n",
       "    </tr>\n",
       "    <tr>\n",
       "      <th>0.4</th>\n",
       "      <td>7.742637</td>\n",
       "      <td>0.053333</td>\n",
       "      <td>0.061836</td>\n",
       "    </tr>\n",
       "    <tr>\n",
       "      <th>0.5</th>\n",
       "      <td>7.742637</td>\n",
       "      <td>0.053333</td>\n",
       "      <td>0.061836</td>\n",
       "    </tr>\n",
       "    <tr>\n",
       "      <th>0.6</th>\n",
       "      <td>7.742637</td>\n",
       "      <td>0.063889</td>\n",
       "      <td>0.061836</td>\n",
       "    </tr>\n",
       "    <tr>\n",
       "      <th>0.7</th>\n",
       "      <td>2.154435</td>\n",
       "      <td>0.053333</td>\n",
       "      <td>0.061836</td>\n",
       "    </tr>\n",
       "    <tr>\n",
       "      <th>0.8</th>\n",
       "      <td>2.154435</td>\n",
       "      <td>0.072917</td>\n",
       "      <td>0.061836</td>\n",
       "    </tr>\n",
       "    <tr>\n",
       "      <th>0.9</th>\n",
       "      <td>2.154435</td>\n",
       "      <td>0.059259</td>\n",
       "      <td>0.061836</td>\n",
       "    </tr>\n",
       "  </tbody>\n",
       "</table>\n",
       "</div>"
      ],
      "text/plain": [
       "       lambda  Validation Error  Test Error\n",
       "0.1  0.003594          0.053333    0.061836\n",
       "0.2  0.599484          0.048333    0.062461\n",
       "0.3  2.154435          0.068889    0.061836\n",
       "0.4  7.742637          0.053333    0.061836\n",
       "0.5  7.742637          0.053333    0.061836\n",
       "0.6  7.742637          0.063889    0.061836\n",
       "0.7  2.154435          0.053333    0.061836\n",
       "0.8  2.154435          0.072917    0.061836\n",
       "0.9  2.154435          0.059259    0.061836"
      ]
     },
     "execution_count": 72,
     "metadata": {},
     "output_type": "execute_result"
    }
   ],
   "source": [
    "# Search best parameter for lasso\n",
    "lgr_lasso = LogisticRegression(penalty='l1', warm_start=False)\n",
    "search_param_by_holdout(lgr_lasso, np.logspace(-3, 2, 10), np.linspace(0.1, 0.9, 9),\n",
    "                        X3_train, y_train, X3_test, y_test)"
   ]
  },
  {
   "cell_type": "markdown",
   "metadata": {},
   "source": [
    "#### (d) Fit ridge and LASSO using the k-fold cross-validation approach by searching over k = 2,5,10 and regularization parameters. For value of k, specify the best ‘parameter’, report the average validation error, and the test error generated from training on all the training data using the best parameter."
   ]
  },
  {
   "cell_type": "code",
   "execution_count": 85,
   "metadata": {
    "collapsed": true
   },
   "outputs": [],
   "source": [
    "# Define convenience method to search best parameter by k-fold validation\n",
    "def search_param_by_kfold(lgr, lambdas, Ks, X_train, y_train, X_test, y_test):\n",
    "    result = []\n",
    "    for K in Ks:\n",
    "        print('Processing K = %d' % K)\n",
    "        lambda_, accuracy_valid = cv_kfold(lgr, lambdas, X_train, y_train, K)\n",
    "        lgr.set_params(C=1/lambda_, warm_start=False)\n",
    "        lgr.fit(X_train, y_train)\n",
    "        accuracy_test = lgr.score(X_test, y_test)\n",
    "        result.append([lambda_, 1-accuracy_valid, 1-accuracy_test])\n",
    "        \n",
    "    return pd.DataFrame(result, Ks, ['lambda', 'Validation Error', 'Test Error'])"
   ]
  },
  {
   "cell_type": "code",
   "execution_count": 86,
   "metadata": {},
   "outputs": [
    {
     "name": "stdout",
     "output_type": "stream",
     "text": [
      "Processing K = 2\n",
      "Processing K = 5\n",
      "Processing K = 10\n"
     ]
    },
    {
     "data": {
      "text/html": [
       "<div>\n",
       "<style scoped>\n",
       "    .dataframe tbody tr th:only-of-type {\n",
       "        vertical-align: middle;\n",
       "    }\n",
       "\n",
       "    .dataframe tbody tr th {\n",
       "        vertical-align: top;\n",
       "    }\n",
       "\n",
       "    .dataframe thead th {\n",
       "        text-align: right;\n",
       "    }\n",
       "</style>\n",
       "<table border=\"1\" class=\"dataframe\">\n",
       "  <thead>\n",
       "    <tr style=\"text-align: right;\">\n",
       "      <th></th>\n",
       "      <th>lambda</th>\n",
       "      <th>Validation Error</th>\n",
       "      <th>Test Error</th>\n",
       "    </tr>\n",
       "  </thead>\n",
       "  <tbody>\n",
       "    <tr>\n",
       "      <th>2</th>\n",
       "      <td>2.636651</td>\n",
       "      <td>0.056667</td>\n",
       "      <td>0.061836</td>\n",
       "    </tr>\n",
       "    <tr>\n",
       "      <th>5</th>\n",
       "      <td>2.636651</td>\n",
       "      <td>0.055333</td>\n",
       "      <td>0.061836</td>\n",
       "    </tr>\n",
       "    <tr>\n",
       "      <th>10</th>\n",
       "      <td>8.858668</td>\n",
       "      <td>0.056333</td>\n",
       "      <td>0.062461</td>\n",
       "    </tr>\n",
       "  </tbody>\n",
       "</table>\n",
       "</div>"
      ],
      "text/plain": [
       "      lambda  Validation Error  Test Error\n",
       "2   2.636651          0.056667    0.061836\n",
       "5   2.636651          0.055333    0.061836\n",
       "10  8.858668          0.056333    0.062461"
      ]
     },
     "execution_count": 86,
     "metadata": {},
     "output_type": "execute_result"
    }
   ],
   "source": [
    "# Search best parameter for ridge\n",
    "search_param_by_kfold(lgr_ridge, np.logspace(-3, 2, 20), [2, 5, 10],\n",
    "                        X3_train, y_train, X3_test, y_test)"
   ]
  },
  {
   "cell_type": "code",
   "execution_count": 84,
   "metadata": {},
   "outputs": [
    {
     "data": {
      "text/html": [
       "<div>\n",
       "<style scoped>\n",
       "    .dataframe tbody tr th:only-of-type {\n",
       "        vertical-align: middle;\n",
       "    }\n",
       "\n",
       "    .dataframe tbody tr th {\n",
       "        vertical-align: top;\n",
       "    }\n",
       "\n",
       "    .dataframe thead th {\n",
       "        text-align: right;\n",
       "    }\n",
       "</style>\n",
       "<table border=\"1\" class=\"dataframe\">\n",
       "  <thead>\n",
       "    <tr style=\"text-align: right;\">\n",
       "      <th></th>\n",
       "      <th>lambda</th>\n",
       "      <th>Validation Error</th>\n",
       "      <th>Test Error</th>\n",
       "    </tr>\n",
       "  </thead>\n",
       "  <tbody>\n",
       "    <tr>\n",
       "      <th>2</th>\n",
       "      <td>7.742637</td>\n",
       "      <td>0.058333</td>\n",
       "      <td>0.061836</td>\n",
       "    </tr>\n",
       "    <tr>\n",
       "      <th>5</th>\n",
       "      <td>0.599484</td>\n",
       "      <td>0.056333</td>\n",
       "      <td>0.061212</td>\n",
       "    </tr>\n",
       "    <tr>\n",
       "      <th>10</th>\n",
       "      <td>2.154435</td>\n",
       "      <td>0.056667</td>\n",
       "      <td>0.061836</td>\n",
       "    </tr>\n",
       "  </tbody>\n",
       "</table>\n",
       "</div>"
      ],
      "text/plain": [
       "      lambda  Validation Error  Test Error\n",
       "2   7.742637          0.058333    0.061836\n",
       "5   0.599484          0.056333    0.061212\n",
       "10  2.154435          0.056667    0.061836"
      ]
     },
     "execution_count": 84,
     "metadata": {},
     "output_type": "execute_result"
    }
   ],
   "source": [
    "# Search best parameter for lasso\n",
    "search_param_by_kfold(lgr_lasso, np.logspace(-3, 2, 10), [2, 5, 10],\n",
    "                        X3_train, y_train, X3_test, y_test)"
   ]
  },
  {
   "cell_type": "markdown",
   "metadata": {},
   "source": [
    "#### (e) Fit ridge and LASSO using the Monte Carlo Cross-validation approach with 10 samples (i.e., use the validation/hold-out technique from (a) 10 times). For the different user-specified split ratio, specify the best ‘parameter’, report the average validation error, and the test error generated from training on all the training data using the best parameter."
   ]
  },
  {
   "cell_type": "code",
   "execution_count": 92,
   "metadata": {
    "collapsed": true
   },
   "outputs": [],
   "source": [
    "# Define convenience method to search best parameter by Monte Carlo validation\n",
    "def search_param_by_monte_carlo(lgr, lambdas, ratios, sampling, X_train, y_train, X_test, y_test):\n",
    "    result = []\n",
    "    for ratio in ratios:\n",
    "        print('Processing ratio = %.1f' % ratio)\n",
    "        lambda_best = None\n",
    "        accuracy_valid_best = 0\n",
    "        for lambda_ in lambdas:\n",
    "            accuracies_valid = []\n",
    "            for i in range(sampling):\n",
    "                _, accuracy_valid = cv_holdout(lgr, [lambda_], X_train, y_train, ratio)\n",
    "                accuracies_valid.append(accuracy_valid)\n",
    "            accuracy_valid_mean = np.array(accuracies_valid).mean()\n",
    "            if accuracy_valid_mean > accuracy_valid_best:\n",
    "                accuracy_valid_best = accuracy_valid_mean\n",
    "                lambda_best = lambda_\n",
    "        \n",
    "        lgr.set_params(C=1/lambda_best, warm_start=False)\n",
    "        lgr.fit(X_train, y_train)\n",
    "        accuracy_test = lgr.score(X_test, y_test)\n",
    "        result.append([lambda_best, 1-accuracy_valid_best, 1-accuracy_test])\n",
    "        \n",
    "    return pd.DataFrame(result, ratios, ['lambda', 'Validation Error', 'Test Error'])"
   ]
  },
  {
   "cell_type": "code",
   "execution_count": 93,
   "metadata": {},
   "outputs": [
    {
     "name": "stdout",
     "output_type": "stream",
     "text": [
      "Processing ratio = 0.1\n",
      "Processing ratio = 0.2\n",
      "Processing ratio = 0.3\n",
      "Processing ratio = 0.4\n",
      "Processing ratio = 0.5\n",
      "Processing ratio = 0.6\n",
      "Processing ratio = 0.7\n",
      "Processing ratio = 0.8\n",
      "Processing ratio = 0.9\n"
     ]
    },
    {
     "data": {
      "text/html": [
       "<div>\n",
       "<style scoped>\n",
       "    .dataframe tbody tr th:only-of-type {\n",
       "        vertical-align: middle;\n",
       "    }\n",
       "\n",
       "    .dataframe tbody tr th {\n",
       "        vertical-align: top;\n",
       "    }\n",
       "\n",
       "    .dataframe thead th {\n",
       "        text-align: right;\n",
       "    }\n",
       "</style>\n",
       "<table border=\"1\" class=\"dataframe\">\n",
       "  <thead>\n",
       "    <tr style=\"text-align: right;\">\n",
       "      <th></th>\n",
       "      <th>lambda</th>\n",
       "      <th>Validation Error</th>\n",
       "      <th>Test Error</th>\n",
       "    </tr>\n",
       "  </thead>\n",
       "  <tbody>\n",
       "    <tr>\n",
       "      <th>0.1</th>\n",
       "      <td>0.020691</td>\n",
       "      <td>0.051000</td>\n",
       "      <td>0.061836</td>\n",
       "    </tr>\n",
       "    <tr>\n",
       "      <th>0.2</th>\n",
       "      <td>0.020691</td>\n",
       "      <td>0.055500</td>\n",
       "      <td>0.061836</td>\n",
       "    </tr>\n",
       "    <tr>\n",
       "      <th>0.3</th>\n",
       "      <td>2.636651</td>\n",
       "      <td>0.054889</td>\n",
       "      <td>0.061836</td>\n",
       "    </tr>\n",
       "    <tr>\n",
       "      <th>0.4</th>\n",
       "      <td>8.858668</td>\n",
       "      <td>0.056833</td>\n",
       "      <td>0.062461</td>\n",
       "    </tr>\n",
       "    <tr>\n",
       "      <th>0.5</th>\n",
       "      <td>2.636651</td>\n",
       "      <td>0.056800</td>\n",
       "      <td>0.061836</td>\n",
       "    </tr>\n",
       "    <tr>\n",
       "      <th>0.6</th>\n",
       "      <td>4.832930</td>\n",
       "      <td>0.057111</td>\n",
       "      <td>0.061212</td>\n",
       "    </tr>\n",
       "    <tr>\n",
       "      <th>0.7</th>\n",
       "      <td>8.858668</td>\n",
       "      <td>0.061381</td>\n",
       "      <td>0.062461</td>\n",
       "    </tr>\n",
       "    <tr>\n",
       "      <th>0.8</th>\n",
       "      <td>8.858668</td>\n",
       "      <td>0.063208</td>\n",
       "      <td>0.062461</td>\n",
       "    </tr>\n",
       "    <tr>\n",
       "      <th>0.9</th>\n",
       "      <td>4.832930</td>\n",
       "      <td>0.069778</td>\n",
       "      <td>0.061212</td>\n",
       "    </tr>\n",
       "  </tbody>\n",
       "</table>\n",
       "</div>"
      ],
      "text/plain": [
       "       lambda  Validation Error  Test Error\n",
       "0.1  0.020691          0.051000    0.061836\n",
       "0.2  0.020691          0.055500    0.061836\n",
       "0.3  2.636651          0.054889    0.061836\n",
       "0.4  8.858668          0.056833    0.062461\n",
       "0.5  2.636651          0.056800    0.061836\n",
       "0.6  4.832930          0.057111    0.061212\n",
       "0.7  8.858668          0.061381    0.062461\n",
       "0.8  8.858668          0.063208    0.062461\n",
       "0.9  4.832930          0.069778    0.061212"
      ]
     },
     "execution_count": 93,
     "metadata": {},
     "output_type": "execute_result"
    }
   ],
   "source": [
    "# Search best parameter for ridge\n",
    "search_param_by_monte_carlo(lgr_ridge, np.logspace(-3, 2, 20), np.linspace(0.1, 0.9, 9), 10,\n",
    "                        X3_train, y_train, X3_test, y_test)"
   ]
  },
  {
   "cell_type": "code",
   "execution_count": 94,
   "metadata": {},
   "outputs": [
    {
     "name": "stdout",
     "output_type": "stream",
     "text": [
      "Processing ratio = 0.1\n",
      "Processing ratio = 0.2\n",
      "Processing ratio = 0.3\n",
      "Processing ratio = 0.4\n",
      "Processing ratio = 0.5\n",
      "Processing ratio = 0.6\n",
      "Processing ratio = 0.7\n",
      "Processing ratio = 0.8\n",
      "Processing ratio = 0.9\n"
     ]
    },
    {
     "data": {
      "text/html": [
       "<div>\n",
       "<style scoped>\n",
       "    .dataframe tbody tr th:only-of-type {\n",
       "        vertical-align: middle;\n",
       "    }\n",
       "\n",
       "    .dataframe tbody tr th {\n",
       "        vertical-align: top;\n",
       "    }\n",
       "\n",
       "    .dataframe thead th {\n",
       "        text-align: right;\n",
       "    }\n",
       "</style>\n",
       "<table border=\"1\" class=\"dataframe\">\n",
       "  <thead>\n",
       "    <tr style=\"text-align: right;\">\n",
       "      <th></th>\n",
       "      <th>lambda</th>\n",
       "      <th>Validation Error</th>\n",
       "      <th>Test Error</th>\n",
       "    </tr>\n",
       "  </thead>\n",
       "  <tbody>\n",
       "    <tr>\n",
       "      <th>0.1</th>\n",
       "      <td>0.046416</td>\n",
       "      <td>0.051333</td>\n",
       "      <td>0.061212</td>\n",
       "    </tr>\n",
       "    <tr>\n",
       "      <th>0.2</th>\n",
       "      <td>7.742637</td>\n",
       "      <td>0.051500</td>\n",
       "      <td>0.061836</td>\n",
       "    </tr>\n",
       "    <tr>\n",
       "      <th>0.3</th>\n",
       "      <td>7.742637</td>\n",
       "      <td>0.057111</td>\n",
       "      <td>0.061836</td>\n",
       "    </tr>\n",
       "    <tr>\n",
       "      <th>0.4</th>\n",
       "      <td>0.166810</td>\n",
       "      <td>0.058500</td>\n",
       "      <td>0.061836</td>\n",
       "    </tr>\n",
       "    <tr>\n",
       "      <th>0.5</th>\n",
       "      <td>2.154435</td>\n",
       "      <td>0.056467</td>\n",
       "      <td>0.061836</td>\n",
       "    </tr>\n",
       "    <tr>\n",
       "      <th>0.6</th>\n",
       "      <td>2.154435</td>\n",
       "      <td>0.058111</td>\n",
       "      <td>0.061836</td>\n",
       "    </tr>\n",
       "    <tr>\n",
       "      <th>0.7</th>\n",
       "      <td>2.154435</td>\n",
       "      <td>0.058810</td>\n",
       "      <td>0.061836</td>\n",
       "    </tr>\n",
       "    <tr>\n",
       "      <th>0.8</th>\n",
       "      <td>2.154435</td>\n",
       "      <td>0.064500</td>\n",
       "      <td>0.061836</td>\n",
       "    </tr>\n",
       "    <tr>\n",
       "      <th>0.9</th>\n",
       "      <td>2.154435</td>\n",
       "      <td>0.072963</td>\n",
       "      <td>0.061836</td>\n",
       "    </tr>\n",
       "  </tbody>\n",
       "</table>\n",
       "</div>"
      ],
      "text/plain": [
       "       lambda  Validation Error  Test Error\n",
       "0.1  0.046416          0.051333    0.061212\n",
       "0.2  7.742637          0.051500    0.061836\n",
       "0.3  7.742637          0.057111    0.061836\n",
       "0.4  0.166810          0.058500    0.061836\n",
       "0.5  2.154435          0.056467    0.061836\n",
       "0.6  2.154435          0.058111    0.061836\n",
       "0.7  2.154435          0.058810    0.061836\n",
       "0.8  2.154435          0.064500    0.061836\n",
       "0.9  2.154435          0.072963    0.061836"
      ]
     },
     "execution_count": 94,
     "metadata": {},
     "output_type": "execute_result"
    }
   ],
   "source": [
    "# Search best parameter for lasso\n",
    "search_param_by_monte_carlo(lgr_lasso, np.logspace(-3, 2, 10), np.linspace(0.1, 0.9, 9), 10,\n",
    "                        X3_train, y_train, X3_test, y_test)"
   ]
  },
  {
   "cell_type": "markdown",
   "metadata": {},
   "source": [
    "#### (f) Comment on how the different model selection techniques compare with one another with regards to AUC and classification error, robustness of the validation estimate, and the computational complexities of the three different hold-out techniques."
   ]
  },
  {
   "cell_type": "markdown",
   "metadata": {},
   "source": [
    "1. From the computational complexities perspective, Monte Carlo cross-validation is the most expensive, K-fold cross-validation is the second, holdout technique is the cheapest.\n",
    "2. K-Fold and Monte Carlo validations are pretty robust, and both achieve similar accuracy. Holdout is less robust and has high variance, because it doesn't average over several samples."
   ]
  }
 ],
 "metadata": {
  "kernelspec": {
   "display_name": "Python 3",
   "language": "python",
   "name": "python3"
  },
  "language_info": {
   "codemirror_mode": {
    "name": "ipython",
    "version": 3
   },
   "file_extension": ".py",
   "mimetype": "text/x-python",
   "name": "python",
   "nbconvert_exporter": "python",
   "pygments_lexer": "ipython3",
   "version": "3.6.6"
  }
 },
 "nbformat": 4,
 "nbformat_minor": 2
}
