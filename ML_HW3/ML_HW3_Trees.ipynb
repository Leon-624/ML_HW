{
 "cells": [
  {
   "cell_type": "markdown",
   "metadata": {},
   "source": [
    "## 2. Decision Tree to Predict Loan Defaults\n",
    "#### We will consider a simplified subset of the Lending Club Loan Data available on Kaggle (https://www.kaggle.com/wendykan/lending-club-loan-data). Using ideas from a Kaggle Kernel by Kacper Wozniak, we have preprocessed the dataset the following steps:\n",
    "* **Removed any column that has more than 50% of the observations missing**\n",
    "* **Removed any row with at least one missing value**\n",
    "* **Removed any loans that are not Fully Paid or Charged Off (defaulted)**\n",
    "* **Only used individual applicants (i.e., join types are ignored)**\n",
    "* **Removed columns referring to “Active” loan accounts, joint applicants, or with too many unique values that preprocessing may take longer than necessary (i.e., policy code, employee title)**\n",
    "* **Convert the loan status to binary variable (class) as Fully Paid (0) vs Charged Off (1)**\n",
    "* **Subsample the data for a smaller dataset**\n",
    "#### The resulting dataset (loan default.csv) contains 2850 loans with 26 features. Use your favorite decision tree package, or implement your own, to predict the loan status."
   ]
  },
  {
   "cell_type": "markdown",
   "metadata": {},
   "source": [
    "#### (a) Pre-processing: Split the data into a train / test split (justify your selection). Specify any additional pre-processing you performed on the dataset."
   ]
  },
  {
   "cell_type": "code",
   "execution_count": 3,
   "metadata": {},
   "outputs": [],
   "source": [
    "import numpy as np\n",
    "import pandas as pd\n",
    "import matplotlib.pyplot as plt\n",
    "%matplotlib inline"
   ]
  },
  {
   "cell_type": "code",
   "execution_count": 4,
   "metadata": {},
   "outputs": [
    {
     "data": {
      "text/plain": [
       "loan_amnt                     False\n",
       "term                          False\n",
       "int_rate                      False\n",
       "installment                   False\n",
       "grade                         False\n",
       "emp_length                     True\n",
       "home_ownership                False\n",
       "annual_inc                    False\n",
       "verification_status           False\n",
       "purpose                       False\n",
       "dti                           False\n",
       "delinq_2yrs                   False\n",
       "earliest_cr_line              False\n",
       "inq_last_6mths                False\n",
       "open_acc                      False\n",
       "pub_rec                       False\n",
       "revol_bal                     False\n",
       "revol_util                    False\n",
       "total_acc                     False\n",
       "recoveries                    False\n",
       "collections_12_mths_ex_med    False\n",
       "acc_now_delinq                False\n",
       "tot_coll_amt                  False\n",
       "tot_cur_bal                   False\n",
       "total_rev_hi_lim              False\n",
       "class                         False\n",
       "dtype: bool"
      ]
     },
     "execution_count": 4,
     "metadata": {},
     "output_type": "execute_result"
    }
   ],
   "source": [
    "df = pd.read_csv(\"loan_default.csv\", index_col=0)\n",
    "df.isna().any()"
   ]
  },
  {
   "cell_type": "code",
   "execution_count": 5,
   "metadata": {},
   "outputs": [],
   "source": [
    "# Fill out NA on emp_length feature with 5 years\n",
    "df['emp_length'] = df['emp_length'].fillna('5 years')"
   ]
  },
  {
   "cell_type": "code",
   "execution_count": 6,
   "metadata": {},
   "outputs": [
    {
     "data": {
      "text/html": [
       "<div>\n",
       "<style scoped>\n",
       "    .dataframe tbody tr th:only-of-type {\n",
       "        vertical-align: middle;\n",
       "    }\n",
       "\n",
       "    .dataframe tbody tr th {\n",
       "        vertical-align: top;\n",
       "    }\n",
       "\n",
       "    .dataframe thead th {\n",
       "        text-align: right;\n",
       "    }\n",
       "</style>\n",
       "<table border=\"1\" class=\"dataframe\">\n",
       "  <thead>\n",
       "    <tr style=\"text-align: right;\">\n",
       "      <th></th>\n",
       "      <th>loan_amnt</th>\n",
       "      <th>term</th>\n",
       "      <th>int_rate</th>\n",
       "      <th>installment</th>\n",
       "      <th>grade</th>\n",
       "      <th>emp_length</th>\n",
       "      <th>home_ownership</th>\n",
       "      <th>annual_inc</th>\n",
       "      <th>verification_status</th>\n",
       "      <th>purpose</th>\n",
       "      <th>...</th>\n",
       "      <th>revol_bal</th>\n",
       "      <th>revol_util</th>\n",
       "      <th>total_acc</th>\n",
       "      <th>recoveries</th>\n",
       "      <th>collections_12_mths_ex_med</th>\n",
       "      <th>acc_now_delinq</th>\n",
       "      <th>tot_coll_amt</th>\n",
       "      <th>tot_cur_bal</th>\n",
       "      <th>total_rev_hi_lim</th>\n",
       "      <th>class</th>\n",
       "    </tr>\n",
       "  </thead>\n",
       "  <tbody>\n",
       "    <tr>\n",
       "      <th>182791</th>\n",
       "      <td>8000</td>\n",
       "      <td>36 months</td>\n",
       "      <td>14.09</td>\n",
       "      <td>273.78</td>\n",
       "      <td>B</td>\n",
       "      <td>10+ years</td>\n",
       "      <td>RENT</td>\n",
       "      <td>112000.0</td>\n",
       "      <td>Not Verified</td>\n",
       "      <td>wedding</td>\n",
       "      <td>...</td>\n",
       "      <td>19340</td>\n",
       "      <td>66.0</td>\n",
       "      <td>22</td>\n",
       "      <td>0.0</td>\n",
       "      <td>0</td>\n",
       "      <td>0</td>\n",
       "      <td>0</td>\n",
       "      <td>37551</td>\n",
       "      <td>29302.0</td>\n",
       "      <td>0</td>\n",
       "    </tr>\n",
       "    <tr>\n",
       "      <th>65813</th>\n",
       "      <td>8000</td>\n",
       "      <td>36 months</td>\n",
       "      <td>7.90</td>\n",
       "      <td>250.33</td>\n",
       "      <td>A</td>\n",
       "      <td>10+ years</td>\n",
       "      <td>OWN</td>\n",
       "      <td>65000.0</td>\n",
       "      <td>Not Verified</td>\n",
       "      <td>debt_consolidation</td>\n",
       "      <td>...</td>\n",
       "      <td>11774</td>\n",
       "      <td>15.0</td>\n",
       "      <td>25</td>\n",
       "      <td>0.0</td>\n",
       "      <td>0</td>\n",
       "      <td>0</td>\n",
       "      <td>0</td>\n",
       "      <td>60643</td>\n",
       "      <td>78400.0</td>\n",
       "      <td>0</td>\n",
       "    </tr>\n",
       "    <tr>\n",
       "      <th>826148</th>\n",
       "      <td>15000</td>\n",
       "      <td>60 months</td>\n",
       "      <td>13.99</td>\n",
       "      <td>348.95</td>\n",
       "      <td>C</td>\n",
       "      <td>10+ years</td>\n",
       "      <td>MORTGAGE</td>\n",
       "      <td>109000.0</td>\n",
       "      <td>Not Verified</td>\n",
       "      <td>major_purchase</td>\n",
       "      <td>...</td>\n",
       "      <td>32538</td>\n",
       "      <td>99.2</td>\n",
       "      <td>28</td>\n",
       "      <td>0.0</td>\n",
       "      <td>0</td>\n",
       "      <td>0</td>\n",
       "      <td>0</td>\n",
       "      <td>276506</td>\n",
       "      <td>32800.0</td>\n",
       "      <td>0</td>\n",
       "    </tr>\n",
       "    <tr>\n",
       "      <th>278921</th>\n",
       "      <td>13800</td>\n",
       "      <td>36 months</td>\n",
       "      <td>9.17</td>\n",
       "      <td>439.93</td>\n",
       "      <td>B</td>\n",
       "      <td>6 years</td>\n",
       "      <td>MORTGAGE</td>\n",
       "      <td>80000.0</td>\n",
       "      <td>Verified</td>\n",
       "      <td>debt_consolidation</td>\n",
       "      <td>...</td>\n",
       "      <td>8573</td>\n",
       "      <td>15.9</td>\n",
       "      <td>66</td>\n",
       "      <td>0.0</td>\n",
       "      <td>0</td>\n",
       "      <td>0</td>\n",
       "      <td>0</td>\n",
       "      <td>346871</td>\n",
       "      <td>53900.0</td>\n",
       "      <td>0</td>\n",
       "    </tr>\n",
       "    <tr>\n",
       "      <th>330821</th>\n",
       "      <td>12000</td>\n",
       "      <td>36 months</td>\n",
       "      <td>8.39</td>\n",
       "      <td>378.20</td>\n",
       "      <td>A</td>\n",
       "      <td>1 year</td>\n",
       "      <td>OWN</td>\n",
       "      <td>55000.0</td>\n",
       "      <td>Not Verified</td>\n",
       "      <td>debt_consolidation</td>\n",
       "      <td>...</td>\n",
       "      <td>10713</td>\n",
       "      <td>36.1</td>\n",
       "      <td>49</td>\n",
       "      <td>0.0</td>\n",
       "      <td>0</td>\n",
       "      <td>0</td>\n",
       "      <td>0</td>\n",
       "      <td>89729</td>\n",
       "      <td>29700.0</td>\n",
       "      <td>0</td>\n",
       "    </tr>\n",
       "  </tbody>\n",
       "</table>\n",
       "<p>5 rows × 26 columns</p>\n",
       "</div>"
      ],
      "text/plain": [
       "        loan_amnt        term  int_rate  installment grade emp_length  \\\n",
       "182791       8000   36 months     14.09       273.78     B  10+ years   \n",
       "65813        8000   36 months      7.90       250.33     A  10+ years   \n",
       "826148      15000   60 months     13.99       348.95     C  10+ years   \n",
       "278921      13800   36 months      9.17       439.93     B    6 years   \n",
       "330821      12000   36 months      8.39       378.20     A     1 year   \n",
       "\n",
       "       home_ownership  annual_inc verification_status             purpose  \\\n",
       "182791           RENT    112000.0        Not Verified             wedding   \n",
       "65813             OWN     65000.0        Not Verified  debt_consolidation   \n",
       "826148       MORTGAGE    109000.0        Not Verified      major_purchase   \n",
       "278921       MORTGAGE     80000.0            Verified  debt_consolidation   \n",
       "330821            OWN     55000.0        Not Verified  debt_consolidation   \n",
       "\n",
       "        ...    revol_bal  revol_util total_acc  recoveries  \\\n",
       "182791  ...        19340        66.0        22         0.0   \n",
       "65813   ...        11774        15.0        25         0.0   \n",
       "826148  ...        32538        99.2        28         0.0   \n",
       "278921  ...         8573        15.9        66         0.0   \n",
       "330821  ...        10713        36.1        49         0.0   \n",
       "\n",
       "        collections_12_mths_ex_med  acc_now_delinq  tot_coll_amt  tot_cur_bal  \\\n",
       "182791                           0               0             0        37551   \n",
       "65813                            0               0             0        60643   \n",
       "826148                           0               0             0       276506   \n",
       "278921                           0               0             0       346871   \n",
       "330821                           0               0             0        89729   \n",
       "\n",
       "        total_rev_hi_lim  class  \n",
       "182791           29302.0      0  \n",
       "65813            78400.0      0  \n",
       "826148           32800.0      0  \n",
       "278921           53900.0      0  \n",
       "330821           29700.0      0  \n",
       "\n",
       "[5 rows x 26 columns]"
      ]
     },
     "execution_count": 6,
     "metadata": {},
     "output_type": "execute_result"
    }
   ],
   "source": [
    "df.head()"
   ]
  },
  {
   "cell_type": "code",
   "execution_count": 7,
   "metadata": {},
   "outputs": [
    {
     "data": {
      "text/plain": [
       "loan_amnt                       int64\n",
       "term                           object\n",
       "int_rate                      float64\n",
       "installment                   float64\n",
       "grade                          object\n",
       "emp_length                     object\n",
       "home_ownership                 object\n",
       "annual_inc                    float64\n",
       "verification_status            object\n",
       "purpose                        object\n",
       "dti                           float64\n",
       "delinq_2yrs                     int64\n",
       "earliest_cr_line               object\n",
       "inq_last_6mths                  int64\n",
       "open_acc                        int64\n",
       "pub_rec                         int64\n",
       "revol_bal                       int64\n",
       "revol_util                    float64\n",
       "total_acc                       int64\n",
       "recoveries                    float64\n",
       "collections_12_mths_ex_med      int64\n",
       "acc_now_delinq                  int64\n",
       "tot_coll_amt                    int64\n",
       "tot_cur_bal                     int64\n",
       "total_rev_hi_lim              float64\n",
       "class                           int64\n",
       "dtype: object"
      ]
     },
     "execution_count": 7,
     "metadata": {},
     "output_type": "execute_result"
    }
   ],
   "source": [
    "df.dtypes"
   ]
  },
  {
   "cell_type": "markdown",
   "metadata": {},
   "source": [
    "Some columns have type 'object'; convert them to type int first."
   ]
  },
  {
   "cell_type": "code",
   "execution_count": 8,
   "metadata": {},
   "outputs": [
    {
     "name": "stdout",
     "output_type": "stream",
     "text": [
      " 36 months    2157\n",
      " 60 months     693\n",
      "Name: term, dtype: int64\n",
      "B    816\n",
      "C    806\n",
      "D    519\n",
      "A    350\n",
      "E    227\n",
      "F    100\n",
      "G     32\n",
      "Name: grade, dtype: int64\n",
      "10+ years    980\n",
      "5 years      309\n",
      "2 years      223\n",
      "3 years      222\n",
      "< 1 year     208\n",
      "4 years      174\n",
      "6 years      160\n",
      "1 year       159\n",
      "7 years      151\n",
      "8 years      144\n",
      "9 years      120\n",
      "Name: emp_length, dtype: int64\n",
      "MORTGAGE    1472\n",
      "RENT        1126\n",
      "OWN          252\n",
      "Name: home_ownership, dtype: int64\n",
      "Verified           1075\n",
      "Not Verified        908\n",
      "Source Verified     867\n",
      "Name: verification_status, dtype: int64\n",
      "debt_consolidation    1754\n",
      "credit_card            609\n",
      "home_improvement       153\n",
      "other                  143\n",
      "major_purchase          49\n",
      "car                     28\n",
      "medical                 27\n",
      "small_business          22\n",
      "house                   20\n",
      "moving                  19\n",
      "vacation                17\n",
      "wedding                  7\n",
      "renewable_energy         2\n",
      "Name: purpose, dtype: int64\n",
      "Jun-2000    27\n",
      "Jan-2002    27\n",
      "Oct-2001    26\n",
      "Aug-2000    26\n",
      "Mar-2000    26\n",
      "Oct-2002    24\n",
      "Apr-2001    24\n",
      "May-2001    23\n",
      "Nov-1999    23\n",
      "Jun-2001    22\n",
      "Aug-2002    22\n",
      "Sep-2005    21\n",
      "Aug-1999    21\n",
      "Nov-2002    21\n",
      "Jun-1999    21\n",
      "May-2000    21\n",
      "Oct-1997    20\n",
      "Jul-2000    20\n",
      "Oct-1998    19\n",
      "Aug-2003    19\n",
      "Oct-2000    19\n",
      "Oct-2003    19\n",
      "Mar-2001    19\n",
      "Feb-1999    19\n",
      "Jan-1997    19\n",
      "Mar-1999    19\n",
      "Dec-2004    19\n",
      "Nov-2000    18\n",
      "Mar-2004    18\n",
      "Dec-2000    18\n",
      "            ..\n",
      "Sep-1974     1\n",
      "Sep-1988     1\n",
      "Oct-1980     1\n",
      "Apr-2008     1\n",
      "Jan-1975     1\n",
      "Mar-1985     1\n",
      "Aug-1978     1\n",
      "Nov-1979     1\n",
      "Dec-1984     1\n",
      "Aug-2011     1\n",
      "May-2009     1\n",
      "Jul-1981     1\n",
      "Nov-1983     1\n",
      "Dec-1965     1\n",
      "Feb-1975     1\n",
      "Jul-1974     1\n",
      "Oct-1977     1\n",
      "Jun-1979     1\n",
      "Sep-1982     1\n",
      "Feb-1978     1\n",
      "Jun-1987     1\n",
      "Aug-1973     1\n",
      "Feb-2010     1\n",
      "Nov-1966     1\n",
      "Jun-1978     1\n",
      "May-1977     1\n",
      "Apr-1975     1\n",
      "Jun-1983     1\n",
      "Jan-1968     1\n",
      "Nov-1968     1\n",
      "Name: earliest_cr_line, Length: 399, dtype: int64\n"
     ]
    }
   ],
   "source": [
    "# Print the values of type object\n",
    "print(df[\"term\"].value_counts())\n",
    "print(df[\"grade\"].value_counts())\n",
    "print(df[\"emp_length\"].value_counts())\n",
    "print(df[\"home_ownership\"].value_counts())\n",
    "print(df[\"verification_status\"].value_counts())\n",
    "print(df[\"purpose\"].value_counts())\n",
    "print(df[\"earliest_cr_line\"].value_counts())"
   ]
  },
  {
   "cell_type": "code",
   "execution_count": 9,
   "metadata": {},
   "outputs": [],
   "source": [
    "# Encode ordinal features\n",
    "df['term'] = df['term'].astype('category').cat.codes\n",
    "\n",
    "df['grade'] = df['grade'].astype('category').cat.codes\n",
    "\n",
    "df['emp_length'].replace(to_replace='[^0-9]+', value='', inplace=True, regex=True)\n",
    "df['emp_length'] = df['emp_length'].astype('int64')\n",
    "\n",
    "df['earliest_cr_line'].replace(to_replace='[^0-9]+', value='', inplace=True, regex=True)\n",
    "df['earliest_cr_line'] = df['earliest_cr_line'].astype('int64')\n",
    "\n",
    "dict_cat = {\n",
    "    'verification_status': {\n",
    "        'Not Verified': 0,\n",
    "        'Source Verified': 1,\n",
    "        'Verified': 2\n",
    "    }\n",
    "}\n",
    "df.replace(dict_cat, inplace=True)"
   ]
  },
  {
   "cell_type": "code",
   "execution_count": 10,
   "metadata": {},
   "outputs": [
    {
     "data": {
      "text/plain": [
       "loan_amnt                       int64\n",
       "term                             int8\n",
       "int_rate                      float64\n",
       "installment                   float64\n",
       "grade                            int8\n",
       "emp_length                      int64\n",
       "annual_inc                    float64\n",
       "verification_status             int64\n",
       "dti                           float64\n",
       "delinq_2yrs                     int64\n",
       "earliest_cr_line                int64\n",
       "inq_last_6mths                  int64\n",
       "open_acc                        int64\n",
       "pub_rec                         int64\n",
       "revol_bal                       int64\n",
       "revol_util                    float64\n",
       "total_acc                       int64\n",
       "recoveries                    float64\n",
       "collections_12_mths_ex_med      int64\n",
       "acc_now_delinq                  int64\n",
       "tot_coll_amt                    int64\n",
       "tot_cur_bal                     int64\n",
       "total_rev_hi_lim              float64\n",
       "class                           int64\n",
       "home_ownership_MORTGAGE         uint8\n",
       "home_ownership_OWN              uint8\n",
       "home_ownership_RENT             uint8\n",
       "purpose_car                     uint8\n",
       "purpose_credit_card             uint8\n",
       "purpose_debt_consolidation      uint8\n",
       "purpose_home_improvement        uint8\n",
       "purpose_house                   uint8\n",
       "purpose_major_purchase          uint8\n",
       "purpose_medical                 uint8\n",
       "purpose_moving                  uint8\n",
       "purpose_other                   uint8\n",
       "purpose_small_business          uint8\n",
       "purpose_vacation                uint8\n",
       "dtype: object"
      ]
     },
     "execution_count": 10,
     "metadata": {},
     "output_type": "execute_result"
    }
   ],
   "source": [
    "# Encode non-ordinal features\n",
    "\n",
    "# Merge similar categories\n",
    "dict_cat = {\n",
    "    'purpose': {\n",
    "        'wedding': 'vacation',\n",
    "        'renewable_energy': 'other'\n",
    "    }\n",
    "}\n",
    "df.replace(dict_cat, inplace=True)\n",
    "\n",
    "df = pd.get_dummies(df, columns=[\"home_ownership\"])\n",
    "df = pd.get_dummies(df, columns=[\"purpose\"])\n",
    "\n",
    "df.dtypes"
   ]
  },
  {
   "cell_type": "code",
   "execution_count": 11,
   "metadata": {},
   "outputs": [],
   "source": [
    "# Get features and label after converting categorical features\n",
    "y = df['class'].values\n",
    "X = df.drop(columns='class').values"
   ]
  },
  {
   "cell_type": "code",
   "execution_count": 12,
   "metadata": {},
   "outputs": [
    {
     "name": "stdout",
     "output_type": "stream",
     "text": [
      "(2280, 37)\n",
      "(570, 37)\n"
     ]
    }
   ],
   "source": [
    "# Split training and test set\n",
    "test_ratio = 0.2\n",
    "\n",
    "idx_random = np.arange(y.shape[0])\n",
    "np.random.shuffle(idx_random)\n",
    "idx_split = int(test_ratio * y.shape[0])\n",
    "\n",
    "X_test = X[idx_random[:idx_split]]\n",
    "y_test = y[idx_random[:idx_split]]\n",
    "X_train = X[idx_random[idx_split:]]\n",
    "y_train = y[idx_random[idx_split:]]\n",
    "\n",
    "print(X_train.shape)\n",
    "print(X_test.shape)"
   ]
  },
  {
   "cell_type": "markdown",
   "metadata": {},
   "source": [
    "Summary:\n",
    "1. Data are splitted into training and test set in a $8:2$ ratio. The reason for putting 20% of data as test set is that, we can keep a relatively large training set while we still have a descent amount of test samples.\n",
    "2. Categorical features are encoded. Even though tree methods can handle both numerical and categorical features, the tree implementation of sklearn particularly treats all features as numerical variables.\n",
    "    1. If the categories are **ordinal**, do **label encoding**.\n",
    "    2. If categories are **non-ordinal**, do **one-hot encoding**.\n",
    "3. Standardization is not necessary for tree methods, because node split will be always based on each feature's scale."
   ]
  },
  {
   "cell_type": "markdown",
   "metadata": {},
   "source": [
    "#### (b) There is debate amongst the community about the use of pruning to control overfitting. Instead, you will tune the decision tree by limiting the depth of the decision tree and the minimum number of samples that each leaf must have (this maps to the scikit-learn parameters max_depth and min_samples_leaf, respectively). Specify how you determined the best hyperparameters for the decision tree and plot the estimated AUC on a single plot (either do a 3D plot or use size of the point to encode the classification accuracy) as a function of the two parameters. What is the best choice of the two parameters?"
   ]
  },
  {
   "cell_type": "code",
   "execution_count": 13,
   "metadata": {},
   "outputs": [],
   "source": [
    "# Initialize decision tree classifier\n",
    "from sklearn.tree import DecisionTreeClassifier\n",
    "from sklearn.metrics import roc_auc_score\n",
    "\n",
    "dtc = DecisionTreeClassifier(random_state=0)"
   ]
  },
  {
   "cell_type": "code",
   "execution_count": 145,
   "metadata": {},
   "outputs": [],
   "source": [
    "# Define convenience method to train decision tree and return AUC on test set\n",
    "def train_and_evaluate(dtc, max_depth, min_leaf, X_train, y_train, X_test, y_test):\n",
    "    dtc = DecisionTreeClassifier(random_state=0)\n",
    "    dtc.set_params(max_depth=max_depth, min_samples_split=min_leaf)\n",
    "    dtc.fit(X_train, y_train)\n",
    "    return roc_auc_score(y_test, dtc.predict_proba(X_test)[:, 1])"
   ]
  },
  {
   "cell_type": "code",
   "execution_count": 146,
   "metadata": {},
   "outputs": [],
   "source": [
    "# Define method of k-fold cross-validation\n",
    "import math\n",
    "\n",
    "def cv_kfold(dtc, list_max_depth, list_min_leaf, X, y, K):\n",
    "    itr_max_depth = []\n",
    "    itr_min_leaf = []\n",
    "    itr_auc = []\n",
    "    idx_best = -1\n",
    "    idx_curr = 0\n",
    "    \n",
    "    cnt_fold = math.ceil(y.shape[0] / K)\n",
    "    idx_shuffle = np.arange(y.shape[0])\n",
    "    np.random.shuffle(idx_shuffle)\n",
    "    \n",
    "    for max_depth in list_max_depth:\n",
    "        for min_leaf in list_min_leaf:\n",
    "            aucs = []\n",
    "            idx_pre = 0\n",
    "            for i in range(K):\n",
    "                idx_valid = idx_shuffle[idx_pre : idx_pre+cnt_fold]\n",
    "                idx_train = np.hstack((idx_shuffle[:idx_pre], idx_shuffle[idx_pre+cnt_fold:]))\n",
    "                idx_pre += cnt_fold\n",
    "                X_train = X[idx_train]\n",
    "                y_train = y[idx_train]\n",
    "                X_valid = X[idx_valid]\n",
    "                y_valid = y[idx_valid]\n",
    "            \n",
    "                aucs.append(train_and_evaluate(dtc, max_depth, min_leaf, X_train, y_train, X_valid, y_valid))\n",
    "                \n",
    "            auc_mean = np.array(aucs).mean()\n",
    "            itr_auc.append(auc_mean)\n",
    "            itr_max_depth.append(max_depth)\n",
    "            itr_min_leaf.append(min_leaf)\n",
    "            \n",
    "            if idx_best == -1 or auc_mean > itr_auc[idx_best]:\n",
    "                idx_best = idx_curr\n",
    "            idx_curr += 1\n",
    "    \n",
    "    return itr_max_depth, itr_min_leaf, itr_auc, idx_best"
   ]
  },
  {
   "cell_type": "code",
   "execution_count": 147,
   "metadata": {},
   "outputs": [],
   "source": [
    "# Define convenience method to search hyper-parameters by K-fold CV and plot AUC\n",
    "from mpl_toolkits.mplot3d import Axes3D\n",
    "from matplotlib import cm\n",
    "\n",
    "def search_hyperparams_by_kfold(dtc, list_max_depth, list_min_leaf, X_train, y_train, K):\n",
    "    itr_max_depth, itr_min_leaf, itr_auc, idx_best = cv_kfold(dtc, list_max_depth, list_min_leaf, X_train, y_train, K)\n",
    "    \n",
    "    print('The best AUC is %.3f when max_depth = %d and min_samples_split ratio is %.3f.' \n",
    "          % (itr_auc[idx_best], itr_max_depth[idx_best], itr_min_leaf[idx_best]))\n",
    "    \n",
    "    ax = plt.gca(projection='3d')\n",
    "    dim1, dim2 = list_max_depth.size, list_min_leaf.size\n",
    "    ax.plot_surface(np.array(itr_max_depth).reshape(dim1, dim2),\n",
    "                    np.array(itr_min_leaf).reshape(dim1, dim2),\n",
    "                    np.array(itr_auc).reshape(dim1, dim2),\n",
    "                    cmap=cm.coolwarm)\n",
    "    return itr_max_depth[idx_best], itr_min_leaf[idx_best]"
   ]
  },
  {
   "cell_type": "code",
   "execution_count": 149,
   "metadata": {},
   "outputs": [
    {
     "name": "stdout",
     "output_type": "stream",
     "text": [
      "The best AUC is 0.805 when max_depth = 11 and min_samples_split ratio is 0.089.\n"
     ]
    },
    {
     "data": {
      "image/png": "[encoded data removed]",
      "text/plain": [
       "<Figure size 432x288 with 1 Axes>"
      ]
     },
     "metadata": {
      "needs_background": "light"
     },
     "output_type": "display_data"
    }
   ],
   "source": [
    "# Search best hyper-parameters and plot AUC\n",
    "list_max_depth = np.linspace(5, 30, 12, dtype=int)\n",
    "list_min_leaf = np.linspace(0.4, 0.05, 10)\n",
    "\n",
    "max_depth_opt, min_leaf_opt = search_hyperparams_by_kfold(dtc, list_max_depth, list_min_leaf, X_train, y_train, 10)"
   ]
  },
  {
   "cell_type": "markdown",
   "metadata": {},
   "source": [
    "Summary:\n",
    "1. When max_depth = $11$ and min_samples_split ratio is $0.089$, it yields the highest AUC which is $0.805$.\n",
    "2. From the 3D plotting, we can see some other max_depth can also achieve similar AUC ($\\approx 0.8$), when min_samples_split ratio is around $0.3$.\n",
    "3. K-fold cross-validation is used to determine the best hyper-parameters. Here $K=10$."
   ]
  },
  {
   "cell_type": "markdown",
   "metadata": {},
   "source": [
    "#### (c) Re-train a decision tree on the entire training data using the optimal max depth and minimum number of samples from (b). What is the AUC on the test set?"
   ]
  },
  {
   "cell_type": "code",
   "execution_count": 150,
   "metadata": {},
   "outputs": [
    {
     "name": "stdout",
     "output_type": "stream",
     "text": [
      "After training on the entire training set using optimal parameters, the AUC on test set is 0.801\n"
     ]
    }
   ],
   "source": [
    "# Train decision tree using tuned hyperparameters\n",
    "auc_c = train_and_evaluate(dtc, max_depth_opt, min_leaf_opt, X_train, y_train, X_test, y_test)\n",
    "print('After training on the entire training set using optimal parameters, the AUC on test set is %.3f' % auc_c)"
   ]
  },
  {
   "cell_type": "markdown",
   "metadata": {},
   "source": [
    "#### (c) Create a visualization of the top 3 levels of your decision tree using the optimal max depth and minimum number of samples."
   ]
  },
  {
   "cell_type": "code",
   "execution_count": 151,
   "metadata": {},
   "outputs": [
    {
     "data": {
      "image/svg+xml": [
       "<?xml version=\"1.0\" encoding=\"UTF-8\" standalone=\"no\"?>\n",
       "<!DOCTYPE svg PUBLIC \"-//W3C//DTD SVG 1.1//EN\"\n",
       " \"http://www.w3.org/Graphics/SVG/1.1/DTD/svg11.dtd\">\n",
       "<!-- Generated by graphviz version 2.36.0 (20140111.2315)\n",
       " -->\n",
       "<!-- Title: Tree Pages: 1 -->\n",
       "<svg width=\"610pt\" height=\"524pt\"\n",
       " viewBox=\"0.00 0.00 610.00 524.00\" xmlns=\"http://www.w3.org/2000/svg\" xmlns:xlink=\"http://www.w3.org/1999/xlink\">\n",
       "<g id=\"graph0\" class=\"graph\" transform=\"scale(1 1) rotate(0) translate(4 520)\">\n",
       "<title>Tree</title>\n",
       "<polygon fill=\"white\" stroke=\"none\" points=\"-4,4 -4,-520 606,-520 606,4 -4,4\"/>\n",
       "<!-- 0 -->\n",
       "<g id=\"node1\" class=\"node\"><title>0</title>\n",
       "<path fill=\"#e58139\" fill-opacity=\"0.572549\" stroke=\"black\" d=\"M424,-515.5C424,-515.5 312,-515.5 312,-515.5 306,-515.5 300,-509.5 300,-503.5 300,-503.5 300,-444.5 300,-444.5 300,-438.5 306,-432.5 312,-432.5 312,-432.5 424,-432.5 424,-432.5 430,-432.5 436,-438.5 436,-444.5 436,-444.5 436,-503.5 436,-503.5 436,-509.5 430,-515.5 424,-515.5\"/>\n",
       "<text text-anchor=\"start\" x=\"310\" y=\"-500.3\" font-family=\"Helvetica,sans-Serif\" font-size=\"14.00\">recoveries ≤ 5.005</text>\n",
       "<text text-anchor=\"start\" x=\"335.5\" y=\"-485.3\" font-family=\"Helvetica,sans-Serif\" font-size=\"14.00\">gini = 0.42</text>\n",
       "<text text-anchor=\"start\" x=\"318\" y=\"-470.3\" font-family=\"Helvetica,sans-Serif\" font-size=\"14.00\">samples = 2052</text>\n",
       "<text text-anchor=\"start\" x=\"308\" y=\"-455.3\" font-family=\"Helvetica,sans-Serif\" font-size=\"14.00\">value = [1437, 615]</text>\n",
       "<text text-anchor=\"start\" x=\"340\" y=\"-440.3\" font-family=\"Helvetica,sans-Serif\" font-size=\"14.00\">class = 0</text>\n",
       "</g>\n",
       "<!-- 1 -->\n",
       "<g id=\"node2\" class=\"node\"><title>1</title>\n",
       "<path fill=\"#e58139\" fill-opacity=\"0.760784\" stroke=\"black\" d=\"M353,-395.5C353,-395.5 241,-395.5 241,-395.5 235,-395.5 229,-389.5 229,-383.5 229,-383.5 229,-324.5 229,-324.5 229,-318.5 235,-312.5 241,-312.5 241,-312.5 353,-312.5 353,-312.5 359,-312.5 365,-318.5 365,-324.5 365,-324.5 365,-383.5 365,-383.5 365,-389.5 359,-395.5 353,-395.5\"/>\n",
       "<text text-anchor=\"start\" x=\"252\" y=\"-380.3\" font-family=\"Helvetica,sans-Serif\" font-size=\"14.00\">int_rate ≤ 14.4</text>\n",
       "<text text-anchor=\"start\" x=\"264.5\" y=\"-365.3\" font-family=\"Helvetica,sans-Serif\" font-size=\"14.00\">gini = 0.31</text>\n",
       "<text text-anchor=\"start\" x=\"247\" y=\"-350.3\" font-family=\"Helvetica,sans-Serif\" font-size=\"14.00\">samples = 1778</text>\n",
       "<text text-anchor=\"start\" x=\"237\" y=\"-335.3\" font-family=\"Helvetica,sans-Serif\" font-size=\"14.00\">value = [1437, 341]</text>\n",
       "<text text-anchor=\"start\" x=\"269\" y=\"-320.3\" font-family=\"Helvetica,sans-Serif\" font-size=\"14.00\">class = 0</text>\n",
       "</g>\n",
       "<!-- 0&#45;&gt;1 -->\n",
       "<g id=\"edge1\" class=\"edge\"><title>0&#45;&gt;1</title>\n",
       "<path fill=\"none\" stroke=\"black\" d=\"M343.566,-432.391C338.155,-423.398 332.363,-413.772 326.766,-404.471\"/>\n",
       "<polygon fill=\"black\" stroke=\"black\" points=\"329.634,-402.448 321.479,-395.684 323.636,-406.057 329.634,-402.448\"/>\n",
       "<text text-anchor=\"middle\" x=\"315.446\" y=\"-416.245\" font-family=\"Helvetica,sans-Serif\" font-size=\"14.00\">True</text>\n",
       "</g>\n",
       "<!-- 96 -->\n",
       "<g id=\"node17\" class=\"node\"><title>96</title>\n",
       "<path fill=\"#399de5\" stroke=\"black\" d=\"M484.25,-388C484.25,-388 395.75,-388 395.75,-388 389.75,-388 383.75,-382 383.75,-376 383.75,-376 383.75,-332 383.75,-332 383.75,-326 389.75,-320 395.75,-320 395.75,-320 484.25,-320 484.25,-320 490.25,-320 496.25,-326 496.25,-332 496.25,-332 496.25,-376 496.25,-376 496.25,-382 490.25,-388 484.25,-388\"/>\n",
       "<text text-anchor=\"start\" x=\"411\" y=\"-372.8\" font-family=\"Helvetica,sans-Serif\" font-size=\"14.00\">gini = 0.0</text>\n",
       "<text text-anchor=\"start\" x=\"394\" y=\"-357.8\" font-family=\"Helvetica,sans-Serif\" font-size=\"14.00\">samples = 274</text>\n",
       "<text text-anchor=\"start\" x=\"391.5\" y=\"-342.8\" font-family=\"Helvetica,sans-Serif\" font-size=\"14.00\">value = [0, 274]</text>\n",
       "<text text-anchor=\"start\" x=\"412\" y=\"-327.8\" font-family=\"Helvetica,sans-Serif\" font-size=\"14.00\">class = 1</text>\n",
       "</g>\n",
       "<!-- 0&#45;&gt;96 -->\n",
       "<g id=\"edge16\" class=\"edge\"><title>0&#45;&gt;96</title>\n",
       "<path fill=\"none\" stroke=\"black\" d=\"M392.778,-432.391C399.78,-420.916 407.411,-408.41 414.457,-396.863\"/>\n",
       "<polygon fill=\"black\" stroke=\"black\" points=\"417.489,-398.612 419.71,-388.252 411.514,-394.966 417.489,-398.612\"/>\n",
       "<text text-anchor=\"middle\" x=\"425.593\" y=\"-408.85\" font-family=\"Helvetica,sans-Serif\" font-size=\"14.00\">False</text>\n",
       "</g>\n",
       "<!-- 2 -->\n",
       "<g id=\"node3\" class=\"node\"><title>2</title>\n",
       "<path fill=\"#e58139\" fill-opacity=\"0.850980\" stroke=\"black\" d=\"M282,-275.5C282,-275.5 156,-275.5 156,-275.5 150,-275.5 144,-269.5 144,-263.5 144,-263.5 144,-204.5 144,-204.5 144,-198.5 150,-192.5 156,-192.5 156,-192.5 282,-192.5 282,-192.5 288,-192.5 294,-198.5 294,-204.5 294,-204.5 294,-263.5 294,-263.5 294,-269.5 288,-275.5 282,-275.5\"/>\n",
       "<text text-anchor=\"start\" x=\"152\" y=\"-260.3\" font-family=\"Helvetica,sans-Serif\" font-size=\"14.00\">annual_inc ≤ 51277.5</text>\n",
       "<text text-anchor=\"start\" x=\"182.5\" y=\"-245.3\" font-family=\"Helvetica,sans-Serif\" font-size=\"14.00\">gini = 0.226</text>\n",
       "<text text-anchor=\"start\" x=\"173\" y=\"-230.3\" font-family=\"Helvetica,sans-Serif\" font-size=\"14.00\">samples = 988</text>\n",
       "<text text-anchor=\"start\" x=\"163\" y=\"-215.3\" font-family=\"Helvetica,sans-Serif\" font-size=\"14.00\">value = [860, 128]</text>\n",
       "<text text-anchor=\"start\" x=\"191\" y=\"-200.3\" font-family=\"Helvetica,sans-Serif\" font-size=\"14.00\">class = 0</text>\n",
       "</g>\n",
       "<!-- 1&#45;&gt;2 -->\n",
       "<g id=\"edge2\" class=\"edge\"><title>1&#45;&gt;2</title>\n",
       "<path fill=\"none\" stroke=\"black\" d=\"M270.157,-312.391C264.151,-303.306 257.718,-293.574 251.511,-284.183\"/>\n",
       "<polygon fill=\"black\" stroke=\"black\" points=\"254.327,-282.096 245.893,-275.684 248.487,-285.956 254.327,-282.096\"/>\n",
       "</g>\n",
       "<!-- 63 -->\n",
       "<g id=\"node10\" class=\"node\"><title>63</title>\n",
       "<path fill=\"#e58139\" fill-opacity=\"0.631373\" stroke=\"black\" d=\"M428,-275.5C428,-275.5 324,-275.5 324,-275.5 318,-275.5 312,-269.5 312,-263.5 312,-263.5 312,-204.5 312,-204.5 312,-198.5 318,-192.5 324,-192.5 324,-192.5 428,-192.5 428,-192.5 434,-192.5 440,-198.5 440,-204.5 440,-204.5 440,-263.5 440,-263.5 440,-269.5 434,-275.5 428,-275.5\"/>\n",
       "<text text-anchor=\"start\" x=\"339\" y=\"-260.3\" font-family=\"Helvetica,sans-Serif\" font-size=\"14.00\">dti ≤ 27.005</text>\n",
       "<text text-anchor=\"start\" x=\"339.5\" y=\"-245.3\" font-family=\"Helvetica,sans-Serif\" font-size=\"14.00\">gini = 0.394</text>\n",
       "<text text-anchor=\"start\" x=\"330\" y=\"-230.3\" font-family=\"Helvetica,sans-Serif\" font-size=\"14.00\">samples = 790</text>\n",
       "<text text-anchor=\"start\" x=\"320\" y=\"-215.3\" font-family=\"Helvetica,sans-Serif\" font-size=\"14.00\">value = [577, 213]</text>\n",
       "<text text-anchor=\"start\" x=\"348\" y=\"-200.3\" font-family=\"Helvetica,sans-Serif\" font-size=\"14.00\">class = 0</text>\n",
       "</g>\n",
       "<!-- 1&#45;&gt;63 -->\n",
       "<g id=\"edge9\" class=\"edge\"><title>1&#45;&gt;63</title>\n",
       "<path fill=\"none\" stroke=\"black\" d=\"M324.187,-312.391C330.27,-303.306 336.785,-293.574 343.072,-284.183\"/>\n",
       "<polygon fill=\"black\" stroke=\"black\" points=\"346.108,-285.941 348.763,-275.684 340.291,-282.046 346.108,-285.941\"/>\n",
       "</g>\n",
       "<!-- 3 -->\n",
       "<g id=\"node4\" class=\"node\"><title>3</title>\n",
       "<path fill=\"#e58139\" fill-opacity=\"0.717647\" stroke=\"black\" d=\"M130,-155.5C130,-155.5 34,-155.5 34,-155.5 28,-155.5 22,-149.5 22,-143.5 22,-143.5 22,-84.5 22,-84.5 22,-78.5 28,-72.5 34,-72.5 34,-72.5 130,-72.5 130,-72.5 136,-72.5 142,-78.5 142,-84.5 142,-84.5 142,-143.5 142,-143.5 142,-149.5 136,-155.5 130,-155.5\"/>\n",
       "<text text-anchor=\"start\" x=\"37\" y=\"-140.3\" font-family=\"Helvetica,sans-Serif\" font-size=\"14.00\">int_rate ≤ 9.58</text>\n",
       "<text text-anchor=\"start\" x=\"45.5\" y=\"-125.3\" font-family=\"Helvetica,sans-Serif\" font-size=\"14.00\">gini = 0.342</text>\n",
       "<text text-anchor=\"start\" x=\"36\" y=\"-110.3\" font-family=\"Helvetica,sans-Serif\" font-size=\"14.00\">samples = 292</text>\n",
       "<text text-anchor=\"start\" x=\"30\" y=\"-95.3\" font-family=\"Helvetica,sans-Serif\" font-size=\"14.00\">value = [228, 64]</text>\n",
       "<text text-anchor=\"start\" x=\"54\" y=\"-80.3\" font-family=\"Helvetica,sans-Serif\" font-size=\"14.00\">class = 0</text>\n",
       "</g>\n",
       "<!-- 2&#45;&gt;3 -->\n",
       "<g id=\"edge3\" class=\"edge\"><title>2&#45;&gt;3</title>\n",
       "<path fill=\"none\" stroke=\"black\" d=\"M171.852,-192.391C160.658,-182.749 148.619,-172.38 137.105,-162.463\"/>\n",
       "<polygon fill=\"black\" stroke=\"black\" points=\"139.096,-159.558 129.235,-155.684 134.527,-164.862 139.096,-159.558\"/>\n",
       "</g>\n",
       "<!-- 22 -->\n",
       "<g id=\"node7\" class=\"node\"><title>22</title>\n",
       "<path fill=\"#e58139\" fill-opacity=\"0.898039\" stroke=\"black\" d=\"M268,-155.5C268,-155.5 172,-155.5 172,-155.5 166,-155.5 160,-149.5 160,-143.5 160,-143.5 160,-84.5 160,-84.5 160,-78.5 166,-72.5 172,-72.5 172,-72.5 268,-72.5 268,-72.5 274,-72.5 280,-78.5 280,-84.5 280,-84.5 280,-143.5 280,-143.5 280,-149.5 274,-155.5 268,-155.5\"/>\n",
       "<text text-anchor=\"start\" x=\"183\" y=\"-140.3\" font-family=\"Helvetica,sans-Serif\" font-size=\"14.00\">dti ≤ 32.785</text>\n",
       "<text text-anchor=\"start\" x=\"183.5\" y=\"-125.3\" font-family=\"Helvetica,sans-Serif\" font-size=\"14.00\">gini = 0.167</text>\n",
       "<text text-anchor=\"start\" x=\"174\" y=\"-110.3\" font-family=\"Helvetica,sans-Serif\" font-size=\"14.00\">samples = 696</text>\n",
       "<text text-anchor=\"start\" x=\"168\" y=\"-95.3\" font-family=\"Helvetica,sans-Serif\" font-size=\"14.00\">value = [632, 64]</text>\n",
       "<text text-anchor=\"start\" x=\"192\" y=\"-80.3\" font-family=\"Helvetica,sans-Serif\" font-size=\"14.00\">class = 0</text>\n",
       "</g>\n",
       "<!-- 2&#45;&gt;22 -->\n",
       "<g id=\"edge6\" class=\"edge\"><title>2&#45;&gt;22</title>\n",
       "<path fill=\"none\" stroke=\"black\" d=\"M219.344,-192.391C219.416,-183.862 219.494,-174.763 219.569,-165.912\"/>\n",
       "<polygon fill=\"black\" stroke=\"black\" points=\"223.07,-165.713 219.655,-155.684 216.071,-165.654 223.07,-165.713\"/>\n",
       "</g>\n",
       "<!-- 4 -->\n",
       "<g id=\"node5\" class=\"node\"><title>4</title>\n",
       "<path fill=\"#c0c0c0\" stroke=\"black\" d=\"M42,-36C42,-36 12,-36 12,-36 6,-36 0,-30 0,-24 0,-24 0,-12 0,-12 0,-6 6,-0 12,-0 12,-0 42,-0 42,-0 48,-0 54,-6 54,-12 54,-12 54,-24 54,-24 54,-30 48,-36 42,-36\"/>\n",
       "<text text-anchor=\"middle\" x=\"27\" y=\"-14.3\" font-family=\"Helvetica,sans-Serif\" font-size=\"14.00\">(...)</text>\n",
       "</g>\n",
       "<!-- 3&#45;&gt;4 -->\n",
       "<g id=\"edge4\" class=\"edge\"><title>3&#45;&gt;4</title>\n",
       "<path fill=\"none\" stroke=\"black\" d=\"M58.1961,-72.3169C52.7381,-62.9887 47.0822,-53.3223 42.1097,-44.8239\"/>\n",
       "<polygon fill=\"black\" stroke=\"black\" points=\"45.095,-42.9953 37.0239,-36.1317 39.0532,-46.5304 45.095,-42.9953\"/>\n",
       "</g>\n",
       "<!-- 5 -->\n",
       "<g id=\"node6\" class=\"node\"><title>5</title>\n",
       "<path fill=\"#c0c0c0\" stroke=\"black\" d=\"M114,-36C114,-36 84,-36 84,-36 78,-36 72,-30 72,-24 72,-24 72,-12 72,-12 72,-6 78,-0 84,-0 84,-0 114,-0 114,-0 120,-0 126,-6 126,-12 126,-12 126,-24 126,-24 126,-30 120,-36 114,-36\"/>\n",
       "<text text-anchor=\"middle\" x=\"99\" y=\"-14.3\" font-family=\"Helvetica,sans-Serif\" font-size=\"14.00\">(...)</text>\n",
       "</g>\n",
       "<!-- 3&#45;&gt;5 -->\n",
       "<g id=\"edge5\" class=\"edge\"><title>3&#45;&gt;5</title>\n",
       "<path fill=\"none\" stroke=\"black\" d=\"M89.3576,-72.3169C90.9549,-63.4849 92.607,-54.3497 94.0827,-46.1897\"/>\n",
       "<polygon fill=\"black\" stroke=\"black\" points=\"97.5661,-46.595 95.9017,-36.1317 90.6779,-45.3492 97.5661,-46.595\"/>\n",
       "</g>\n",
       "<!-- 23 -->\n",
       "<g id=\"node8\" class=\"node\"><title>23</title>\n",
       "<path fill=\"#c0c0c0\" stroke=\"black\" d=\"M219,-36C219,-36 189,-36 189,-36 183,-36 177,-30 177,-24 177,-24 177,-12 177,-12 177,-6 183,-0 189,-0 189,-0 219,-0 219,-0 225,-0 231,-6 231,-12 231,-12 231,-24 231,-24 231,-30 225,-36 219,-36\"/>\n",
       "<text text-anchor=\"middle\" x=\"204\" y=\"-14.3\" font-family=\"Helvetica,sans-Serif\" font-size=\"14.00\">(...)</text>\n",
       "</g>\n",
       "<!-- 22&#45;&gt;23 -->\n",
       "<g id=\"edge7\" class=\"edge\"><title>22&#45;&gt;23</title>\n",
       "<path fill=\"none\" stroke=\"black\" d=\"M213.075,-72.3169C211.572,-63.4849 210.017,-54.3497 208.628,-46.1897\"/>\n",
       "<polygon fill=\"black\" stroke=\"black\" points=\"212.044,-45.4026 206.916,-36.1317 205.144,-46.5773 212.044,-45.4026\"/>\n",
       "</g>\n",
       "<!-- 62 -->\n",
       "<g id=\"node9\" class=\"node\"><title>62</title>\n",
       "<path fill=\"#c0c0c0\" stroke=\"black\" d=\"M291,-36C291,-36 261,-36 261,-36 255,-36 249,-30 249,-24 249,-24 249,-12 249,-12 249,-6 255,-0 261,-0 261,-0 291,-0 291,-0 297,-0 303,-6 303,-12 303,-12 303,-24 303,-24 303,-30 297,-36 291,-36\"/>\n",
       "<text text-anchor=\"middle\" x=\"276\" y=\"-14.3\" font-family=\"Helvetica,sans-Serif\" font-size=\"14.00\">(...)</text>\n",
       "</g>\n",
       "<!-- 22&#45;&gt;62 -->\n",
       "<g id=\"edge8\" class=\"edge\"><title>22&#45;&gt;62</title>\n",
       "<path fill=\"none\" stroke=\"black\" d=\"M244.237,-72.3169C249.794,-62.9887 255.553,-53.3223 260.616,-44.8239\"/>\n",
       "<polygon fill=\"black\" stroke=\"black\" points=\"263.683,-46.5141 265.794,-36.1317 257.669,-42.9314 263.683,-46.5141\"/>\n",
       "</g>\n",
       "<!-- 64 -->\n",
       "<g id=\"node11\" class=\"node\"><title>64</title>\n",
       "<path fill=\"#e58139\" fill-opacity=\"0.694118\" stroke=\"black\" d=\"M438,-155.5C438,-155.5 312,-155.5 312,-155.5 306,-155.5 300,-149.5 300,-143.5 300,-143.5 300,-84.5 300,-84.5 300,-78.5 306,-72.5 312,-72.5 312,-72.5 438,-72.5 438,-72.5 444,-72.5 450,-78.5 450,-84.5 450,-84.5 450,-143.5 450,-143.5 450,-149.5 444,-155.5 438,-155.5\"/>\n",
       "<text text-anchor=\"start\" x=\"308\" y=\"-140.3\" font-family=\"Helvetica,sans-Serif\" font-size=\"14.00\">annual_inc ≤ 73750.0</text>\n",
       "<text text-anchor=\"start\" x=\"342.5\" y=\"-125.3\" font-family=\"Helvetica,sans-Serif\" font-size=\"14.00\">gini = 0.36</text>\n",
       "<text text-anchor=\"start\" x=\"329\" y=\"-110.3\" font-family=\"Helvetica,sans-Serif\" font-size=\"14.00\">samples = 651</text>\n",
       "<text text-anchor=\"start\" x=\"319\" y=\"-95.3\" font-family=\"Helvetica,sans-Serif\" font-size=\"14.00\">value = [498, 153]</text>\n",
       "<text text-anchor=\"start\" x=\"347\" y=\"-80.3\" font-family=\"Helvetica,sans-Serif\" font-size=\"14.00\">class = 0</text>\n",
       "</g>\n",
       "<!-- 63&#45;&gt;64 -->\n",
       "<g id=\"edge10\" class=\"edge\"><title>63&#45;&gt;64</title>\n",
       "<path fill=\"none\" stroke=\"black\" d=\"M375.656,-192.391C375.584,-183.862 375.506,-174.763 375.431,-165.912\"/>\n",
       "<polygon fill=\"black\" stroke=\"black\" points=\"378.929,-165.654 375.345,-155.684 371.93,-165.713 378.929,-165.654\"/>\n",
       "</g>\n",
       "<!-- 93 -->\n",
       "<g id=\"node14\" class=\"node\"><title>93</title>\n",
       "<path fill=\"#e58139\" fill-opacity=\"0.239216\" stroke=\"black\" d=\"M569.25,-155.5C569.25,-155.5 480.75,-155.5 480.75,-155.5 474.75,-155.5 468.75,-149.5 468.75,-143.5 468.75,-143.5 468.75,-84.5 468.75,-84.5 468.75,-78.5 474.75,-72.5 480.75,-72.5 480.75,-72.5 569.25,-72.5 569.25,-72.5 575.25,-72.5 581.25,-78.5 581.25,-84.5 581.25,-84.5 581.25,-143.5 581.25,-143.5 581.25,-149.5 575.25,-155.5 569.25,-155.5\"/>\n",
       "<text text-anchor=\"start\" x=\"488\" y=\"-140.3\" font-family=\"Helvetica,sans-Serif\" font-size=\"14.00\">dti ≤ 30.545</text>\n",
       "<text text-anchor=\"start\" x=\"488.5\" y=\"-125.3\" font-family=\"Helvetica,sans-Serif\" font-size=\"14.00\">gini = 0.491</text>\n",
       "<text text-anchor=\"start\" x=\"479\" y=\"-110.3\" font-family=\"Helvetica,sans-Serif\" font-size=\"14.00\">samples = 139</text>\n",
       "<text text-anchor=\"start\" x=\"476.5\" y=\"-95.3\" font-family=\"Helvetica,sans-Serif\" font-size=\"14.00\">value = [79, 60]</text>\n",
       "<text text-anchor=\"start\" x=\"497\" y=\"-80.3\" font-family=\"Helvetica,sans-Serif\" font-size=\"14.00\">class = 0</text>\n",
       "</g>\n",
       "<!-- 63&#45;&gt;93 -->\n",
       "<g id=\"edge13\" class=\"edge\"><title>63&#45;&gt;93</title>\n",
       "<path fill=\"none\" stroke=\"black\" d=\"M427.277,-192.391C439.569,-182.657 452.798,-172.18 465.429,-162.177\"/>\n",
       "<polygon fill=\"black\" stroke=\"black\" points=\"467.962,-164.636 473.628,-155.684 463.616,-159.148 467.962,-164.636\"/>\n",
       "</g>\n",
       "<!-- 65 -->\n",
       "<g id=\"node12\" class=\"node\"><title>65</title>\n",
       "<path fill=\"#c0c0c0\" stroke=\"black\" d=\"M368,-36C368,-36 338,-36 338,-36 332,-36 326,-30 326,-24 326,-24 326,-12 326,-12 326,-6 332,-0 338,-0 338,-0 368,-0 368,-0 374,-0 380,-6 380,-12 380,-12 380,-24 380,-24 380,-30 374,-36 368,-36\"/>\n",
       "<text text-anchor=\"middle\" x=\"353\" y=\"-14.3\" font-family=\"Helvetica,sans-Serif\" font-size=\"14.00\">(...)</text>\n",
       "</g>\n",
       "<!-- 64&#45;&gt;65 -->\n",
       "<g id=\"edge11\" class=\"edge\"><title>64&#45;&gt;65</title>\n",
       "<path fill=\"none\" stroke=\"black\" d=\"M365.478,-72.3169C363.388,-63.3856 361.225,-54.1444 359.299,-45.915\"/>\n",
       "<polygon fill=\"black\" stroke=\"black\" points=\"362.696,-45.071 357.01,-36.1317 355.881,-46.6663 362.696,-45.071\"/>\n",
       "</g>\n",
       "<!-- 76 -->\n",
       "<g id=\"node13\" class=\"node\"><title>76</title>\n",
       "<path fill=\"#c0c0c0\" stroke=\"black\" d=\"M440,-36C440,-36 410,-36 410,-36 404,-36 398,-30 398,-24 398,-24 398,-12 398,-12 398,-6 404,-0 410,-0 410,-0 440,-0 440,-0 446,-0 452,-6 452,-12 452,-12 452,-24 452,-24 452,-30 446,-36 440,-36\"/>\n",
       "<text text-anchor=\"middle\" x=\"425\" y=\"-14.3\" font-family=\"Helvetica,sans-Serif\" font-size=\"14.00\">(...)</text>\n",
       "</g>\n",
       "<!-- 64&#45;&gt;76 -->\n",
       "<g id=\"edge12\" class=\"edge\"><title>64&#45;&gt;76</title>\n",
       "<path fill=\"none\" stroke=\"black\" d=\"M396.64,-72.3169C401.549,-63.0879 406.634,-53.528 411.119,-45.0955\"/>\n",
       "<polygon fill=\"black\" stroke=\"black\" points=\"414.281,-46.6041 415.887,-36.1317 408.101,-43.3168 414.281,-46.6041\"/>\n",
       "</g>\n",
       "<!-- 94 -->\n",
       "<g id=\"node15\" class=\"node\"><title>94</title>\n",
       "<path fill=\"#c0c0c0\" stroke=\"black\" d=\"M518,-36C518,-36 488,-36 488,-36 482,-36 476,-30 476,-24 476,-24 476,-12 476,-12 476,-6 482,-0 488,-0 488,-0 518,-0 518,-0 524,-0 530,-6 530,-12 530,-12 530,-24 530,-24 530,-30 524,-36 518,-36\"/>\n",
       "<text text-anchor=\"middle\" x=\"503\" y=\"-14.3\" font-family=\"Helvetica,sans-Serif\" font-size=\"14.00\">(...)</text>\n",
       "</g>\n",
       "<!-- 93&#45;&gt;94 -->\n",
       "<g id=\"edge14\" class=\"edge\"><title>93&#45;&gt;94</title>\n",
       "<path fill=\"none\" stroke=\"black\" d=\"M515.478,-72.3169C513.388,-63.3856 511.225,-54.1444 509.299,-45.915\"/>\n",
       "<polygon fill=\"black\" stroke=\"black\" points=\"512.696,-45.071 507.01,-36.1317 505.881,-46.6663 512.696,-45.071\"/>\n",
       "</g>\n",
       "<!-- 95 -->\n",
       "<g id=\"node16\" class=\"node\"><title>95</title>\n",
       "<path fill=\"#c0c0c0\" stroke=\"black\" d=\"M590,-36C590,-36 560,-36 560,-36 554,-36 548,-30 548,-24 548,-24 548,-12 548,-12 548,-6 554,-0 560,-0 560,-0 590,-0 590,-0 596,-0 602,-6 602,-12 602,-12 602,-24 602,-24 602,-30 596,-36 590,-36\"/>\n",
       "<text text-anchor=\"middle\" x=\"575\" y=\"-14.3\" font-family=\"Helvetica,sans-Serif\" font-size=\"14.00\">(...)</text>\n",
       "</g>\n",
       "<!-- 93&#45;&gt;95 -->\n",
       "<g id=\"edge15\" class=\"edge\"><title>93&#45;&gt;95</title>\n",
       "<path fill=\"none\" stroke=\"black\" d=\"M546.64,-72.3169C551.549,-63.0879 556.634,-53.528 561.119,-45.0955\"/>\n",
       "<polygon fill=\"black\" stroke=\"black\" points=\"564.281,-46.6041 565.887,-36.1317 558.101,-43.3168 564.281,-46.6041\"/>\n",
       "</g>\n",
       "</g>\n",
       "</svg>\n"
      ],
      "text/plain": [
       "<graphviz.files.Source at 0x117afb048>"
      ]
     },
     "execution_count": 151,
     "metadata": {},
     "output_type": "execute_result"
    }
   ],
   "source": [
    "# Visualize decision tree\n",
    "from sklearn import tree\n",
    "import graphviz\n",
    "\n",
    "feature_names = df.drop(columns='class').columns.tolist()\n",
    "tree_visual = tree.export_graphviz(dtc, out_file=None, max_depth=3,\n",
    "                                   feature_names=feature_names,\n",
    "                                   class_names=['0', '1'],\n",
    "                                   filled=True, rounded=True, special_characters=True)\n",
    "graph = graphviz.Source(tree_visual)\n",
    "graph"
   ]
  },
  {
   "cell_type": "markdown",
   "metadata": {},
   "source": [
    "#### (e) Analyze the effects of three different filtering methods (independently) on the decision tree. After filtering the variables, re-determine the optimal parameters and report the AUC on the test set as a direct comparison to part (c).\n",
    "1. **Remove “highly” correlated variables. Note what metric you decide to use as correlation, and what your threshold for high is.**\n",
    "2. **Rank the features based on the correlation criteria discussed in class. Based on the correlation results, justify your selection of the top k features.**\n",
    "3. **Rank the features based on the mutual information criteria. Based on the results, justify your selection of the top k features.**"
   ]
  },
  {
   "cell_type": "markdown",
   "metadata": {},
   "source": [
    "1. Filter out highly correlated variables.\n",
    "    * Use the Pearson correlation coefficient matrix of features on training set: $R(x_i, x_j) = \\dfrac{Cov(x_i, y)}{\\sqrt{Var(x_i)Var(x_j)}}$\n",
    "    * Remove features that have high correlation coefficients (above certain threshold) with others.\n",
    "    * The threshold used here is $0.95$."
   ]
  },
  {
   "cell_type": "code",
   "execution_count": 189,
   "metadata": {},
   "outputs": [],
   "source": [
    "# Define method to filter out highly correlated features\n",
    "def filter_highly_correlated_features(X_train, threshold):\n",
    "    X_cov_abs_upper = np.absolute(np.triu(np.corrcoef(X_train, rowvar=False), k=1))\n",
    "    col_to_remove = []\n",
    "    for i in range(X_cov_abs_upper.shape[0]):\n",
    "        if any(X_cov_abs_upper[:,i] > 0.95):\n",
    "            col_to_remove.append(i)\n",
    "    return np.delete(X_train, col_to_remove, axis=1), col_to_remove"
   ]
  },
  {
   "cell_type": "code",
   "execution_count": 190,
   "metadata": {},
   "outputs": [
    {
     "name": "stdout",
     "output_type": "stream",
     "text": [
      "After filtering out highly correlated features, the new training set has 35 features.\n",
      "The column indices of removed features are: [3, 4]\n"
     ]
    }
   ],
   "source": [
    "# Apply method to filter out highly correlated features\n",
    "X_train_f1, col_removed_f1 = filter_highly_correlated_features(X_train, 0.95)\n",
    "print('After filtering out highly correlated features, the new training set has %d features.' % X_train_f1.shape[1])\n",
    "print('The column indices of removed features are: ', end =\"\")\n",
    "print(col_removed_f1)"
   ]
  },
  {
   "cell_type": "code",
   "execution_count": 166,
   "metadata": {},
   "outputs": [
    {
     "name": "stdout",
     "output_type": "stream",
     "text": [
      "The best AUC is 0.808 when max_depth = 11 and min_samples_split ratio is 0.283.\n"
     ]
    },
    {
     "data": {
      "image/png": "[encoded data removed]",
      "text/plain": [
       "<Figure size 432x288 with 1 Axes>"
      ]
     },
     "metadata": {
      "needs_background": "light"
     },
     "output_type": "display_data"
    }
   ],
   "source": [
    "# Search hyper-parameters using new training set\n",
    "max_depth_opt_f1, min_leaf_opt_f1 = search_hyperparams_by_kfold(dtc, list_max_depth, list_min_leaf, X_train_f1, y_train, 10)"
   ]
  },
  {
   "cell_type": "code",
   "execution_count": 167,
   "metadata": {},
   "outputs": [
    {
     "name": "stdout",
     "output_type": "stream",
     "text": [
      "Using filtering out highly correlated features, the AUC on test set is 0.809\n"
     ]
    }
   ],
   "source": [
    "# Train decision tree using new optimal hyperparameters\n",
    "X_test_f1 = np.delete(X_test, col_removed_f1, axis=1)\n",
    "\n",
    "auc_f1 = train_and_evaluate(dtc, max_depth_opt_f1, min_leaf_opt_f1, X_train_f1, y_train, X_test_f1, y_test)\n",
    "print('Using filtering out highly correlated features, the AUC on test set is %.3f' % auc_f1)"
   ]
  },
  {
   "cell_type": "markdown",
   "metadata": {},
   "source": [
    "2. Select features based on correlation criteria.\n",
    "    * Rank features in order of their correlation with the labels: $R(x_d, y) = \\dfrac{Cov(x_d, y)}{\\sqrt{Var(x_d)Var(y)}}$\n",
    "    * Select top k features."
   ]
  },
  {
   "cell_type": "code",
   "execution_count": 209,
   "metadata": {},
   "outputs": [],
   "source": [
    "# Define method to compute correlation coefficients between features and target\n",
    "def compute_corr_w_target(X_train, y_train):\n",
    "    corr_coefs = []\n",
    "    for i in range(X_train.shape[1]):\n",
    "        tmp_matrix = np.vstack((X_train[:, i], y_train))\n",
    "        corr_coefs.append((np.corrcoef(tmp_matrix))[0, 1])\n",
    "    return np.array(corr_coefs)"
   ]
  },
  {
   "cell_type": "code",
   "execution_count": 215,
   "metadata": {},
   "outputs": [
    {
     "data": {
      "text/plain": [
       "array([2.40874772e-05, 1.80411556e-03, 2.36671208e-03, 2.52985688e-03,\n",
       "       2.82581210e-03, 2.96934384e-03, 5.39013350e-03, 9.72478562e-03,\n",
       "       1.17551417e-02, 1.24153220e-02, 2.30782473e-02, 2.45239549e-02,\n",
       "       2.54322806e-02, 2.69174055e-02, 2.73151348e-02, 3.01341438e-02,\n",
       "       3.37069544e-02, 3.39086852e-02, 3.40713372e-02, 3.51753424e-02,\n",
       "       3.56334744e-02, 5.21045316e-02, 5.44875448e-02, 6.34294072e-02,\n",
       "       6.64510703e-02, 6.66296984e-02, 6.85205570e-02, 7.63032369e-02,\n",
       "       8.25201776e-02, 8.61937275e-02, 1.07199330e-01, 1.25669017e-01,\n",
       "       1.39999673e-01, 1.81235281e-01, 2.36437311e-01, 2.50341144e-01,\n",
       "       4.51968145e-01])"
      ]
     },
     "execution_count": 215,
     "metadata": {},
     "output_type": "execute_result"
    }
   ],
   "source": [
    "# Print out absolute values of correlation coefficients by ASC order\n",
    "corr_coefs_f2_abs = np.absolute(compute_corr_w_target(X_train, y_train))\n",
    "np.sort(corr_coefs_f2_abs)"
   ]
  },
  {
   "cell_type": "markdown",
   "metadata": {},
   "source": [
    "By observation, there are $6$ features that have correlation coefficients with target $< 0.005$. Set the threshold as $0.005$."
   ]
  },
  {
   "cell_type": "code",
   "execution_count": 226,
   "metadata": {},
   "outputs": [
    {
     "name": "stdout",
     "output_type": "stream",
     "text": [
      "The column indices of removed features are: \n",
      "[[12]\n",
      " [18]\n",
      " [20]\n",
      " [27]\n",
      " [32]\n",
      " [36]]\n"
     ]
    }
   ],
   "source": [
    "# Get column indices with low correlation with target\n",
    "col_to_remove_f2 = np.argwhere(corr_coefs_f2_abs < 5e-3)\n",
    "print('The column indices of removed features are: ')\n",
    "print(col_to_remove_f2)\n",
    "\n",
    "# Filter out features/columns with low correlation with target\n",
    "X_train_f2 = np.delete(X_train, col_to_remove_f2, axis=1)\n",
    "X_test_f2 = np.delete(X_test, col_to_remove_f2, axis=1)"
   ]
  },
  {
   "cell_type": "code",
   "execution_count": 228,
   "metadata": {},
   "outputs": [
    {
     "name": "stdout",
     "output_type": "stream",
     "text": [
      "The best AUC is 0.805 when max_depth = 7 and min_samples_split ratio is 0.128.\n"
     ]
    },
    {
     "data": {
      "image/png": "[encoded data removed]",
      "text/plain": [
       "<Figure size 432x288 with 1 Axes>"
      ]
     },
     "metadata": {
      "needs_background": "light"
     },
     "output_type": "display_data"
    }
   ],
   "source": [
    "# Search hyper-parameters using new training set\n",
    "max_depth_opt_f2, min_leaf_opt_f2 = search_hyperparams_by_kfold(dtc, list_max_depth, list_min_leaf, X_train_f2, y_train, 10)"
   ]
  },
  {
   "cell_type": "code",
   "execution_count": 229,
   "metadata": {},
   "outputs": [
    {
     "name": "stdout",
     "output_type": "stream",
     "text": [
      "Using filtering out features with low correlation with target, the AUC on test set is 0.792\n"
     ]
    }
   ],
   "source": [
    "# Train decision tree using new optimal hyperparameters\n",
    "auc_f2 = train_and_evaluate(dtc, max_depth_opt_f2, min_leaf_opt_f2, X_train_f2, y_train, X_test_f2, y_test)\n",
    "print('Using filtering out features with low correlation with target, the AUC on test set is %.3f' % auc_f2)"
   ]
  },
  {
   "cell_type": "markdown",
   "metadata": {},
   "source": []
  }
 ],
 "metadata": {
  "kernelspec": {
   "display_name": "Python 3",
   "language": "python",
   "name": "python3"
  },
  "language_info": {
   "codemirror_mode": {
    "name": "ipython",
    "version": 3
   },
   "file_extension": ".py",
   "mimetype": "text/x-python",
   "name": "python",
   "nbconvert_exporter": "python",
   "pygments_lexer": "ipython3",
   "version": "3.6.6"
  }
 },
 "nbformat": 4,
 "nbformat_minor": 1
}
