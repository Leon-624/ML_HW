{
 "cells": [
  {
   "cell_type": "code",
   "execution_count": 1,
   "metadata": {},
   "outputs": [],
   "source": [
    "# Import and setup\n",
    "import numpy as np\n",
    "import pandas as pd\n",
    "pd.options.display.max_columns = None\n",
    "import matplotlib.pyplot as plt\n",
    "import gc\n",
    "%matplotlib inline"
   ]
  },
  {
   "cell_type": "code",
   "execution_count": 2,
   "metadata": {},
   "outputs": [],
   "source": [
    "filename_output = 'tune_lg.output'\n",
    "with open(filename_output, 'a') as f:\n",
    "    f.write('%s starts\\n' % ('PUBG_LightGBM_Tune'))"
   ]
  },
  {
   "cell_type": "code",
   "execution_count": 3,
   "metadata": {},
   "outputs": [],
   "source": [
    "# For debug: load processed data from saved file directly\n",
    "df_train = pd.read_csv('df_train.csv')\n",
    "df_train_meta = pd.read_csv('df_train_meta.csv')\n",
    "df_train_weight = pd.read_csv('df_train_weight.csv')\n",
    "weight_train = df_train_weight['weight_train'].values\n",
    "df_train_weight = None"
   ]
  },
  {
   "cell_type": "code",
   "execution_count": 4,
   "metadata": {},
   "outputs": [],
   "source": [
    "def reduce_mem_usage(df):\n",
    "    \"\"\" iterate through all the columns of a dataframe and modify the data type\n",
    "        to reduce memory usage.        \n",
    "    \"\"\"\n",
    "    start_mem = df.memory_usage().sum() \n",
    "    print('Memory usage of dataframe is {:.2f} MB'.format(start_mem))\n",
    "    \n",
    "    for col in df.columns:\n",
    "        col_type = df[col].dtype\n",
    "        \n",
    "        if col_type != object:\n",
    "            c_min = df[col].min()\n",
    "            c_max = df[col].max()\n",
    "            if str(col_type)[:3] == 'int':\n",
    "                if c_min > np.iinfo(np.int8).min and c_max < np.iinfo(np.int8).max:\n",
    "                    df[col] = df[col].astype(np.int8)\n",
    "                elif c_min > np.iinfo(np.int16).min and c_max < np.iinfo(np.int16).max:\n",
    "                    df[col] = df[col].astype(np.int16)\n",
    "                elif c_min > np.iinfo(np.int32).min and c_max < np.iinfo(np.int32).max:\n",
    "                    df[col] = df[col].astype(np.int32)\n",
    "                elif c_min > np.iinfo(np.int64).min and c_max < np.iinfo(np.int64).max:\n",
    "                    df[col] = df[col].astype(np.int64)  \n",
    "            else:\n",
    "                if c_min > np.finfo(np.float16).min and c_max < np.finfo(np.float16).max:\n",
    "                    df[col] = df[col].astype(np.float16)\n",
    "                elif c_min > np.finfo(np.float32).min and c_max < np.finfo(np.float32).max:\n",
    "                    df[col] = df[col].astype(np.float32)\n",
    "                else:\n",
    "                    df[col] = df[col].astype(np.float64)\n",
    "        else:\n",
    "            df[col] = df[col].astype('category')\n",
    "\n",
    "    end_mem = df.memory_usage().sum() \n",
    "    print('Memory usage after optimization is: {:.2f} MB'.format(end_mem))\n",
    "    print('Decreased by {:.1f}%'.format(100 * (start_mem - end_mem) / start_mem))\n",
    "    \n",
    "    return df\n",
    "\n",
    "# df_train = reduce_mem_usage(df_train)"
   ]
  },
  {
   "cell_type": "code",
   "execution_count": 5,
   "metadata": {},
   "outputs": [
    {
     "name": "stdout",
     "output_type": "stream",
     "text": [
      "(2026744, 548)\n"
     ]
    },
    {
     "data": {
      "text/plain": [
       "11"
      ]
     },
     "execution_count": 5,
     "metadata": {},
     "output_type": "execute_result"
    }
   ],
   "source": [
    "# Get X and y\n",
    "y_train = df_train['winPlacePerc'].values\n",
    "X_train = df_train.drop(columns='winPlacePerc').values\n",
    "\n",
    "feature_name = df_train.columns\n",
    "df_train = None\n",
    "\n",
    "print(X_train.shape)\n",
    "gc.collect()"
   ]
  },
  {
   "cell_type": "code",
   "execution_count": 6,
   "metadata": {},
   "outputs": [],
   "source": [
    "# Define method to search parameters by holdout\n",
    "from sklearn.model_selection import ShuffleSplit\n",
    "from sklearn.metrics import mean_absolute_error\n",
    "import lightgbm as lgb\n",
    "\n",
    "def search_lg_params(X, y, weight, params, l_num_leaves, l_lr, l_bagging_fraction,\n",
    "                     holdout_itr=1, holdout_ratio=0.2):\n",
    "    best_mae_valid = None\n",
    "    best_num_leaves = None\n",
    "    best_lr = None\n",
    "    best_bagging_fraction = None\n",
    "    \n",
    "    for num_leaves in l_num_leaves:\n",
    "        for lr in l_lr:\n",
    "            for bagging_fraction in l_bagging_fraction:\n",
    "                maes = []\n",
    "                ss = ShuffleSplit(n_splits=holdout_itr, test_size=holdout_ratio)\n",
    "                for idx_train, idx_valid in ss.split(X):\n",
    "                    X_train = X[idx_train]\n",
    "                    y_train = y[idx_train]\n",
    "                    X_valid = X[idx_valid]\n",
    "                    y_valid = y[idx_valid]\n",
    "                    weight_train = weight[idx_train]\n",
    "                    weight_valid = weight[idx_valid]\n",
    "                    lgb_data_train = lgb.Dataset(X_train, label=y_train, weight=weight_train, free_raw_data=True)\n",
    "                    \n",
    "                    params['num_leaves'] = num_leaves\n",
    "                    params['learning_rate'] = lr\n",
    "                    params['bagging_fraction'] = bagging_fraction\n",
    "                    \n",
    "                    model = lgb.train(params, lgb_data_train)\n",
    "                    maes.append(mean_absolute_error(y_valid, model.predict(X_valid), sample_weight=weight_valid))\n",
    "                \n",
    "                mae = np.array(maes).mean()\n",
    "                \n",
    "                with open(filename_output, 'a') as f:\n",
    "                    f.write('num_leaves = %d, learning_rate = %.3f, bagging_fraction = %.2f, MAE = %.4f\\n'\n",
    "                            % (num_leaves, lr, bagging_fraction, mae))\n",
    "                \n",
    "                if best_mae_valid is None or mae < best_mae_valid:\n",
    "                    best_mae_valid = mae\n",
    "                    best_num_leaves = num_leaves\n",
    "                    best_lr = lr\n",
    "                    best_bagging_fraction = bagging_fraction\n",
    "    \n",
    "    return best_num_leaves, best_lr, best_bagging_fraction, best_mae_valid"
   ]
  },
  {
   "cell_type": "code",
   "execution_count": null,
   "metadata": {},
   "outputs": [
    {
     "name": "stderr",
     "output_type": "stream",
     "text": [
      "/home/lxu85/playground/lib/python3.5/site-packages/lightgbm/engine.py:116: UserWarning: Found `n_estimators` in params. Will use it instead of argument\n",
      "  warnings.warn(\"Found `{}` in params. Will use it instead of argument\".format(alias))\n"
     ]
    }
   ],
   "source": [
    "# Search params\n",
    "l_num_leaves = [31, 40]\n",
    "l_lr = [0.05, 0.1]\n",
    "l_bagging_fraction = [0.7, 0.9]\n",
    "\n",
    "base_params = {\"objective\" : \"regression\", \"metric\" : \"mae\", 'n_estimators':2000,\n",
    "               \"bagging_seed\" : 0, \"num_threads\" : 4,\"colsample_bytree\" : 0.7\n",
    "         }\n",
    "\n",
    "best_params = search_lg_params(X_train, y_train, weight_train, base_params,\n",
    "                              l_num_leaves, l_lr, l_bagging_fraction,\n",
    "                               holdout_itr=1, holdout_ratio=0.2)"
   ]
  },
  {
   "cell_type": "code",
   "execution_count": null,
   "metadata": {},
   "outputs": [],
   "source": [
    "with open(filename_output, 'a') as f:\n",
    "    f.write('best parameters: num_leaves = %d, learning_rate = %.3f, bagging_fraction = %.2f, MAE = %.4f\\n'\n",
    "                            % (best_params[0], best_params[1], best_params[2], best_params[3]))"
   ]
  },
  {
   "cell_type": "code",
   "execution_count": null,
   "metadata": {},
   "outputs": [],
   "source": []
  }
 ],
 "metadata": {
  "kernelspec": {
   "display_name": "Python 3",
   "language": "python",
   "name": "python3"
  },
  "language_info": {
   "codemirror_mode": {
    "name": "ipython",
    "version": 3
   },
   "file_extension": ".py",
   "mimetype": "text/x-python",
   "name": "python",
   "nbconvert_exporter": "python",
   "pygments_lexer": "ipython3",
   "version": "3.5.2"
  }
 },
 "nbformat": 4,
 "nbformat_minor": 2
}
